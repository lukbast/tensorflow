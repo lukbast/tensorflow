{
  "nbformat": 4,
  "nbformat_minor": 0,
  "metadata": {
    "accelerator": "GPU",
    "colab": {
      "name": "10_SkimLit.ipynb",
      "provenance": [],
      "collapsed_sections": [
        "8IkWdUKE-VSA",
        "PTtxl-1HBfA7",
        "Cr2UqQ9dD4-j",
        "hwmKvYegsmEo",
        "mSAc_4Zxqn2A",
        "3Qq8ICajt-Ai",
        "At6Ts1ibLXsj",
        "-3izmJn2UD8o",
        "umAJvJoPdNk5"
      ],
      "toc_visible": true
    },
    "kernelspec": {
      "display_name": "Python 3",
      "language": "python",
      "name": "python3"
    },
    "language_info": {
      "codemirror_mode": {
        "name": "ipython",
        "version": 3
      },
      "file_extension": ".py",
      "mimetype": "text/x-python",
      "name": "python",
      "nbconvert_exporter": "python",
      "pygments_lexer": "ipython3",
      "version": "3.9.6"
    }
  },
  "cells": [
    {
      "cell_type": "markdown",
      "metadata": {
        "id": "3MxMWustK4kH"
      },
      "source": [
        "# end-to-end SkimLit NLP Deep learning project\n",
        "\n",
        "In this notebook I'll present a process of creating and learning a model which will make reading MedPub articles reading easier.\n",
        "\n",
        "More specificially, I'm going to be replicating the deep learning model behind the 2017 paper PubMed 200k RCT: a [Dataset for Sequenctial Sentence Classification in Medical Abstracts](https://arxiv.org/abs/1710.06071)."
      ]
    },
    {
      "cell_type": "markdown",
      "metadata": {
        "id": "Kmbow754L8ZN"
      },
      "source": [
        "## Data\n",
        "\n",
        "Since I'll be replicating the paper above, I can get it's dataset from authors GitHub https://github.com/Franck-Dernoncourt/pubmed-rct."
      ]
    },
    {
      "cell_type": "code",
      "metadata": {
        "colab": {
          "base_uri": "https://localhost:8080/"
        },
        "id": "xrEn929oMDg1",
        "outputId": "a2c3e8cc-5f3b-487f-af03-52f7265ed8e6"
      },
      "source": [
        "!git clone https://github.com/Franck-Dernoncourt/pubmed-rct.git"
      ],
      "execution_count": null,
      "outputs": [
        {
          "output_type": "stream",
          "name": "stdout",
          "text": [
            "fatal: destination path 'pubmed-rct' already exists and is not an empty directory.\n"
          ]
        }
      ]
    },
    {
      "cell_type": "code",
      "metadata": {
        "colab": {
          "base_uri": "https://localhost:8080/"
        },
        "id": "i2B2hQWSa0wn",
        "outputId": "7474c67b-15bb-44ab-f7c6-b731fae9c48f"
      },
      "source": [
        "# !dir  \"./data/10_SkimLit\" /b # for local env\n",
        "!ls ./pubmed-rct/ # for colab"
      ],
      "execution_count": null,
      "outputs": [
        {
          "output_type": "stream",
          "name": "stdout",
          "text": [
            "PubMed_200k_RCT\n",
            "PubMed_200k_RCT_numbers_replaced_with_at_sign\n",
            "PubMed_20k_RCT\n",
            "PubMed_20k_RCT_numbers_replaced_with_at_sign\n",
            "README.md\n"
          ]
        }
      ]
    },
    {
      "cell_type": "markdown",
      "metadata": {
        "id": "hRcWjAw7bAvo"
      },
      "source": [
        "Data comes with 2 sets. Full set of 200k samples and it's 20k samples subset."
      ]
    },
    {
      "cell_type": "markdown",
      "metadata": {
        "id": "F5r_d-2qbvF9"
      },
      "source": [
        "Start with subsample with numbers replaced with at sign."
      ]
    },
    {
      "cell_type": "code",
      "metadata": {
        "id": "aLfF78B7f3wz"
      },
      "source": [
        "# DATA_DIR = \"./data/10_SkimLit/PubMed_20k_RCT_numbers_replaced_with_at_sign/\" #  for local env \n",
        "DATA_DIR = \"./pubmed-rct/PubMed_20k_RCT_numbers_replaced_with_at_sign/\" # for colab"
      ],
      "execution_count": null,
      "outputs": []
    },
    {
      "cell_type": "code",
      "metadata": {
        "colab": {
          "base_uri": "https://localhost:8080/"
        },
        "id": "Qs0qZsrGcEd4",
        "outputId": "34fd61aa-2400-4754-cbce-3216e1cd9082"
      },
      "source": [
        "# !dir \"./data/10_SkimLit/PubMed_20k_RCT_numbers_replaced_with_at_sign\" /b # for local env\n",
        "!ls  ./pubmed-rct/PubMed_20k_RCT_numbers_replaced_with_at_sign/ # for colab"
      ],
      "execution_count": null,
      "outputs": [
        {
          "output_type": "stream",
          "name": "stdout",
          "text": [
            "dev.txt  test.txt  train.txt\n"
          ]
        }
      ]
    },
    {
      "cell_type": "markdown",
      "metadata": {
        "id": "J3Jx5fZpcOIq"
      },
      "source": [
        "Look like data is already splited into train and test sets."
      ]
    },
    {
      "cell_type": "markdown",
      "metadata": {
        "id": "GCOTQTHbcfgm"
      },
      "source": [
        "### Preprocessing"
      ]
    },
    {
      "cell_type": "code",
      "metadata": {
        "id": "y7my04h9gOvV"
      },
      "source": [
        "def read_lines(path:str) -> list:\n",
        "  \"\"\"\n",
        "  Function takes path of a text file and returns a list of lines.\n",
        "  \"\"\"\n",
        "  list_of_lines = []\n",
        "  with open(path, \"r\") as file_:\n",
        "    list_of_lines = file_.readlines()\n",
        "  \n",
        "  file_.close()\n",
        "  return list_of_lines"
      ],
      "execution_count": null,
      "outputs": []
    },
    {
      "cell_type": "code",
      "metadata": {
        "id": "VqmZ4ReihGrV"
      },
      "source": [
        "train_as_lines = read_lines(DATA_DIR + \"/train.txt\")"
      ],
      "execution_count": null,
      "outputs": []
    },
    {
      "cell_type": "code",
      "metadata": {
        "colab": {
          "base_uri": "https://localhost:8080/"
        },
        "id": "RfyL0CsOiFCa",
        "outputId": "d69f9b25-c77f-41ca-c081-bea1981f2b5e"
      },
      "source": [
        "train_as_lines[:20]"
      ],
      "execution_count": null,
      "outputs": [
        {
          "output_type": "execute_result",
          "data": {
            "text/plain": [
              "['###24293578\\n',\n",
              " 'OBJECTIVE\\tTo investigate the efficacy of @ weeks of daily low-dose oral prednisolone in improving pain , mobility , and systemic low-grade inflammation in the short term and whether the effect would be sustained at @ weeks in older adults with moderate to severe knee osteoarthritis ( OA ) .\\n',\n",
              " 'METHODS\\tA total of @ patients with primary knee OA were randomized @:@ ; @ received @ mg/day of prednisolone and @ received placebo for @ weeks .\\n',\n",
              " 'METHODS\\tOutcome measures included pain reduction and improvement in function scores and systemic inflammation markers .\\n',\n",
              " 'METHODS\\tPain was assessed using the visual analog pain scale ( @-@ mm ) .\\n',\n",
              " 'METHODS\\tSecondary outcome measures included the Western Ontario and McMaster Universities Osteoarthritis Index scores , patient global assessment ( PGA ) of the severity of knee OA , and @-min walk distance ( @MWD ) .\\n',\n",
              " 'METHODS\\tSerum levels of interleukin @ ( IL-@ ) , IL-@ , tumor necrosis factor ( TNF ) - , and high-sensitivity C-reactive protein ( hsCRP ) were measured .\\n',\n",
              " 'RESULTS\\tThere was a clinically relevant reduction in the intervention group compared to the placebo group for knee pain , physical function , PGA , and @MWD at @ weeks .\\n',\n",
              " 'RESULTS\\tThe mean difference between treatment arms ( @ % CI ) was @ ( @-@ @ ) , p < @ ; @ ( @-@ @ ) , p < @ ; @ ( @-@ @ ) , p < @ ; and @ ( @-@ @ ) , p < @ , respectively .\\n',\n",
              " 'RESULTS\\tFurther , there was a clinically relevant reduction in the serum levels of IL-@ , IL-@ , TNF - , and hsCRP at @ weeks in the intervention group when compared to the placebo group .\\n',\n",
              " 'RESULTS\\tThese differences remained significant at @ weeks .\\n',\n",
              " 'RESULTS\\tThe Outcome Measures in Rheumatology Clinical Trials-Osteoarthritis Research Society International responder rate was @ % in the intervention group and @ % in the placebo group ( p < @ ) .\\n',\n",
              " 'CONCLUSIONS\\tLow-dose oral prednisolone had both a short-term and a longer sustained effect resulting in less knee pain , better physical function , and attenuation of systemic inflammation in older patients with knee OA ( ClinicalTrials.gov identifier NCT@ ) .\\n',\n",
              " '\\n',\n",
              " '###24854809\\n',\n",
              " 'BACKGROUND\\tEmotional eating is associated with overeating and the development of obesity .\\n',\n",
              " 'BACKGROUND\\tYet , empirical evidence for individual ( trait ) differences in emotional eating and cognitive mechanisms that contribute to eating during sad mood remain equivocal .\\n',\n",
              " 'OBJECTIVE\\tThe aim of this study was to test if attention bias for food moderates the effect of self-reported emotional eating during sad mood ( vs neutral mood ) on actual food intake .\\n',\n",
              " 'OBJECTIVE\\tIt was expected that emotional eating is predictive of elevated attention for food and higher food intake after an experimentally induced sad mood and that attentional maintenance on food predicts food intake during a sad versus a neutral mood .\\n',\n",
              " 'METHODS\\tParticipants ( N = @ ) were randomly assigned to one of the two experimental mood induction conditions ( sad/neutral ) .\\n']"
            ]
          },
          "metadata": {},
          "execution_count": 30
        }
      ]
    },
    {
      "cell_type": "code",
      "metadata": {
        "id": "mJcLeQeasllm"
      },
      "source": [
        "def preprocess_data(filename: str):\n",
        "  \"\"\"\n",
        "  Returns a list of dictionariesmof abstract line data.\n",
        "  Takes in filename, read it contents and sorts by each line, extracting things\n",
        "  like the target label, text of the sentence, how many sentences are in the\n",
        "  current abstract and what sentence number the target line is.\n",
        "  \"\"\"\n",
        "\n",
        "  input_lines = read_lines(filename) # get all kines from filename\n",
        "  abstract_lines = \"\" # Create an empty abstract\n",
        "  abstract_samples = [] # create an empty list of abstracts\n",
        "\n",
        "  # Loop by each line in the target file\n",
        "  for line in input_lines:\n",
        "    if line.startswith(\"###\"): # Chech to see if line is ID line\n",
        "      abstract_id = line\n",
        "      abstract_lines = \"\" # reset the abstract string if the line is an ID line\n",
        "    elif line.isspace(): # check to see if line is a new line\n",
        "      abstract_line_split = abstract_lines.splitlines() # splot abstract into separate lines\n",
        "      # Iterate by each line in a single abstract and count them at the same time\n",
        "      for abstract_line_number, abstract_line in enumerate(abstract_line_split):\n",
        "        line_data = {}\n",
        "        target_text_split = abstract_line.split(\"\\t\") # split target from text\n",
        "        line_data[\"target\"] = target_text_split[0] # get target label\n",
        "        line_data[\"text\"] = target_text_split[1].casefold() # Get target text and casefold it\n",
        "        line_data[\"line_number\"] = abstract_line_number # what number line does the line apperars in the abstract\n",
        "        line_data[\"total_lines\"] = len(abstract_line_split) - 1 \n",
        "        abstract_samples.append(line_data) # adds line to the rest of samples      \n",
        "\n",
        "    else:\n",
        "      # If the above conditions aren't fulfilled, the line contains a labeled sentence\n",
        "      abstract_lines += line\n",
        "\n",
        "\n",
        "  return abstract_samples\n"
      ],
      "execution_count": null,
      "outputs": []
    },
    {
      "cell_type": "code",
      "metadata": {
        "id": "m69YF32v71LK"
      },
      "source": [
        "train_samples = preprocess_data(DATA_DIR+'/train.txt')  \n",
        "val_samples = preprocess_data(DATA_DIR+'/dev.txt')\n",
        "test_samples = preprocess_data(DATA_DIR+'/test.txt')  "
      ],
      "execution_count": null,
      "outputs": []
    },
    {
      "cell_type": "markdown",
      "metadata": {
        "id": "8IkWdUKE-VSA"
      },
      "source": [
        "### Visualization"
      ]
    },
    {
      "cell_type": "code",
      "metadata": {
        "id": "w-H55Y068IPr"
      },
      "source": [
        "import pandas as pd\n",
        "import matplotlib.pyplot as plt\n",
        "\n",
        "train_df = pd.DataFrame(train_samples)\n",
        "val_df = pd.DataFrame(val_samples)\n",
        "test_df = pd.DataFrame(test_samples)"
      ],
      "execution_count": null,
      "outputs": []
    },
    {
      "cell_type": "code",
      "metadata": {
        "colab": {
          "base_uri": "https://localhost:8080/"
        },
        "id": "3d2FJq7x-xp_",
        "outputId": "92ebad1a-6a29-4115-d0b7-a2f1a0144703"
      },
      "source": [
        "train_df"
      ],
      "execution_count": null,
      "outputs": [
        {
          "output_type": "execute_result",
          "data": {
            "text/html": [
              "<div>\n",
              "<style scoped>\n",
              "    .dataframe tbody tr th:only-of-type {\n",
              "        vertical-align: middle;\n",
              "    }\n",
              "\n",
              "    .dataframe tbody tr th {\n",
              "        vertical-align: top;\n",
              "    }\n",
              "\n",
              "    .dataframe thead th {\n",
              "        text-align: right;\n",
              "    }\n",
              "</style>\n",
              "<table border=\"1\" class=\"dataframe\">\n",
              "  <thead>\n",
              "    <tr style=\"text-align: right;\">\n",
              "      <th></th>\n",
              "      <th>target</th>\n",
              "      <th>text</th>\n",
              "      <th>line_number</th>\n",
              "      <th>total_lines</th>\n",
              "    </tr>\n",
              "  </thead>\n",
              "  <tbody>\n",
              "    <tr>\n",
              "      <th>0</th>\n",
              "      <td>OBJECTIVE</td>\n",
              "      <td>to investigate the efficacy of @ weeks of dail...</td>\n",
              "      <td>0</td>\n",
              "      <td>11</td>\n",
              "    </tr>\n",
              "    <tr>\n",
              "      <th>1</th>\n",
              "      <td>METHODS</td>\n",
              "      <td>a total of @ patients with primary knee oa wer...</td>\n",
              "      <td>1</td>\n",
              "      <td>11</td>\n",
              "    </tr>\n",
              "    <tr>\n",
              "      <th>2</th>\n",
              "      <td>METHODS</td>\n",
              "      <td>outcome measures included pain reduction and i...</td>\n",
              "      <td>2</td>\n",
              "      <td>11</td>\n",
              "    </tr>\n",
              "    <tr>\n",
              "      <th>3</th>\n",
              "      <td>METHODS</td>\n",
              "      <td>pain was assessed using the visual analog pain...</td>\n",
              "      <td>3</td>\n",
              "      <td>11</td>\n",
              "    </tr>\n",
              "    <tr>\n",
              "      <th>4</th>\n",
              "      <td>METHODS</td>\n",
              "      <td>secondary outcome measures included the wester...</td>\n",
              "      <td>4</td>\n",
              "      <td>11</td>\n",
              "    </tr>\n",
              "    <tr>\n",
              "      <th>...</th>\n",
              "      <td>...</td>\n",
              "      <td>...</td>\n",
              "      <td>...</td>\n",
              "      <td>...</td>\n",
              "    </tr>\n",
              "    <tr>\n",
              "      <th>180035</th>\n",
              "      <td>RESULTS</td>\n",
              "      <td>for the absolute change in percent atheroma vo...</td>\n",
              "      <td>7</td>\n",
              "      <td>11</td>\n",
              "    </tr>\n",
              "    <tr>\n",
              "      <th>180036</th>\n",
              "      <td>RESULTS</td>\n",
              "      <td>for pav , a significantly greater percentage o...</td>\n",
              "      <td>8</td>\n",
              "      <td>11</td>\n",
              "    </tr>\n",
              "    <tr>\n",
              "      <th>180037</th>\n",
              "      <td>RESULTS</td>\n",
              "      <td>both strategies had acceptable side effect pro...</td>\n",
              "      <td>9</td>\n",
              "      <td>11</td>\n",
              "    </tr>\n",
              "    <tr>\n",
              "      <th>180038</th>\n",
              "      <td>CONCLUSIONS</td>\n",
              "      <td>compared with standard statin monotherapy , th...</td>\n",
              "      <td>10</td>\n",
              "      <td>11</td>\n",
              "    </tr>\n",
              "    <tr>\n",
              "      <th>180039</th>\n",
              "      <td>CONCLUSIONS</td>\n",
              "      <td>( plaque regression with cholesterol absorptio...</td>\n",
              "      <td>11</td>\n",
              "      <td>11</td>\n",
              "    </tr>\n",
              "  </tbody>\n",
              "</table>\n",
              "<p>180040 rows × 4 columns</p>\n",
              "</div>"
            ],
            "text/plain": [
              "             target  ... total_lines\n",
              "0         OBJECTIVE  ...          11\n",
              "1           METHODS  ...          11\n",
              "2           METHODS  ...          11\n",
              "3           METHODS  ...          11\n",
              "4           METHODS  ...          11\n",
              "...             ...  ...         ...\n",
              "180035      RESULTS  ...          11\n",
              "180036      RESULTS  ...          11\n",
              "180037      RESULTS  ...          11\n",
              "180038  CONCLUSIONS  ...          11\n",
              "180039  CONCLUSIONS  ...          11\n",
              "\n",
              "[180040 rows x 4 columns]"
            ]
          },
          "metadata": {},
          "execution_count": 34
        }
      ]
    },
    {
      "cell_type": "code",
      "metadata": {
        "colab": {
          "base_uri": "https://localhost:8080/"
        },
        "id": "ePvdutjf-0hf",
        "outputId": "50cbf99c-b98b-4dad-a2c8-754eb51c0616"
      },
      "source": [
        "# Distridution of labels in training data\n",
        "train_df.target.value_counts().plot.barh()"
      ],
      "execution_count": null,
      "outputs": [
        {
          "output_type": "execute_result",
          "data": {
            "text/plain": [
              "<matplotlib.axes._subplots.AxesSubplot at 0x7fe54be3fed0>"
            ]
          },
          "metadata": {},
          "execution_count": 35
        },
        {
          "output_type": "display_data",
          "data": {
            "image/png": "[encoded data removed]",
            "text/plain": [
              "<Figure size 432x288 with 1 Axes>"
            ]
          },
          "metadata": {
            "needs_background": "light"
          }
        }
      ]
    },
    {
      "cell_type": "code",
      "metadata": {
        "colab": {
          "base_uri": "https://localhost:8080/"
        },
        "id": "i5faVGZmAO93",
        "outputId": "32574417-097d-43e3-ef48-aae5a5a61218"
      },
      "source": [
        "# distribution of number of sentences per abstract\n",
        "train_df.total_lines.value_counts().sort_index().plot.bar()"
      ],
      "execution_count": null,
      "outputs": [
        {
          "output_type": "execute_result",
          "data": {
            "text/plain": [
              "<matplotlib.axes._subplots.AxesSubplot at 0x7fe54c0cfd10>"
            ]
          },
          "metadata": {},
          "execution_count": 36
        },
        {
          "output_type": "display_data",
          "data": {
            "image/png": "[encoded data removed]",
            "text/plain": [
              "<Figure size 432x288 with 1 Axes>"
            ]
          },
          "metadata": {
            "needs_background": "light"
          }
        }
      ]
    },
    {
      "cell_type": "markdown",
      "metadata": {
        "id": "PTtxl-1HBfA7"
      },
      "source": [
        "### Turn Labels into a numbers"
      ]
    },
    {
      "cell_type": "code",
      "metadata": {
        "id": "Xbuje5zmCkxt"
      },
      "source": [
        "# one hot encode labels\n",
        "from sklearn.preprocessing import OneHotEncoder\n",
        "import tensorflow as tf\n",
        "one_hot_encoder = OneHotEncoder(sparse=False)\n",
        "train_labels_one_hot = one_hot_encoder.fit_transform(train_df[\"target\"].to_numpy().reshape(-1, 1))\n",
        "val_labels_one_hot = one_hot_encoder.transform(val_df[\"target\"].to_numpy().reshape(-1, 1))\n",
        "test_labels_one_hot = one_hot_encoder.transform(test_df[\"target\"].to_numpy().reshape(-1, 1))"
      ],
      "execution_count": null,
      "outputs": []
    },
    {
      "cell_type": "markdown",
      "metadata": {
        "id": "Cr2UqQ9dD4-j"
      },
      "source": [
        "### Label Encoding Labels "
      ]
    },
    {
      "cell_type": "code",
      "metadata": {
        "id": "k_OM1F4UpQq1"
      },
      "source": [
        "from sklearn.preprocessing import LabelEncoder\n",
        "label_encoder = LabelEncoder()\n",
        "train_labels_encoded = label_encoder.fit_transform(train_df[\"target\"].to_numpy())\n",
        "val_labels_encoded = label_encoder.transform(val_df[\"target\"].to_numpy())\n",
        "test_labels_encoded = label_encoder.transform(test_df[\"target\"].to_numpy())"
      ],
      "execution_count": null,
      "outputs": []
    },
    {
      "cell_type": "code",
      "metadata": {
        "colab": {
          "base_uri": "https://localhost:8080/"
        },
        "id": "fSYy-Nkwpr91",
        "outputId": "67a8b47c-8bf5-406b-af2d-a540e89ccbd5"
      },
      "source": [
        "train_labels_encoded"
      ],
      "execution_count": null,
      "outputs": [
        {
          "output_type": "execute_result",
          "data": {
            "text/plain": [
              "array([3, 2, 2, ..., 4, 1, 1])"
            ]
          },
          "metadata": {},
          "execution_count": 39
        }
      ]
    },
    {
      "cell_type": "code",
      "metadata": {
        "colab": {
          "base_uri": "https://localhost:8080/"
        },
        "id": "WIiDVdSVpuwK",
        "outputId": "65aca064-a8be-4f42-a0db-8a1cfdc58dc3"
      },
      "source": [
        "num_classes = len(label_encoder.classes_)\n",
        "class_names = label_encoder.classes_\n",
        "num_classes, class_names"
      ],
      "execution_count": null,
      "outputs": [
        {
          "output_type": "execute_result",
          "data": {
            "text/plain": [
              "(5, array(['BACKGROUND', 'CONCLUSIONS', 'METHODS', 'OBJECTIVE', 'RESULTS'],\n",
              "       dtype=object))"
            ]
          },
          "metadata": {},
          "execution_count": 40
        }
      ]
    },
    {
      "cell_type": "markdown",
      "metadata": {
        "id": "hwmKvYegsmEo"
      },
      "source": [
        "### Get the list of sentences"
      ]
    },
    {
      "cell_type": "code",
      "metadata": {
        "id": "wGV1wwtqspG5"
      },
      "source": [
        "train_sentences = train_df[\"text\"].tolist()\n",
        "val_sentences = val_df[\"text\"].tolist()\n",
        "test_sentences = test_df[\"text\"].tolist()"
      ],
      "execution_count": null,
      "outputs": []
    },
    {
      "cell_type": "markdown",
      "metadata": {
        "id": "7nA9_cIfqIMo"
      },
      "source": [
        "## Modeling"
      ]
    },
    {
      "cell_type": "markdown",
      "metadata": {
        "id": "mSAc_4Zxqn2A"
      },
      "source": [
        "### Model 0: Baseline - Multinomial Naive Bayes + TF-IDF "
      ]
    },
    {
      "cell_type": "code",
      "metadata": {
        "id": "8jyV-peJrTfH"
      },
      "source": [
        "from sklearn.feature_extraction.text import TfidfVectorizer\n",
        "from sklearn.naive_bayes import MultinomialNB\n",
        "from sklearn.pipeline import Pipeline\n",
        "\n",
        "# Create a pipeline\n",
        "model_0 = Pipeline([\n",
        "                    (\"tf-idf\", TfidfVectorizer()),\n",
        "                    (\"clf\", MultinomialNB())\n",
        "])"
      ],
      "execution_count": null,
      "outputs": []
    },
    {
      "cell_type": "code",
      "metadata": {
        "colab": {
          "base_uri": "https://localhost:8080/"
        },
        "id": "rJUBAmUlr4Dj",
        "outputId": "7d97c6c4-fc8f-4570-aa98-e31c9dc9aec0"
      },
      "source": [
        "model_0.fit(train_sentences, train_labels_encoded)"
      ],
      "execution_count": null,
      "outputs": [
        {
          "output_type": "execute_result",
          "data": {
            "text/plain": [
              "Pipeline(memory=None,\n",
              "         steps=[('tf-idf',\n",
              "                 TfidfVectorizer(analyzer='word', binary=False,\n",
              "                                 decode_error='strict',\n",
              "                                 dtype=<class 'numpy.float64'>,\n",
              "                                 encoding='utf-8', input='content',\n",
              "                                 lowercase=True, max_df=1.0, max_features=None,\n",
              "                                 min_df=1, ngram_range=(1, 1), norm='l2',\n",
              "                                 preprocessor=None, smooth_idf=True,\n",
              "                                 stop_words=None, strip_accents=None,\n",
              "                                 sublinear_tf=False,\n",
              "                                 token_pattern='(?u)\\\\b\\\\w\\\\w+\\\\b',\n",
              "                                 tokenizer=None, use_idf=True,\n",
              "                                 vocabulary=None)),\n",
              "                ('clf',\n",
              "                 MultinomialNB(alpha=1.0, class_prior=None, fit_prior=True))],\n",
              "         verbose=False)"
            ]
          },
          "metadata": {},
          "execution_count": 43
        }
      ]
    },
    {
      "cell_type": "code",
      "metadata": {
        "colab": {
          "base_uri": "https://localhost:8080/"
        },
        "id": "vWm30St-tMat",
        "outputId": "2bdbf9aa-6c3d-47c6-9c7a-8c47c2866d27"
      },
      "source": [
        "model_0.score(val_sentences, val_labels_encoded)"
      ],
      "execution_count": null,
      "outputs": [
        {
          "output_type": "execute_result",
          "data": {
            "text/plain": [
              "0.7218323844829869"
            ]
          },
          "metadata": {},
          "execution_count": 44
        }
      ]
    },
    {
      "cell_type": "code",
      "metadata": {
        "id": "q5Mn_zvquHZ0"
      },
      "source": [
        "# make baseline predictions\n",
        "baseline_preds = model_0.predict(val_sentences)"
      ],
      "execution_count": null,
      "outputs": []
    },
    {
      "cell_type": "code",
      "metadata": {
        "id": "1fvmK_DLtZQz"
      },
      "source": [
        "import utils\n",
        "baseline_metrics = utils.calculate_results(val_labels_encoded, baseline_preds)"
      ],
      "execution_count": null,
      "outputs": []
    },
    {
      "cell_type": "markdown",
      "metadata": {
        "id": "3Qq8ICajt-Ai"
      },
      "source": [
        "#### Preparing data for deep learning models"
      ]
    },
    {
      "cell_type": "code",
      "metadata": {
        "id": "gxZkd1UyzIO6"
      },
      "source": [
        "# imports\n",
        "import numpy as np\n",
        "import tensorflow as tf\n",
        "from tensorflow.keras import layers, Model"
      ],
      "execution_count": null,
      "outputs": []
    },
    {
      "cell_type": "code",
      "metadata": {
        "colab": {
          "base_uri": "https://localhost:8080/"
        },
        "id": "VmIUduZV1D0r",
        "outputId": "e5842c23-8668-4fa7-f27c-3488ffd58164"
      },
      "source": [
        "# How long sentence is on average?\n",
        "sent_lens = [len(sentence.split()) for sentence in train_sentences]\n",
        "avg_len = np.round(np.mean(sent_lens))\n",
        "avg_len"
      ],
      "execution_count": null,
      "outputs": [
        {
          "output_type": "execute_result",
          "data": {
            "text/plain": [
              "26.0"
            ]
          },
          "metadata": {},
          "execution_count": 48
        }
      ]
    },
    {
      "cell_type": "code",
      "metadata": {
        "colab": {
          "base_uri": "https://localhost:8080/",
          "height": 265
        },
        "id": "s1apWPT61ULR",
        "outputId": "c4e9cb02-2112-4152-9f10-5b94d11dc92c"
      },
      "source": [
        "# What's the distribution looks like?\n",
        "import matplotlib.pyplot as plt\n",
        "plt.hist(sent_lens, bins=30);"
      ],
      "execution_count": null,
      "outputs": [
        {
          "output_type": "display_data",
          "data": {
            "image/png": "[encoded data removed]",
            "text/plain": [
              "<Figure size 432x288 with 1 Axes>"
            ]
          },
          "metadata": {
            "needs_background": "light"
          }
        }
      ]
    },
    {
      "cell_type": "code",
      "metadata": {
        "colab": {
          "base_uri": "https://localhost:8080/"
        },
        "id": "yT95VYxv2CRL",
        "outputId": "642978f1-95f8-49b1-c5b5-bbc9af86c0fc"
      },
      "source": [
        "# What sentence length covers 95% of examples?\n",
        "output_seq_len = int(np.percentile(sent_lens, 95))\n",
        "output_seq_len"
      ],
      "execution_count": null,
      "outputs": [
        {
          "output_type": "execute_result",
          "data": {
            "text/plain": [
              "55"
            ]
          },
          "metadata": {},
          "execution_count": 50
        }
      ]
    },
    {
      "cell_type": "code",
      "metadata": {
        "colab": {
          "base_uri": "https://localhost:8080/"
        },
        "id": "YZtBHzg53BQA",
        "outputId": "14098f10-712b-4fc1-fd7c-b46aa6c66b28"
      },
      "source": [
        "# Maximum sequence length in the traing set\n",
        "max(sent_lens)"
      ],
      "execution_count": null,
      "outputs": [
        {
          "output_type": "execute_result",
          "data": {
            "text/plain": [
              "296"
            ]
          },
          "metadata": {},
          "execution_count": 51
        }
      ]
    },
    {
      "cell_type": "markdown",
      "metadata": {
        "id": "9BI6fhtU3YRA"
      },
      "source": [
        "##### Create text vectorizer layer"
      ]
    },
    {
      "cell_type": "markdown",
      "metadata": {
        "id": "vMGbuZ_nDs3C"
      },
      "source": [
        "How many words are in our vocab? (taken from table 2 from source [paper](https://arxiv.org/abs/1710.06071))"
      ]
    },
    {
      "cell_type": "code",
      "metadata": {
        "id": "YUXyPJe5EGFO"
      },
      "source": [
        "max_tokens = 68000"
      ],
      "execution_count": null,
      "outputs": []
    },
    {
      "cell_type": "code",
      "metadata": {
        "id": "mtdx1OgBEJrN"
      },
      "source": [
        "# Create text vectorizer\n",
        "from tensorflow.keras.layers import TextVectorization\n",
        "text_vectorizer = TextVectorization(max_tokens=max_tokens,\n",
        "                                    output_sequence_length=output_seq_len)"
      ],
      "execution_count": null,
      "outputs": []
    },
    {
      "cell_type": "code",
      "metadata": {
        "id": "SfnpDVWyEpLx"
      },
      "source": [
        "# Adapt thext vectorizer to training sentences\n",
        "text_vectorizer.adapt(train_sentences)"
      ],
      "execution_count": null,
      "outputs": []
    },
    {
      "cell_type": "code",
      "metadata": {
        "colab": {
          "base_uri": "https://localhost:8080/"
        },
        "id": "YmbEGvOGF4uv",
        "outputId": "bf4e27c5-a657-4596-a012-de2b9cecae01"
      },
      "source": [
        "# Test out text vectorizer on random sentences\n",
        "import random\n",
        "target_sentence = random.choice(train_sentences)\n",
        "print(f\"Text:\\n {target_sentence}\")\n",
        "print(f\"\\nLength of text:\\n {len(target_sentence)}\")\n",
        "print(f\"\\nVectorized text:\\n {text_vectorizer([target_sentence])}\")"
      ],
      "execution_count": null,
      "outputs": [
        {
          "output_type": "stream",
          "name": "stdout",
          "text": [
            "Text:\n",
            " this number is estimated to provide @ % power for detecting a pain reduction of one point on a numeric rating scale , with a standard deviation of one .\n",
            "\n",
            "Length of text:\n",
            " 152\n",
            "\n",
            "Vectorized text:\n",
            " [[  23  154   20  597    6  414  817   11 3785    8   65  169    4   88\n",
            "   294   18    8 3400  699  158    7    8  165 1551    4   88    0    0\n",
            "     0    0    0    0    0    0    0    0    0    0    0    0    0    0\n",
            "     0    0    0    0    0    0    0    0    0    0    0    0    0]]\n"
          ]
        }
      ]
    },
    {
      "cell_type": "code",
      "metadata": {
        "colab": {
          "base_uri": "https://localhost:8080/"
        },
        "id": "o79uRLkIIbmb",
        "outputId": "4da7d52c-7fd1-4ff6-e218-b0324fbb9cd7"
      },
      "source": [
        "# how many words in vocab\n",
        "print(f\"Number of words in vocab: {len(text_vectorizer.get_vocabulary())}\")"
      ],
      "execution_count": null,
      "outputs": [
        {
          "output_type": "stream",
          "name": "stdout",
          "text": [
            "Number of words in vocab: 64841\n"
          ]
        }
      ]
    },
    {
      "cell_type": "code",
      "metadata": {
        "colab": {
          "base_uri": "https://localhost:8080/"
        },
        "id": "FobTcLFuJMtu",
        "outputId": "37630e66-465b-454c-e973-344ca3071fde"
      },
      "source": [
        "# TextVectroizer config\n",
        "text_vectorizer.get_config()"
      ],
      "execution_count": null,
      "outputs": [
        {
          "output_type": "execute_result",
          "data": {
            "text/plain": [
              "{'batch_input_shape': (None,),\n",
              " 'dtype': 'string',\n",
              " 'max_tokens': 68000,\n",
              " 'name': 'text_vectorization',\n",
              " 'ngrams': None,\n",
              " 'output_mode': 'int',\n",
              " 'output_sequence_length': 55,\n",
              " 'pad_to_max_tokens': False,\n",
              " 'split': 'whitespace',\n",
              " 'standardize': 'lower_and_strip_punctuation',\n",
              " 'trainable': True}"
            ]
          },
          "metadata": {},
          "execution_count": 57
        }
      ]
    },
    {
      "cell_type": "code",
      "metadata": {
        "colab": {
          "base_uri": "https://localhost:8080/"
        },
        "id": "B0k8wR72JaXW",
        "outputId": "29bcf7ee-ea9b-4ca0-fd30-dc35609e4812"
      },
      "source": [
        "token_embed = layers.Embedding(input_dim=len(text_vectorizer.get_vocabulary()),\n",
        "                               output_dim=128,\n",
        "                               mask_zero=True\n",
        "                               )\n",
        "\n",
        "#show example embedding\n",
        "print(f\"Sequence after embeding:\\n { token_embed(text_vectorizer([target_sentence]))}\")"
      ],
      "execution_count": null,
      "outputs": [
        {
          "output_type": "stream",
          "name": "stdout",
          "text": [
            "Sequence after embeding:\n",
            " [[[-0.03585274 -0.02597517  0.03758522 ... -0.03576849  0.0473983\n",
            "    0.03911482]\n",
            "  [ 0.00684489 -0.02672559  0.04273551 ...  0.03950645  0.03818703\n",
            "    0.02884546]\n",
            "  [ 0.04279932  0.02901173  0.04817467 ... -0.03040074  0.04463694\n",
            "    0.0055521 ]\n",
            "  ...\n",
            "  [-0.01917828 -0.04163956 -0.00503733 ... -0.01784277  0.00238929\n",
            "   -0.02348405]\n",
            "  [-0.01917828 -0.04163956 -0.00503733 ... -0.01784277  0.00238929\n",
            "   -0.02348405]\n",
            "  [-0.01917828 -0.04163956 -0.00503733 ... -0.01784277  0.00238929\n",
            "   -0.02348405]]]\n"
          ]
        }
      ]
    },
    {
      "cell_type": "markdown",
      "metadata": {
        "id": "At6Ts1ibLXsj"
      },
      "source": [
        "##### Creating data pipelines"
      ]
    },
    {
      "cell_type": "code",
      "metadata": {
        "colab": {
          "base_uri": "https://localhost:8080/"
        },
        "id": "gnFKFBEcP5Oi",
        "outputId": "506630e3-3999-4036-95d0-b838668e06ee"
      },
      "source": [
        "# Turn data infto TensorFlow Datasets\n",
        "train_dataset = tf.data.Dataset.from_tensor_slices((train_sentences, train_labels_one_hot))\n",
        "val_dataset = tf.data.Dataset.from_tensor_slices((val_sentences, val_labels_one_hot))\n",
        "test_dataset = tf.data.Dataset.from_tensor_slices((test_sentences, test_labels_one_hot))\n",
        "\n",
        "train_dataset"
      ],
      "execution_count": null,
      "outputs": [
        {
          "output_type": "execute_result",
          "data": {
            "text/plain": [
              "<TensorSliceDataset shapes: ((), (5,)), types: (tf.string, tf.float64)>"
            ]
          },
          "metadata": {},
          "execution_count": 59
        }
      ]
    },
    {
      "cell_type": "code",
      "metadata": {
        "colab": {
          "base_uri": "https://localhost:8080/"
        },
        "id": "IpdFJplvP4t9",
        "outputId": "8f7e656e-dae0-4396-de58-b0929fe05d5e"
      },
      "source": [
        "# Take the TensorSliceDataset's and turn into prefetched datasets\n",
        "AUTOTUNE = tf.data.AUTOTUNE\n",
        "train_dataset = train_dataset.batch(32).prefetch(AUTOTUNE)\n",
        "test_dataset = test_dataset.batch(32).prefetch(AUTOTUNE)\n",
        "val_dataset = val_dataset.batch(32).prefetch(AUTOTUNE)\n",
        "\n",
        "test_dataset"
      ],
      "execution_count": null,
      "outputs": [
        {
          "output_type": "execute_result",
          "data": {
            "text/plain": [
              "<PrefetchDataset shapes: ((None,), (None, 5)), types: (tf.string, tf.float64)>"
            ]
          },
          "metadata": {},
          "execution_count": 60
        }
      ]
    },
    {
      "cell_type": "markdown",
      "metadata": {
        "id": "-3izmJn2UD8o"
      },
      "source": [
        "### Model 1: Conv1D with token embeddings"
      ]
    },
    {
      "cell_type": "code",
      "metadata": {
        "id": "fxnxkLeUU6Wh"
      },
      "source": [
        "# Create model\n",
        "inputs = layers.Input(shape=(1,), dtype=tf.string)\n",
        "text_vectors = text_vectorizer(inputs)\n",
        "token_embeddings = token_embed(text_vectors)\n",
        "x = layers.Conv1D(64, kernel_size=5, padding =\"same\", activation=\"relu\")(token_embeddings)\n",
        "x = layers.GlobalAveragePooling1D()(x)\n",
        "outputs = layers.Dense(5, activation=\"softmax\")(x)\n",
        "\n",
        "model_1 = Model(inputs, outputs)\n",
        "\n",
        "model_1.compile(\n",
        "  optimizer=\"adam\",\n",
        "  loss='categorical_crossentropy',\n",
        "  metrics=['accuracy'])"
      ],
      "execution_count": null,
      "outputs": []
    },
    {
      "cell_type": "code",
      "metadata": {
        "colab": {
          "base_uri": "https://localhost:8080/"
        },
        "id": "hhRaEeFmWmpU",
        "outputId": "c166c362-1ca4-4125-ea7a-c608e81305ef"
      },
      "source": [
        "# fit the model\n",
        "history_1 = model_1.fit(train_dataset, steps_per_epoch=int(0.1 * len(train_dataset)),\n",
        "                        epochs=3,\n",
        "                        validation_data=val_dataset,\n",
        "                        validation_steps=int(0.1 * len(val_dataset))\n",
        "                        )"
      ],
      "execution_count": null,
      "outputs": [
        {
          "output_type": "stream",
          "name": "stdout",
          "text": [
            "Epoch 1/3\n",
            "562/562 [==============================] - 40s 15ms/step - loss: 0.9290 - accuracy: 0.6288 - val_loss: 0.6965 - val_accuracy: 0.7367\n",
            "Epoch 2/3\n",
            "562/562 [==============================] - 8s 14ms/step - loss: 0.6630 - accuracy: 0.7517 - val_loss: 0.6387 - val_accuracy: 0.7663\n",
            "Epoch 3/3\n",
            "562/562 [==============================] - 8s 14ms/step - loss: 0.6202 - accuracy: 0.7740 - val_loss: 0.5991 - val_accuracy: 0.7852\n"
          ]
        }
      ]
    },
    {
      "cell_type": "code",
      "metadata": {
        "colab": {
          "base_uri": "https://localhost:8080/"
        },
        "id": "x62VHgZ_Zd3W",
        "outputId": "1c34f36c-b944-4975-c36c-556c5065540e"
      },
      "source": [
        "model_1.evaluate(val_dataset)"
      ],
      "execution_count": null,
      "outputs": [
        {
          "output_type": "stream",
          "name": "stdout",
          "text": [
            "945/945 [==============================] - 5s 5ms/step - loss: 0.6008 - accuracy: 0.7860\n"
          ]
        },
        {
          "output_type": "execute_result",
          "data": {
            "text/plain": [
              "[0.6008083820343018, 0.7860121726989746]"
            ]
          },
          "metadata": {},
          "execution_count": 63
        }
      ]
    },
    {
      "cell_type": "code",
      "metadata": {
        "id": "YzM_aRVEcN7X"
      },
      "source": [
        "model_1preds_probs = model_1.predict(val_dataset)"
      ],
      "execution_count": null,
      "outputs": []
    },
    {
      "cell_type": "code",
      "metadata": {
        "id": "JshA4hIlcxuZ"
      },
      "source": [
        "model_1preds = model_1preds_probs.argmax(axis=1)"
      ],
      "execution_count": null,
      "outputs": []
    },
    {
      "cell_type": "code",
      "metadata": {
        "id": "mDLaT2x6c2u6"
      },
      "source": [
        "model_1_metrics = utils.calculate_results(val_labels_encoded, model_1preds)"
      ],
      "execution_count": null,
      "outputs": []
    },
    {
      "cell_type": "markdown",
      "metadata": {
        "id": "umAJvJoPdNk5"
      },
      "source": [
        "### Model 2: Feature extration with USE"
      ]
    },
    {
      "cell_type": "code",
      "metadata": {
        "id": "FI7UnOePeUY7"
      },
      "source": [
        "# load USE\n",
        "import tensorflow_hub as hub \n",
        "USE_url = \"https://tfhub.dev/google/universal-sentence-encoder/4\"\n",
        "use = hub.load(USE_url)"
      ],
      "execution_count": null,
      "outputs": []
    },
    {
      "cell_type": "code",
      "metadata": {
        "id": "zVYwt2WzhLlz"
      },
      "source": [
        "# building model\n",
        "inputs = layers.Input(shape=[], dtype=tf.string)\n",
        "pretrained_embedding = hub.KerasLayer(USE_url, trainable=False)(inputs)\n",
        "\n",
        "x = layers.Dense(128, activation=\"relu\")(pretrained_embedding)\n",
        "outputs = layers.Dense(num_classes ,activation=\"softmax\")(x)\n",
        "\n",
        "model_2 = Model(inputs, outputs)\n",
        "\n",
        "model_2.compile(loss=\"categorical_crossentropy\",\n",
        "               optimizer=\"adam\",\n",
        "               metrics=[\"accuracy\"])"
      ],
      "execution_count": null,
      "outputs": []
    },
    {
      "cell_type": "code",
      "metadata": {
        "colab": {
          "base_uri": "https://localhost:8080/"
        },
        "id": "6ABUxc-XVY2F",
        "outputId": "942664f4-a12b-4ff4-b517-8947f9223ebb"
      },
      "source": [
        "history_2 = model_2.fit(train_dataset, epochs=3,\n",
        "                        steps_per_epoch=int(0.1 * len(train_dataset)),\n",
        "                        validation_data=val_dataset,\n",
        "                        validation_steps=int(0.1 * len(val_dataset))\n",
        "                       )"
      ],
      "execution_count": null,
      "outputs": [
        {
          "output_type": "stream",
          "name": "stdout",
          "text": [
            "Epoch 1/3\n",
            "562/562 [==============================] - 16s 23ms/step - loss: 0.9181 - accuracy: 0.6474 - val_loss: 0.7954 - val_accuracy: 0.6892\n",
            "Epoch 2/3\n",
            "562/562 [==============================] - 12s 22ms/step - loss: 0.7683 - accuracy: 0.7018 - val_loss: 0.7525 - val_accuracy: 0.7051\n",
            "Epoch 3/3\n",
            "562/562 [==============================] - 13s 23ms/step - loss: 0.7508 - accuracy: 0.7118 - val_loss: 0.7370 - val_accuracy: 0.7161\n"
          ]
        }
      ]
    },
    {
      "cell_type": "code",
      "metadata": {
        "id": "JDCXzTQtVY2G"
      },
      "source": [
        "model_2_preds = model_2.predict(val_dataset)"
      ],
      "execution_count": null,
      "outputs": []
    },
    {
      "cell_type": "code",
      "metadata": {
        "id": "gGvnZQpPVY2G"
      },
      "source": [
        "model_2_labels = model_2_preds.argmax(axis=1)"
      ],
      "execution_count": null,
      "outputs": []
    },
    {
      "cell_type": "code",
      "metadata": {
        "colab": {
          "base_uri": "https://localhost:8080/"
        },
        "id": "Gpr52mOfVY2G",
        "outputId": "5b335146-051a-41c8-ab9d-706490b36e71"
      },
      "source": [
        "# Eavluate model\n",
        "model_2_metrics = utils.calculate_results(val_labels_encoded, model_2_labels)\n",
        "model_2_metrics"
      ],
      "execution_count": null,
      "outputs": [
        {
          "output_type": "execute_result",
          "data": {
            "text/plain": [
              "{'accuracy': 71.52786972064081,\n",
              " 'f1': 0.7121014301641393,\n",
              " 'precision': 0.7158034397205902,\n",
              " 'recall': 0.715278697206408}"
            ]
          },
          "metadata": {},
          "execution_count": 72
        }
      ]
    },
    {
      "cell_type": "markdown",
      "metadata": {
        "id": "tQeZVkSDVY2G"
      },
      "source": [
        "### Model 3 : Conv1D with character embeddings"
      ]
    },
    {
      "cell_type": "code",
      "metadata": {
        "colab": {
          "base_uri": "https://localhost:8080/"
        },
        "id": "cFHkGr8yVY2G",
        "outputId": "fa5136ca-5288-40c4-e2f7-cac5941ebe8b"
      },
      "source": [
        "# Function to split sentences into characters()\n",
        "def split_sentences(list_of_sentences):\n",
        "    chars = []\n",
        "    for sentence in list_of_sentences[:]:\n",
        "        chars.append(\" \".join(list(sentence)))\n",
        "    return chars\n",
        "train_splited = split_sentences(train_sentences)\n",
        "train_splited[:5]"
      ],
      "execution_count": null,
      "outputs": [
        {
          "output_type": "execute_result",
          "data": {
            "text/plain": [
              "['t o   i n v e s t i g a t e   t h e   e f f i c a c y   o f   @   w e e k s   o f   d a i l y   l o w - d o s e   o r a l   p r e d n i s o l o n e   i n   i m p r o v i n g   p a i n   ,   m o b i l i t y   ,   a n d   s y s t e m i c   l o w - g r a d e   i n f l a m m a t i o n   i n   t h e   s h o r t   t e r m   a n d   w h e t h e r   t h e   e f f e c t   w o u l d   b e   s u s t a i n e d   a t   @   w e e k s   i n   o l d e r   a d u l t s   w i t h   m o d e r a t e   t o   s e v e r e   k n e e   o s t e o a r t h r i t i s   (   o a   )   .',\n",
              " 'a   t o t a l   o f   @   p a t i e n t s   w i t h   p r i m a r y   k n e e   o a   w e r e   r a n d o m i z e d   @ : @   ;   @   r e c e i v e d   @   m g / d a y   o f   p r e d n i s o l o n e   a n d   @   r e c e i v e d   p l a c e b o   f o r   @   w e e k s   .',\n",
              " 'o u t c o m e   m e a s u r e s   i n c l u d e d   p a i n   r e d u c t i o n   a n d   i m p r o v e m e n t   i n   f u n c t i o n   s c o r e s   a n d   s y s t e m i c   i n f l a m m a t i o n   m a r k e r s   .',\n",
              " 'p a i n   w a s   a s s e s s e d   u s i n g   t h e   v i s u a l   a n a l o g   p a i n   s c a l e   (   @ - @   m m   )   .',\n",
              " 's e c o n d a r y   o u t c o m e   m e a s u r e s   i n c l u d e d   t h e   w e s t e r n   o n t a r i o   a n d   m c m a s t e r   u n i v e r s i t i e s   o s t e o a r t h r i t i s   i n d e x   s c o r e s   ,   p a t i e n t   g l o b a l   a s s e s s m e n t   (   p g a   )   o f   t h e   s e v e r i t y   o f   k n e e   o a   ,   a n d   @ - m i n   w a l k   d i s t a n c e   (   @ m w d   )   .']"
            ]
          },
          "metadata": {},
          "execution_count": 73
        }
      ]
    },
    {
      "cell_type": "code",
      "metadata": {
        "id": "o-bud30LVY2H"
      },
      "source": [
        "val_splited = split_sentences(val_sentences)\n",
        "test_splited = split_sentences(test_sentences)"
      ],
      "execution_count": null,
      "outputs": []
    },
    {
      "cell_type": "code",
      "metadata": {
        "colab": {
          "base_uri": "https://localhost:8080/"
        },
        "id": "Ro-67pqiVY2H",
        "outputId": "6a368d0e-0e3e-4997-bcb9-4208a422eb69"
      },
      "source": [
        "# What's the averge length?\n",
        "chars_lens = [len(sentence) for sentence in train_sentences]\n",
        "lens_mean = np.mean(chars_lens)\n",
        "lens_mean"
      ],
      "execution_count": null,
      "outputs": [
        {
          "output_type": "execute_result",
          "data": {
            "text/plain": [
              "149.3662574983337"
            ]
          },
          "metadata": {},
          "execution_count": 75
        }
      ]
    },
    {
      "cell_type": "code",
      "metadata": {
        "colab": {
          "base_uri": "https://localhost:8080/",
          "height": 265
        },
        "id": "sWwY-vEgVY2H",
        "outputId": "2987a9b5-ba83-43bc-cb65-dd5a5330a1b8"
      },
      "source": [
        "# Chech the distributions\n",
        "import matplotlib.pyplot as plt\n",
        "%matplotlib inline\n",
        "plt.hist(chars_lens, bins=40);"
      ],
      "execution_count": null,
      "outputs": [
        {
          "output_type": "display_data",
          "data": {
            "image/png": "[encoded data removed]",
            "text/plain": [
              "<Figure size 432x288 with 1 Axes>"
            ]
          },
          "metadata": {
            "needs_background": "light"
          }
        }
      ]
    },
    {
      "cell_type": "code",
      "metadata": {
        "colab": {
          "base_uri": "https://localhost:8080/"
        },
        "id": "-2HksRQkVY2I",
        "outputId": "899d4bb5-d1e5-4f36-f864-b3aaf6698dc4"
      },
      "source": [
        "# What character length covers 95% of sequences\n",
        "output_seq_char_len = int(np.percentile(chars_lens, 95))\n",
        "output_seq_char_len"
      ],
      "execution_count": null,
      "outputs": [
        {
          "output_type": "execute_result",
          "data": {
            "text/plain": [
              "290"
            ]
          },
          "metadata": {},
          "execution_count": 77
        }
      ]
    },
    {
      "cell_type": "code",
      "metadata": {
        "id": "G_lV3UOVVY2I"
      },
      "source": [
        "# Get all keyboard characters\n",
        "import string\n",
        "alphabet = string.ascii_lowercase + string.digits + string.punctuation"
      ],
      "execution_count": null,
      "outputs": []
    },
    {
      "cell_type": "code",
      "metadata": {
        "colab": {
          "base_uri": "https://localhost:8080/",
          "height": 35
        },
        "id": "yu5VD1wwVY2I",
        "outputId": "060a6aad-49b9-4f5c-c298-ac275db77060"
      },
      "source": [
        "alphabet"
      ],
      "execution_count": null,
      "outputs": [
        {
          "output_type": "execute_result",
          "data": {
            "application/vnd.google.colaboratory.intrinsic+json": {
              "type": "string"
            },
            "text/plain": [
              "'abcdefghijklmnopqrstuvwxyz0123456789!\"#$%&\\'()*+,-./:;<=>?@[\\\\]^_`{|}~'"
            ]
          },
          "metadata": {},
          "execution_count": 79
        }
      ]
    },
    {
      "cell_type": "code",
      "metadata": {
        "id": "gZuaBMIfVY2I"
      },
      "source": [
        "NUM_CHAR_TOKENS = len(alphabet) + 2 # add 2 for space and OOV token\n",
        "char_vectorizer = TextVectorization(max_tokens = NUM_CHAR_TOKENS,\n",
        "                                   output_sequence_length=output_seq_char_len)"
      ],
      "execution_count": null,
      "outputs": []
    },
    {
      "cell_type": "code",
      "metadata": {
        "id": "5_3Yq6h4VY2I"
      },
      "source": [
        "char_vectorizer.adapt(train_splited)"
      ],
      "execution_count": null,
      "outputs": []
    },
    {
      "cell_type": "code",
      "metadata": {
        "colab": {
          "base_uri": "https://localhost:8080/"
        },
        "id": "FaCB3UWjVY2J",
        "outputId": "def12ddc-693a-48c8-e804-0a1d5a3e8f33"
      },
      "source": [
        "char_vocab = char_vectorizer.get_vocabulary()\n",
        "print(f\"Number of different characters in vocab: {len(char_vocab)}\")\n",
        "print(f\"5 most common characters: {char_vocab[:5]}\")\n",
        "print(f\"5 most common characters: {char_vocab[-5:]}\")"
      ],
      "execution_count": null,
      "outputs": [
        {
          "output_type": "stream",
          "name": "stdout",
          "text": [
            "Number of different characters in vocab: 28\n",
            "5 most common characters: ['', '[UNK]', 'e', 't', 'i']\n",
            "5 most common characters: ['k', 'x', 'z', 'q', 'j']\n"
          ]
        }
      ]
    },
    {
      "cell_type": "markdown",
      "metadata": {
        "id": "8hXY5S-wVY2J"
      },
      "source": [
        "#### Making a character level embedding"
      ]
    },
    {
      "cell_type": "code",
      "metadata": {
        "id": "xdXTsEZaVY2J"
      },
      "source": [
        "char_embed = layers.Embedding(input_dim=len(char_vocab),\n",
        "                              output_dim=25,\n",
        "                              mask_zero=True,\n",
        "                              name=\"char_embed\"\n",
        "                             )"
      ],
      "execution_count": null,
      "outputs": []
    },
    {
      "cell_type": "markdown",
      "metadata": {
        "id": "w57X2iM8VY2J"
      },
      "source": [
        "#### Build Conv1D"
      ]
    },
    {
      "cell_type": "code",
      "metadata": {
        "id": "6Qn1C5rJVY2J"
      },
      "source": [
        "inputs = layers.Input(shape=(1,), dtype=\"string\")\n",
        "char_vectors = char_vectorizer(inputs)\n",
        "char_embeddings = char_embed(char_vectors)\n",
        "x = layers.Conv1D(64, 5, padding=\"same\", activation=\"relu\")(char_embeddings)\n",
        "x = layers.GlobalMaxPooling1D()(x)\n",
        "outputs = layers.Dense(5, activation=\"softmax\")(x)\n",
        "\n",
        "model_3 = Model(inputs, outputs)\n",
        "\n",
        "model_3.compile(loss=\"categorical_crossentropy\",\n",
        "               optimizer=\"adam\",\n",
        "               metrics=[\"accuracy\"])"
      ],
      "execution_count": null,
      "outputs": []
    },
    {
      "cell_type": "markdown",
      "metadata": {
        "id": "G7ZNIJHiVY2K"
      },
      "source": [
        "#### Create data pipelines"
      ]
    },
    {
      "cell_type": "code",
      "metadata": {
        "id": "2XkdRHyOVY2K"
      },
      "source": [
        "train_splited_dataset = tf.data.Dataset.from_tensor_slices((train_splited, train_labels_one_hot)).batch(32).prefetch(AUTOTUNE)\n",
        "val_splited_dataset = tf.data.Dataset.from_tensor_slices((val_splited,val_labels_one_hot)).batch(32).prefetch(AUTOTUNE)\n",
        "test_splited_dataset = tf.data.Dataset.from_tensor_slices((test_splited, test_labels_one_hot)).batch(32).prefetch(AUTOTUNE)"
      ],
      "execution_count": null,
      "outputs": []
    },
    {
      "cell_type": "code",
      "metadata": {
        "colab": {
          "base_uri": "https://localhost:8080/"
        },
        "id": "COLFssmiVY2K",
        "outputId": "ecc6895b-59e5-43ff-ee80-312ce7b2c3de"
      },
      "source": [
        "history_3 = model_3.fit(train_splited_dataset, epochs=3,\n",
        "                        steps_per_epoch=int(0.1 * len(train_splited_dataset)),\n",
        "                        validation_data=val_splited_dataset,\n",
        "                        validation_steps=int(0.1 * len(val_splited_dataset))\n",
        "                       )"
      ],
      "execution_count": null,
      "outputs": [
        {
          "output_type": "stream",
          "name": "stdout",
          "text": [
            "Epoch 1/3\n",
            "562/562 [==============================] - 7s 11ms/step - loss: 1.2471 - accuracy: 0.5040 - val_loss: 1.0203 - val_accuracy: 0.5987\n",
            "Epoch 2/3\n",
            "562/562 [==============================] - 6s 10ms/step - loss: 0.9901 - accuracy: 0.6074 - val_loss: 0.9242 - val_accuracy: 0.6390\n",
            "Epoch 3/3\n",
            "562/562 [==============================] - 6s 10ms/step - loss: 0.9188 - accuracy: 0.6398 - val_loss: 0.8692 - val_accuracy: 0.6649\n"
          ]
        }
      ]
    },
    {
      "cell_type": "code",
      "metadata": {
        "colab": {
          "base_uri": "https://localhost:8080/"
        },
        "id": "yYUxCsz9VY2K",
        "outputId": "3ec2e181-16b4-4d18-da28-736cbb44a789"
      },
      "source": [
        "# Evaluate the model\n",
        "model_3_preds = model_3.predict(val_splited_dataset)\n",
        "model_3_labels = model_3_preds.argmax(axis=1)\n",
        "model_3_metrics = utils.calculate_results(val_labels_encoded, model_3_labels)\n",
        "model_3_metrics"
      ],
      "execution_count": null,
      "outputs": [
        {
          "output_type": "execute_result",
          "data": {
            "text/plain": [
              "{'accuracy': 65.59314179796107,\n",
              " 'f1': 0.6447852044886577,\n",
              " 'precision': 0.649109222607893,\n",
              " 'recall': 0.6559314179796107}"
            ]
          },
          "metadata": {},
          "execution_count": 87
        }
      ]
    },
    {
      "cell_type": "markdown",
      "metadata": {
        "id": "MMBg862WVY2L"
      },
      "source": [
        "### Model 4: Combining pretrained token embedding + characters embeddings (hybrid embeddings)\n",
        "\n",
        "1. Create a token-level embeding model (similar `model_1`)\n",
        "2. Create a character-level model (similar to `model_3`)\n",
        "3. Concatenate 2 above\n",
        "4. Build a series of output layers on top of 3\n",
        "5. Construct a model which takes token and character-level sequences as input and produces pred probs as output."
      ]
    },
    {
      "cell_type": "code",
      "metadata": {
        "id": "4rEbPcPTVY2L"
      },
      "source": [
        "# 1. Setup token model\n",
        "token_inputs = layers.Input(shape=[], dtype=tf.string, name=\"token_input\")\n",
        "token_embeddings = hub.KerasLayer(USE_url, trainable=False)(token_inputs)\n",
        "token_output = layers.Dense(128, activation=\"relu\")(token_embeddings)\n",
        "token_model = Model(token_inputs, token_output)\n",
        "\n",
        "# 2. Setup char vectors\n",
        "char_inputs = layers.Input(shape=(1,), dtype=tf.string, name=\"char_input\")\n",
        "char_vectors = char_vectorizer(char_inputs)\n",
        "char_embeddings = char_embed(char_vectors)\n",
        "char_bi_lstm = layers.Bidirectional(layers.LSTM(24))(char_embeddings)\n",
        "char_model = Model(char_inputs, char_bi_lstm)\n",
        "\n",
        "# 3. Concatenate 2 models\n",
        "token_char_concat = layers.Concatenate(name=\"token_char_hybrid\")([token_model.output,\n",
        "                                                                 char_model.output])\n",
        "\n",
        "# 4. Create output layers - adding in Dropout\n",
        "combined_dropout = layers.Dropout(0.5)(token_char_concat)\n",
        "combined_dense = layers.Dense(128, activation=\"relu\")(combined_dropout)\n",
        "final_dropout = layers.Dropout(0.5)(combined_dense)\n",
        "output_layer = layers.Dense(5,activation=\"softmax\")(final_dropout)\n",
        "\n",
        "# 5. Consturct  final model\n",
        "model_4 = Model(inputs=[token_model.input, char_model.input],\n",
        "               outputs=output_layer)"
      ],
      "execution_count": null,
      "outputs": []
    },
    {
      "cell_type": "code",
      "metadata": {
        "id": "-4n9Qqk4VY2L"
      },
      "source": [
        "model_4.compile(loss=\"categorical_crossentropy\",\n",
        "               optimizer=\"adam\",\n",
        "               metrics=[\"accuracy\"])"
      ],
      "execution_count": null,
      "outputs": []
    },
    {
      "cell_type": "code",
      "metadata": {
        "colab": {
          "base_uri": "https://localhost:8080/"
        },
        "id": "LOR1gMvLVY2M",
        "outputId": "f9705135-c205-41b2-f8a4-3e5b68738a56"
      },
      "source": [
        "model_4.summary()"
      ],
      "execution_count": null,
      "outputs": [
        {
          "output_type": "stream",
          "name": "stdout",
          "text": [
            "Model: \"model_5\"\n",
            "__________________________________________________________________________________________________\n",
            "Layer (type)                    Output Shape         Param #     Connected to                     \n",
            "==================================================================================================\n",
            "char_input (InputLayer)         [(None, 1)]          0                                            \n",
            "__________________________________________________________________________________________________\n",
            "token_input (InputLayer)        [(None,)]            0                                            \n",
            "__________________________________________________________________________________________________\n",
            "text_vectorization_1 (TextVecto (None, 290)          0           char_input[0][0]                 \n",
            "__________________________________________________________________________________________________\n",
            "keras_layer_1 (KerasLayer)      (None, 512)          256797824   token_input[0][0]                \n",
            "__________________________________________________________________________________________________\n",
            "char_embed (Embedding)          (None, 290, 25)      700         text_vectorization_1[1][0]       \n",
            "__________________________________________________________________________________________________\n",
            "dense_4 (Dense)                 (None, 128)          65664       keras_layer_1[0][0]              \n",
            "__________________________________________________________________________________________________\n",
            "bidirectional (Bidirectional)   (None, 48)           9600        char_embed[1][0]                 \n",
            "__________________________________________________________________________________________________\n",
            "token_char_hybrid (Concatenate) (None, 176)          0           dense_4[0][0]                    \n",
            "                                                                 bidirectional[0][0]              \n",
            "__________________________________________________________________________________________________\n",
            "dropout (Dropout)               (None, 176)          0           token_char_hybrid[0][0]          \n",
            "__________________________________________________________________________________________________\n",
            "dense_5 (Dense)                 (None, 128)          22656       dropout[0][0]                    \n",
            "__________________________________________________________________________________________________\n",
            "dropout_1 (Dropout)             (None, 128)          0           dense_5[0][0]                    \n",
            "__________________________________________________________________________________________________\n",
            "dense_6 (Dense)                 (None, 5)            645         dropout_1[0][0]                  \n",
            "==================================================================================================\n",
            "Total params: 256,897,089\n",
            "Trainable params: 99,265\n",
            "Non-trainable params: 256,797,824\n",
            "__________________________________________________________________________________________________\n"
          ]
        }
      ]
    },
    {
      "cell_type": "code",
      "metadata": {
        "colab": {
          "base_uri": "https://localhost:8080/",
          "height": 976
        },
        "id": "mUyg7LfkVY2M",
        "outputId": "1cc922ab-d296-4206-b885-ae54281287c3"
      },
      "source": [
        "# PLot hybrid token and character model\n",
        "from tensorflow.keras.utils import plot_model\n",
        "plot_model(model_4, show_shapes=True)"
      ],
      "execution_count": null,
      "outputs": [
        {
          "output_type": "execute_result",
          "data": {
            "image/png": "[encoded data removed]",
            "text/plain": [
              "<IPython.core.display.Image object>"
            ]
          },
          "metadata": {},
          "execution_count": 91
        }
      ]
    },
    {
      "cell_type": "markdown",
      "metadata": {
        "id": "A_32bY2zVY2M"
      },
      "source": [
        "#### Create data pipelines"
      ]
    },
    {
      "cell_type": "code",
      "metadata": {
        "id": "f8TuZSNZVY2M"
      },
      "source": [
        "# Train dataset\n",
        "train_char_token_data = tf.data.Dataset.from_tensor_slices((train_sentences, train_splited))\n",
        "train_char_token_label = tf.data.Dataset.from_tensor_slices(train_labels_one_hot)\n",
        "train_char_token_dataset = tf.data.Dataset.zip((train_char_token_data, train_char_token_label))\n",
        "train_char_token_dataset = train_char_token_dataset.batch(32).prefetch(AUTOTUNE)\n",
        "\n",
        "# val dataset\n",
        "val_char_token_data = tf.data.Dataset.from_tensor_slices((val_sentences, val_splited))\n",
        "val_char_token_label = tf.data.Dataset.from_tensor_slices(val_labels_one_hot)\n",
        "val_char_token_dataset = tf.data.Dataset.zip((val_char_token_data, val_char_token_label))\n",
        "val_char_token_dataset = val_char_token_dataset.batch(32).prefetch(AUTOTUNE)"
      ],
      "execution_count": null,
      "outputs": []
    },
    {
      "cell_type": "code",
      "metadata": {
        "colab": {
          "base_uri": "https://localhost:8080/"
        },
        "id": "dol32riUVY2N",
        "outputId": "d3e82f62-2c1c-4e1b-9436-581a650f3724"
      },
      "source": [
        "history_4 = model_4.fit(train_char_token_dataset, epochs=3,\n",
        "                        steps_per_epoch=int(0.1 * len(train_char_token_dataset)),\n",
        "                        validation_data=val_char_token_dataset,\n",
        "                        validation_steps=int(0.1 * len(val_char_token_dataset))\n",
        "                       )"
      ],
      "execution_count": null,
      "outputs": [
        {
          "output_type": "stream",
          "name": "stdout",
          "text": [
            "Epoch 1/3\n",
            "562/562 [==============================] - 91s 139ms/step - loss: 0.9869 - accuracy: 0.6083 - val_loss: 0.7818 - val_accuracy: 0.6971\n",
            "Epoch 2/3\n",
            "562/562 [==============================] - 75s 133ms/step - loss: 0.8049 - accuracy: 0.6901 - val_loss: 0.7261 - val_accuracy: 0.7224\n",
            "Epoch 3/3\n",
            "562/562 [==============================] - 70s 125ms/step - loss: 0.7764 - accuracy: 0.7013 - val_loss: 0.6948 - val_accuracy: 0.7347\n"
          ]
        }
      ]
    },
    {
      "cell_type": "code",
      "metadata": {
        "colab": {
          "base_uri": "https://localhost:8080/"
        },
        "id": "L4WBmnXiVY2N",
        "outputId": "9f1a0072-5ca8-4fd2-e4dc-c902646371b4"
      },
      "source": [
        "# Evaluate the model\n",
        "model_4_preds = model_4.predict(val_char_token_dataset)\n",
        "model_4_labels = model_4_preds.argmax(axis=1)\n",
        "model_4_metrics = utils.calculate_results(val_labels_encoded, model_4_labels)\n",
        "model_4_metrics"
      ],
      "execution_count": null,
      "outputs": [
        {
          "output_type": "execute_result",
          "data": {
            "text/plain": [
              "{'accuracy': 73.22587051502714,\n",
              " 'f1': 0.729360123829202,\n",
              " 'precision': 0.7319862465309643,\n",
              " 'recall': 0.7322587051502714}"
            ]
          },
          "metadata": {},
          "execution_count": 94
        }
      ]
    },
    {
      "cell_type": "markdown",
      "metadata": {
        "id": "L-G4ZKQbVY2N"
      },
      "source": [
        "### Model 5: Transfer learining with pretrained embeddings + character embeddings + positional embeddings"
      ]
    },
    {
      "cell_type": "markdown",
      "metadata": {
        "id": "UtYT8s2-VY2N"
      },
      "source": [
        "#### Create positional embeddings"
      ]
    },
    {
      "cell_type": "code",
      "metadata": {
        "colab": {
          "base_uri": "https://localhost:8080/"
        },
        "id": "1DTA0rNfVY2O",
        "outputId": "66e55159-dbdf-44dc-f130-25de40f60fc0"
      },
      "source": [
        "# How many different line numbers are there?\n",
        "train_df[\"line_number\"].value_counts()"
      ],
      "execution_count": null,
      "outputs": [
        {
          "output_type": "execute_result",
          "data": {
            "text/plain": [
              "0     15000\n",
              "1     15000\n",
              "2     15000\n",
              "3     15000\n",
              "4     14992\n",
              "5     14949\n",
              "6     14758\n",
              "7     14279\n",
              "8     13346\n",
              "9     11981\n",
              "10    10041\n",
              "11     7892\n",
              "12     5853\n",
              "13     4152\n",
              "14     2835\n",
              "15     1861\n",
              "16     1188\n",
              "17      751\n",
              "18      462\n",
              "19      286\n",
              "20      162\n",
              "21      101\n",
              "22       66\n",
              "23       33\n",
              "24       22\n",
              "25       14\n",
              "26        7\n",
              "27        4\n",
              "28        3\n",
              "29        1\n",
              "30        1\n",
              "Name: line_number, dtype: int64"
            ]
          },
          "metadata": {},
          "execution_count": 95
        }
      ]
    },
    {
      "cell_type": "code",
      "metadata": {
        "colab": {
          "base_uri": "https://localhost:8080/",
          "height": 282
        },
        "id": "RS33YOhcVY2O",
        "outputId": "e7e215b2-90cc-45ba-9996-a3de56c64cad"
      },
      "source": [
        "train_df[\"line_number\"].plot.hist(bins=30)"
      ],
      "execution_count": null,
      "outputs": [
        {
          "output_type": "execute_result",
          "data": {
            "text/plain": [
              "<matplotlib.axes._subplots.AxesSubplot at 0x7fe3e04c1890>"
            ]
          },
          "metadata": {},
          "execution_count": 96
        },
        {
          "output_type": "display_data",
          "data": {
            "image/png": "[encoded data removed]",
            "text/plain": [
              "<Figure size 432x288 with 1 Axes>"
            ]
          },
          "metadata": {
            "needs_background": "light"
          }
        }
      ]
    },
    {
      "cell_type": "code",
      "metadata": {
        "colab": {
          "base_uri": "https://localhost:8080/"
        },
        "id": "KHl-nEpcVY2O",
        "outputId": "5e1602d5-de5e-4ddf-f852-dfa63fcf0132"
      },
      "source": [
        "# Use TensorFlow to create one-hot-encoded tensors of \"line_number\" column\n",
        "train_line_numbers_one_hot = tf.one_hot(train_df[\"line_number\"].to_numpy(), depth=15)\n",
        "val_line_numbers_one_hot = tf.one_hot(val_df[\"line_number\"].to_numpy(), depth=15)\n",
        "\n",
        "train_line_numbers_one_hot[:10], train_line_numbers_one_hot.shape"
      ],
      "execution_count": null,
      "outputs": [
        {
          "output_type": "execute_result",
          "data": {
            "text/plain": [
              "(<tf.Tensor: shape=(10, 15), dtype=float32, numpy=\n",
              " array([[1., 0., 0., 0., 0., 0., 0., 0., 0., 0., 0., 0., 0., 0., 0.],\n",
              "        [0., 1., 0., 0., 0., 0., 0., 0., 0., 0., 0., 0., 0., 0., 0.],\n",
              "        [0., 0., 1., 0., 0., 0., 0., 0., 0., 0., 0., 0., 0., 0., 0.],\n",
              "        [0., 0., 0., 1., 0., 0., 0., 0., 0., 0., 0., 0., 0., 0., 0.],\n",
              "        [0., 0., 0., 0., 1., 0., 0., 0., 0., 0., 0., 0., 0., 0., 0.],\n",
              "        [0., 0., 0., 0., 0., 1., 0., 0., 0., 0., 0., 0., 0., 0., 0.],\n",
              "        [0., 0., 0., 0., 0., 0., 1., 0., 0., 0., 0., 0., 0., 0., 0.],\n",
              "        [0., 0., 0., 0., 0., 0., 0., 1., 0., 0., 0., 0., 0., 0., 0.],\n",
              "        [0., 0., 0., 0., 0., 0., 0., 0., 1., 0., 0., 0., 0., 0., 0.],\n",
              "        [0., 0., 0., 0., 0., 0., 0., 0., 0., 1., 0., 0., 0., 0., 0.]],\n",
              "       dtype=float32)>, TensorShape([180040, 15]))"
            ]
          },
          "metadata": {},
          "execution_count": 97
        }
      ]
    },
    {
      "cell_type": "code",
      "metadata": {
        "colab": {
          "base_uri": "https://localhost:8080/"
        },
        "id": "YWWgQMQlVY2P",
        "outputId": "267acc8d-75de-49ea-de48-cf812485b8e2"
      },
      "source": [
        "# Check distripution of total lines\n",
        "train_df[\"total_lines\"].value_counts()"
      ],
      "execution_count": null,
      "outputs": [
        {
          "output_type": "execute_result",
          "data": {
            "text/plain": [
              "11    24468\n",
              "10    23639\n",
              "12    22113\n",
              "9     19400\n",
              "13    18438\n",
              "14    14610\n",
              "8     12285\n",
              "15    10768\n",
              "7      7464\n",
              "16     7429\n",
              "17     5202\n",
              "6      3353\n",
              "18     3344\n",
              "19     2480\n",
              "20     1281\n",
              "5      1146\n",
              "21      770\n",
              "22      759\n",
              "23      264\n",
              "4       215\n",
              "24      200\n",
              "25      182\n",
              "26       81\n",
              "28       58\n",
              "3        32\n",
              "30       31\n",
              "27       28\n",
              "Name: total_lines, dtype: int64"
            ]
          },
          "metadata": {},
          "execution_count": 98
        }
      ]
    },
    {
      "cell_type": "code",
      "metadata": {
        "colab": {
          "base_uri": "https://localhost:8080/",
          "height": 282
        },
        "id": "RSDXwaTIVY2Q",
        "outputId": "5af3aa24-ac56-45a5-e47c-14ecef8aef16"
      },
      "source": [
        "train_df[\"total_lines\"].plot.hist(bins=30)"
      ],
      "execution_count": null,
      "outputs": [
        {
          "output_type": "execute_result",
          "data": {
            "text/plain": [
              "<matplotlib.axes._subplots.AxesSubplot at 0x7fe3dfbe6ed0>"
            ]
          },
          "metadata": {},
          "execution_count": 99
        },
        {
          "output_type": "display_data",
          "data": {
            "image/png": "[encoded data removed]",
            "text/plain": [
              "<Figure size 432x288 with 1 Axes>"
            ]
          },
          "metadata": {
            "needs_background": "light"
          }
        }
      ]
    },
    {
      "cell_type": "code",
      "metadata": {
        "colab": {
          "base_uri": "https://localhost:8080/"
        },
        "id": "BTDTgATgVY2R",
        "outputId": "e221ca79-eb42-4bd7-85f8-cc3e4eb14e0f"
      },
      "source": [
        "train_total_lines_one_hot = tf.one_hot(train_df[\"total_lines\"].to_numpy(), depth=20)\n",
        "val_total_lines_one_hot = tf.one_hot(val_df[\"total_lines\"].to_numpy(), depth=20)\n",
        "\n",
        "train_total_lines_one_hot.shape, train_total_lines_one_hot[:5]"
      ],
      "execution_count": null,
      "outputs": [
        {
          "output_type": "execute_result",
          "data": {
            "text/plain": [
              "(TensorShape([180040, 20]), <tf.Tensor: shape=(5, 20), dtype=float32, numpy=\n",
              " array([[0., 0., 0., 0., 0., 0., 0., 0., 0., 0., 0., 1., 0., 0., 0., 0.,\n",
              "         0., 0., 0., 0.],\n",
              "        [0., 0., 0., 0., 0., 0., 0., 0., 0., 0., 0., 1., 0., 0., 0., 0.,\n",
              "         0., 0., 0., 0.],\n",
              "        [0., 0., 0., 0., 0., 0., 0., 0., 0., 0., 0., 1., 0., 0., 0., 0.,\n",
              "         0., 0., 0., 0.],\n",
              "        [0., 0., 0., 0., 0., 0., 0., 0., 0., 0., 0., 1., 0., 0., 0., 0.,\n",
              "         0., 0., 0., 0.],\n",
              "        [0., 0., 0., 0., 0., 0., 0., 0., 0., 0., 0., 1., 0., 0., 0., 0.,\n",
              "         0., 0., 0., 0.]], dtype=float32)>)"
            ]
          },
          "metadata": {},
          "execution_count": 100
        }
      ]
    },
    {
      "cell_type": "markdown",
      "metadata": {
        "id": "2pU_GxpxVY2R"
      },
      "source": [
        "#### Building a tribrid embedding model\n",
        "\n",
        "1. Create a token-level model\n",
        "2. Create a character-level model\n",
        "3. Create a model for the `line_number` feature\n",
        "4. Create a model for the `total_lines` feature\n",
        "5. Combine the outputs of `1` & `2` using `tf.keras.layers.Concatenate`\n",
        "5. Combine the outputs of `3, 4, 5` using `tf.keras.layers.Concatenate`\n",
        "7. Create an output layer to accept the tribried embedding and output preds probs\n",
        "8. Combine the inputs of `1,2,3,4` and outputs into `tf.keras.Model`"
      ]
    },
    {
      "cell_type": "code",
      "metadata": {
        "id": "Hs9BRRp5VY2R"
      },
      "source": [
        "# 1. Token inputs\n",
        "def create_model_5():\n",
        "  token_inputs = layers.Input(shape=[], dtype=tf.string, name=\"token_inputs\")\n",
        "  token_embeddings = hub.KerasLayer(USE_url, trainable=False)(token_inputs)\n",
        "  token_outputs =  layers.Dense(128, activation=\"relu\")(token_embeddings)\n",
        "  token_model = tf.keras.Model(token_inputs,\n",
        "                              token_outputs)\n",
        "\n",
        "  # 2. Char inputs\n",
        "  char_inputs = layers.Input(shape=(1,), dtype=tf.string, name=\"char_inputs\")\n",
        "  char_vectors = char_vectorizer(char_inputs)\n",
        "  char_embeddings = char_embed(char_vectors)\n",
        "  char_bi_lstm = layers.Bidirectional(layers.LSTM(24))(char_embeddings)\n",
        "  char_model = tf.keras.Model(char_inputs, char_bi_lstm)\n",
        "\n",
        "  # 3. Line numbers model\n",
        "  line_nums_input = layers.Input(shape=(15,), dtype=tf.float32)\n",
        "  line_nums_dense = layers.Dense(32, activation=\"relu\")(line_nums_input)\n",
        "  line_nums_model = Model(line_nums_input, line_nums_dense)\n",
        "\n",
        "  # 4. total lines model\n",
        "  total_lines_input = layers.Input(shape=(20,), dtype=tf.float32)\n",
        "  total_lines_dense = layers.Dense(32, activation=\"relu\")(total_lines_input)\n",
        "  total_lines_model = Model(total_lines_input, total_lines_dense)\n",
        "\n",
        "  # 5. combine token and char embeddings into a hybrid embedding\n",
        "  combined_embeddings = layers.Concatenate(name=\"char_token\")([token_model.output,\n",
        "                                                        char_model.output])\n",
        "  combined_embeds_dense = layers.Dense(256, activation=\"relu\")(combined_embeddings)\n",
        "  combined_embeds_output = layers.Dropout(0.5)(combined_embeds_dense)\n",
        "\n",
        "  # 6. Combine positional embedding with combined token and char embeddings\n",
        "  tribrid_embeddings = layers.Concatenate(name=\"char_token_lines\")([line_nums_model.output,\n",
        "                                                                  total_lines_model.output,\n",
        "                                                                  combined_embeds_output])\n",
        "  # 7. Create output layer\n",
        "  output_layer = layers.Dense(5, activation=\"softmax\", name=\"output\")(tribrid_embeddings)\n",
        "\n",
        "  # 8. Put it all together\n",
        "\n",
        "  model_5 = Model([line_nums_model.input, total_lines_model.input, token_model.input, char_model.input],\n",
        "                output_layer)\n",
        "  return model_5"
      ],
      "execution_count": null,
      "outputs": []
    },
    {
      "cell_type": "code",
      "metadata": {
        "colab": {
          "base_uri": "https://localhost:8080/",
          "height": 948
        },
        "id": "TSsMKDU9hHUj",
        "outputId": "e5bdcf48-9409-47fc-8819-a9599f5f1136"
      },
      "source": [
        "# visualise the model\n",
        "plot_model(model_5, show_shapes=True)"
      ],
      "execution_count": null,
      "outputs": [
        {
          "output_type": "execute_result",
          "data": {
            "image/png": "[encoded data removed]",
            "text/plain": [
              "<IPython.core.display.Image object>"
            ]
          },
          "metadata": {},
          "execution_count": 110
        }
      ]
    },
    {
      "cell_type": "code",
      "metadata": {
        "id": "SDxQM2EluOOz"
      },
      "source": [
        "model_5.compile(loss=tf.keras.losses.CategoricalCrossentropy(label_smoothing=0.2),\n",
        "                optimizer=tf.keras.optimizers.Adam(),\n",
        "                metrics=[\"accuracy\"]\n",
        "                )"
      ],
      "execution_count": null,
      "outputs": []
    },
    {
      "cell_type": "markdown",
      "metadata": {
        "id": "p8L9U6uP36iU"
      },
      "source": [
        "#### Create data pipelines"
      ]
    },
    {
      "cell_type": "code",
      "metadata": {
        "id": "-5J8fauC4ATH"
      },
      "source": [
        "# Create training and validation datasets\n",
        "train_char_token_pos_data = tf.data.Dataset.from_tensor_slices((train_line_numbers_one_hot,\n",
        "                                                                train_total_lines_one_hot,\n",
        "                                                                train_sentences,\n",
        "                                                                train_splited))\n",
        "train_char_token_pos_labels = tf.data.Dataset.from_tensor_slices((train_labels_one_hot))\n",
        "train_char_token_pos_dataset = tf.data.Dataset.zip((train_char_token_pos_data, train_char_token_pos_labels))\n",
        "train_char_token_pos_dataset = train_char_token_pos_dataset.batch(32).prefetch(AUTOTUNE)\n",
        "\n",
        "# repreat the same for val set\n",
        "val_char_token_pos_data = tf.data.Dataset.from_tensor_slices((val_line_numbers_one_hot,\n",
        "                                                                val_total_lines_one_hot,\n",
        "                                                                val_sentences,\n",
        "                                                                val_splited))\n",
        "val_char_token_pos_labels = tf.data.Dataset.from_tensor_slices((val_labels_one_hot))\n",
        "val_char_token_pos_dataset = tf.data.Dataset.zip((val_char_token_pos_data, val_char_token_pos_labels))\n",
        "val_char_token_pos_dataset = val_char_token_pos_dataset.batch(32).prefetch(AUTOTUNE)"
      ],
      "execution_count": null,
      "outputs": []
    },
    {
      "cell_type": "code",
      "metadata": {
        "colab": {
          "base_uri": "https://localhost:8080/"
        },
        "id": "mhq7wDpC6Tae",
        "outputId": "b970f52c-132c-4837-b736-6576ad388376"
      },
      "source": [
        "# fit the model\n",
        "history_5 = model_5.fit(train_char_token_pos_dataset, epochs=3,\n",
        "                        steps_per_epoch=int(0.1 * len(train_char_token_pos_dataset)),\n",
        "                        validation_data=val_char_token_pos_dataset,\n",
        "                        validation_steps=int(0.1 * len(val_char_token_pos_dataset))\n",
        "                       )"
      ],
      "execution_count": null,
      "outputs": [
        {
          "output_type": "stream",
          "name": "stdout",
          "text": [
            "Epoch 1/3\n",
            "562/562 [==============================] - 91s 141ms/step - loss: 1.0940 - accuracy: 0.7257 - val_loss: 0.9836 - val_accuracy: 0.8019\n",
            "Epoch 2/3\n",
            "562/562 [==============================] - 76s 135ms/step - loss: 0.9680 - accuracy: 0.8140 - val_loss: 0.9513 - val_accuracy: 0.8271\n",
            "Epoch 3/3\n",
            "562/562 [==============================] - 72s 127ms/step - loss: 0.9515 - accuracy: 0.8235 - val_loss: 0.9389 - val_accuracy: 0.8361\n"
          ]
        }
      ]
    },
    {
      "cell_type": "code",
      "metadata": {
        "colab": {
          "base_uri": "https://localhost:8080/"
        },
        "id": "u4kLRZZ7ACCc",
        "outputId": "ebc5605d-4ad7-459c-8b84-6eb8043f356f"
      },
      "source": [
        "# Evaluate the model\n",
        "model_5_preds = model_5.predict(val_char_token_pos_dataset)\n",
        "model_5_labels = model_5_preds.argmax(axis=1)\n",
        "model_5_metrics = utils.calculate_results(val_labels_encoded, model_5_labels)\n",
        "model_5_metrics"
      ],
      "execution_count": null,
      "outputs": [
        {
          "output_type": "execute_result",
          "data": {
            "text/plain": [
              "{'accuracy': 83.43373493975903,\n",
              " 'f1': 0.8334195674480569,\n",
              " 'precision': 0.8334061810298037,\n",
              " 'recall': 0.8343373493975904}"
            ]
          },
          "metadata": {},
          "execution_count": 118
        }
      ]
    },
    {
      "cell_type": "code",
      "metadata": {
        "id": "h4QKl2pbBKIn"
      },
      "source": [
        "def visualuze_metrics(metrics_dicts, names_of_models, figsize=(6, 6)):\n",
        "    import matplotlib.pyplot as plt\n",
        "    %matplotlib inline\n",
        "    df_metrics = pd.DataFrame.from_dict(metrics_dicts)\n",
        "    df_metrics.index = names_of_models\n",
        "    df_metrics[\"accuracy\"] = df_metrics[\"accuracy\"] / 100 \n",
        "    df_metrics.plot.bar(figsize=figsize)\n",
        "    plt.xticks(c=\"black\", rotation=\"horizontal\")\n",
        "    plt.yticks(c=\"black\");\n",
        "    plt.legend(loc='upper center', bbox_to_anchor=(0.5, -0.05),\n",
        "          fancybox=True, shadow=True, ncol=5)\n",
        "    return df_metrics"
      ],
      "execution_count": null,
      "outputs": []
    },
    {
      "cell_type": "code",
      "metadata": {
        "colab": {
          "base_uri": "https://localhost:8080/",
          "height": 396
        },
        "id": "6EuNh_s1B80F",
        "outputId": "4f2e278c-9520-45d6-dd78-b6c42d1b88e7"
      },
      "source": [
        "metrics_df = visualuze_metrics([baseline_metrics, model_1_metrics, model_2_metrics, model_3_metrics, model_4_metrics, model_5_metrics],\n",
        "                  [\"baseline_model\", \"model_1\", \"model_2\", \"model_3\", \"model_4\",\"model_5\"], figsize=(12,6))"
      ],
      "execution_count": null,
      "outputs": [
        {
          "output_type": "display_data",
          "data": {
            "image/png": "[encoded data removed]",
            "text/plain": [
              "<Figure size 864x432 with 1 Axes>"
            ]
          },
          "metadata": {
            "needs_background": "light"
          }
        }
      ]
    },
    {
      "cell_type": "code",
      "metadata": {
        "colab": {
          "base_uri": "https://localhost:8080/"
        },
        "id": "w3EPBtnoDkKA",
        "outputId": "261d0cae-30fd-4bf1-b4f8-73e7cfe7486c"
      },
      "source": [
        "# Training model 5 on 20k samples for 3 epochs\n",
        "model_5_20k = create_model_5()\n",
        "model_5_20k.compile(loss=tf.keras.losses.CategoricalCrossentropy(label_smoothing=0.2),\n",
        "                optimizer=tf.keras.optimizers.Adam(),\n",
        "                metrics=[\"accuracy\"]\n",
        "                )\n",
        "# fit the model\n",
        "history_5_20k = model_5_20k.fit(train_char_token_pos_dataset, epochs=3,\n",
        "                        steps_per_epoch=int(len(train_char_token_pos_dataset)),\n",
        "                        validation_data=val_char_token_pos_dataset,\n",
        "                        validation_steps=int(0.1 * len(val_char_token_pos_dataset))\n",
        "                       )"
      ],
      "execution_count": null,
      "outputs": [
        {
          "output_type": "stream",
          "name": "stdout",
          "text": [
            "Epoch 1/3\n",
            "5627/5627 [==============================] - 726s 127ms/step - loss: 0.9528 - accuracy: 0.8239 - val_loss: 0.9144 - val_accuracy: 0.8418\n",
            "Epoch 2/3\n",
            "5627/5627 [==============================] - 710s 126ms/step - loss: 0.9081 - accuracy: 0.8541 - val_loss: 0.9054 - val_accuracy: 0.8481\n",
            "Epoch 3/3\n",
            "5627/5627 [==============================] - 708s 126ms/step - loss: 0.8957 - accuracy: 0.8634 - val_loss: 0.9020 - val_accuracy: 0.8521\n"
          ]
        }
      ]
    },
    {
      "cell_type": "markdown",
      "metadata": {
        "id": "FDEe5bqtOkcA"
      },
      "source": [
        "### Final model\n",
        "\n",
        "I'll use architecture from model_5 again but this time I'm going to train it for more epochs and add ReduceLROnPlateau, early stoping and checkpoint callbacks. "
      ]
    },
    {
      "cell_type": "code",
      "metadata": {
        "id": "26NBkEhMFqHs"
      },
      "source": [
        "checkpoints_path = \"/content/drive/MyDrive/tensorflow/checkpoints/10_SkimLit/\""
      ],
      "execution_count": null,
      "outputs": []
    },
    {
      "cell_type": "code",
      "metadata": {
        "id": "fmXE8MFgOKVd"
      },
      "source": [
        "ckpt_callback = utils.create_checkpoint_callback(checkpoints_path +\"final.ckpt\",\n",
        "                                 best_only=True, weights_only=True)\n",
        "reduce_lr_callback = tf.keras.callbacks.ReduceLROnPlateau(factor=0.1,\n",
        "                                                          patience =0,\n",
        "                                                          verbose=1,\n",
        "                                                          min_lr=0.000001)\n",
        "early_stopping= tf.keras.callbacks.EarlyStopping(monitor=\"val_accuracy\", patience=3,mode=\"max\" )\n",
        "callbacks= [ckpt_callback, reduce_lr_callback, early_stopping]"
      ],
      "execution_count": null,
      "outputs": []
    },
    {
      "cell_type": "code",
      "metadata": {
        "colab": {
          "base_uri": "https://localhost:8080/"
        },
        "id": "2FmXltaTRA6X",
        "outputId": "793421bf-8e57-4dbf-9875-2c066a8ec0de"
      },
      "source": [
        "# fit the model\n",
        "history_5_20k = model_5_20k.fit(train_char_token_pos_dataset, epochs=20,\n",
        "                        steps_per_epoch=int(len(train_char_token_pos_dataset)),\n",
        "                        validation_data=val_char_token_pos_dataset,\n",
        "                        validation_steps=int(0.1 * len(val_char_token_pos_dataset)),\n",
        "                        callbacks=callbacks\n",
        "                       )"
      ],
      "execution_count": null,
      "outputs": [
        {
          "output_type": "stream",
          "name": "stdout",
          "text": [
            "Epoch 1/20\n",
            "5627/5627 [==============================] - 715s 127ms/step - loss: 0.8870 - accuracy: 0.8701 - val_loss: 0.9009 - val_accuracy: 0.8537\n",
            "\n",
            "Epoch 00001: val_accuracy improved from -inf to 0.85372, saving model to /content/drive/MyDrive/tensorflow/checkpoints/10_SkimLit/final.ckpt\n",
            "Epoch 2/20\n",
            "5627/5627 [==============================] - 712s 127ms/step - loss: 0.8799 - accuracy: 0.8754 - val_loss: 0.9015 - val_accuracy: 0.8554\n",
            "\n",
            "Epoch 00002: val_accuracy improved from 0.85372 to 0.85539, saving model to /content/drive/MyDrive/tensorflow/checkpoints/10_SkimLit/final.ckpt\n",
            "\n",
            "Epoch 00002: ReduceLROnPlateau reducing learning rate to 0.00010000000474974513.\n",
            "Epoch 3/20\n",
            "5627/5627 [==============================] - 713s 127ms/step - loss: 0.8616 - accuracy: 0.8878 - val_loss: 0.8897 - val_accuracy: 0.8644\n",
            "\n",
            "Epoch 00003: val_accuracy improved from 0.85539 to 0.86436, saving model to /content/drive/MyDrive/tensorflow/checkpoints/10_SkimLit/final.ckpt\n",
            "Epoch 4/20\n",
            "5627/5627 [==============================] - 715s 127ms/step - loss: 0.8568 - accuracy: 0.8906 - val_loss: 0.8894 - val_accuracy: 0.8637\n",
            "\n",
            "Epoch 00004: val_accuracy did not improve from 0.86436\n",
            "Epoch 5/20\n",
            "5627/5627 [==============================] - 712s 127ms/step - loss: 0.8547 - accuracy: 0.8928 - val_loss: 0.8890 - val_accuracy: 0.8657\n",
            "\n",
            "Epoch 00005: val_accuracy improved from 0.86436 to 0.86569, saving model to /content/drive/MyDrive/tensorflow/checkpoints/10_SkimLit/final.ckpt\n",
            "Epoch 6/20\n",
            "5627/5627 [==============================] - 714s 127ms/step - loss: 0.8528 - accuracy: 0.8937 - val_loss: 0.8892 - val_accuracy: 0.8657\n",
            "\n",
            "Epoch 00006: val_accuracy did not improve from 0.86569\n",
            "\n",
            "Epoch 00006: ReduceLROnPlateau reducing learning rate to 1.0000000474974514e-05.\n",
            "Epoch 7/20\n",
            "5627/5627 [==============================] - 721s 128ms/step - loss: 0.8500 - accuracy: 0.8960 - val_loss: 0.8875 - val_accuracy: 0.8684\n",
            "\n",
            "Epoch 00007: val_accuracy improved from 0.86569 to 0.86835, saving model to /content/drive/MyDrive/tensorflow/checkpoints/10_SkimLit/final.ckpt\n",
            "Epoch 8/20\n",
            "5627/5627 [==============================] - 730s 130ms/step - loss: 0.8495 - accuracy: 0.8963 - val_loss: 0.8875 - val_accuracy: 0.8693\n",
            "\n",
            "Epoch 00008: val_accuracy improved from 0.86835 to 0.86935, saving model to /content/drive/MyDrive/tensorflow/checkpoints/10_SkimLit/final.ckpt\n",
            "\n",
            "Epoch 00008: ReduceLROnPlateau reducing learning rate to 1.0000000656873453e-06.\n",
            "Epoch 9/20\n",
            "5627/5627 [==============================] - 722s 128ms/step - loss: 0.8490 - accuracy: 0.8963 - val_loss: 0.8872 - val_accuracy: 0.8697\n",
            "\n",
            "Epoch 00009: val_accuracy improved from 0.86935 to 0.86968, saving model to /content/drive/MyDrive/tensorflow/checkpoints/10_SkimLit/final.ckpt\n",
            "Epoch 10/20\n",
            "5627/5627 [==============================] - 720s 128ms/step - loss: 0.8492 - accuracy: 0.8964 - val_loss: 0.8871 - val_accuracy: 0.8693\n",
            "\n",
            "Epoch 00010: val_accuracy did not improve from 0.86968\n",
            "Epoch 11/20\n",
            " 547/5627 [=>............................] - ETA: 10:47 - loss: 0.8615 - accuracy: 0.8852"
          ]
        }
      ]
    },
    {
      "cell_type": "code",
      "metadata": {
        "id": "D6CxYF2KRadf"
      },
      "source": [
        ""
      ],
      "execution_count": null,
      "outputs": []
    }
  ]
}