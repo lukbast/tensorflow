{
 "cells": [
  {
   "cell_type": "markdown",
   "metadata": {
    "id": "Re4lHQL_TiZ4"
   },
   "source": [
    "# Introduction to NLP\n",
    "\n",
    "NPL has the goal of deriving information out of natural language.\n",
    "\n",
    "Another common term for NLP problems is sequence problems (seq2seq)"
   ]
  },
  {
   "cell_type": "markdown",
   "metadata": {
    "id": "1ljEqUkrUcSX"
   },
   "source": [
    "## Data\n",
    "\n",
    "The data set we're going to use is Kaggle's introduction to NLP dataset.\n",
    "\n",
    "Here's a link: https://www.kaggle.com/c/nlp-getting-started.\n"
   ]
  },
  {
   "cell_type": "code",
   "execution_count": 48,
   "metadata": {
    "executionInfo": {
     "elapsed": 439,
     "status": "ok",
     "timestamp": 1631793036372,
     "user": {
      "displayName": "Łukasz Bastyniec",
      "photoUrl": "https://lh3.googleusercontent.com/a/default-user=s64",
      "userId": "12697138669951369938"
     },
     "user_tz": -120
    },
    "id": "Yt5CKODDaBFW"
   },
   "outputs": [],
   "source": [
    "import pandas as pd\n",
    "\n",
    "train_df= pd.read_csv(\"./data/09_introduction_to_nlp_and_RNNs/train.csv\")\n",
    "test_df = pd.read_csv(\"./data/09_introduction_to_nlp_and_RNNs/test.csv\")"
   ]
  },
  {
   "cell_type": "markdown",
   "metadata": {
    "id": "zCdVF8Ftabst"
   },
   "source": [
    "### Visualize a text dataset."
   ]
  },
  {
   "cell_type": "code",
   "execution_count": 49,
   "metadata": {
    "colab": {
     "base_uri": "https://localhost:8080/",
     "height": 204
    },
    "executionInfo": {
     "elapsed": 4,
     "status": "ok",
     "timestamp": 1631793150509,
     "user": {
      "displayName": "Łukasz Bastyniec",
      "photoUrl": "https://lh3.googleusercontent.com/a/default-user=s64",
      "userId": "12697138669951369938"
     },
     "user_tz": -120
    },
    "id": "oMC1MZ5qapNu",
    "outputId": "9604ec7a-c47f-4551-ab0b-d6b979b62a55"
   },
   "outputs": [
    {
     "data": {
      "text/html": [
       "<div>\n",
       "<style scoped>\n",
       "    .dataframe tbody tr th:only-of-type {\n",
       "        vertical-align: middle;\n",
       "    }\n",
       "\n",
       "    .dataframe tbody tr th {\n",
       "        vertical-align: top;\n",
       "    }\n",
       "\n",
       "    .dataframe thead th {\n",
       "        text-align: right;\n",
       "    }\n",
       "</style>\n",
       "<table border=\"1\" class=\"dataframe\">\n",
       "  <thead>\n",
       "    <tr style=\"text-align: right;\">\n",
       "      <th></th>\n",
       "      <th>id</th>\n",
       "      <th>keyword</th>\n",
       "      <th>location</th>\n",
       "      <th>text</th>\n",
       "      <th>target</th>\n",
       "    </tr>\n",
       "  </thead>\n",
       "  <tbody>\n",
       "    <tr>\n",
       "      <th>0</th>\n",
       "      <td>1</td>\n",
       "      <td>NaN</td>\n",
       "      <td>NaN</td>\n",
       "      <td>Our Deeds are the Reason of this #earthquake M...</td>\n",
       "      <td>1</td>\n",
       "    </tr>\n",
       "    <tr>\n",
       "      <th>1</th>\n",
       "      <td>4</td>\n",
       "      <td>NaN</td>\n",
       "      <td>NaN</td>\n",
       "      <td>Forest fire near La Ronge Sask. Canada</td>\n",
       "      <td>1</td>\n",
       "    </tr>\n",
       "    <tr>\n",
       "      <th>2</th>\n",
       "      <td>5</td>\n",
       "      <td>NaN</td>\n",
       "      <td>NaN</td>\n",
       "      <td>All residents asked to 'shelter in place' are ...</td>\n",
       "      <td>1</td>\n",
       "    </tr>\n",
       "    <tr>\n",
       "      <th>3</th>\n",
       "      <td>6</td>\n",
       "      <td>NaN</td>\n",
       "      <td>NaN</td>\n",
       "      <td>13,000 people receive #wildfires evacuation or...</td>\n",
       "      <td>1</td>\n",
       "    </tr>\n",
       "    <tr>\n",
       "      <th>4</th>\n",
       "      <td>7</td>\n",
       "      <td>NaN</td>\n",
       "      <td>NaN</td>\n",
       "      <td>Just got sent this photo from Ruby #Alaska as ...</td>\n",
       "      <td>1</td>\n",
       "    </tr>\n",
       "  </tbody>\n",
       "</table>\n",
       "</div>"
      ],
      "text/plain": [
       "   id keyword location                                               text  \\\n",
       "0   1     NaN      NaN  Our Deeds are the Reason of this #earthquake M...   \n",
       "1   4     NaN      NaN             Forest fire near La Ronge Sask. Canada   \n",
       "2   5     NaN      NaN  All residents asked to 'shelter in place' are ...   \n",
       "3   6     NaN      NaN  13,000 people receive #wildfires evacuation or...   \n",
       "4   7     NaN      NaN  Just got sent this photo from Ruby #Alaska as ...   \n",
       "\n",
       "   target  \n",
       "0       1  \n",
       "1       1  \n",
       "2       1  \n",
       "3       1  \n",
       "4       1  "
      ]
     },
     "execution_count": 49,
     "metadata": {},
     "output_type": "execute_result"
    }
   ],
   "source": [
    "train_df.head()"
   ]
  },
  {
   "cell_type": "code",
   "execution_count": 50,
   "metadata": {
    "executionInfo": {
     "elapsed": 593,
     "status": "ok",
     "timestamp": 1631793310962,
     "user": {
      "displayName": "Łukasz Bastyniec",
      "photoUrl": "https://lh3.googleusercontent.com/a/default-user=s64",
      "userId": "12697138669951369938"
     },
     "user_tz": -120
    },
    "id": "yq0sY6eQc1tA"
   },
   "outputs": [],
   "source": [
    "# Shuffle taraining dataframe\n",
    "train_df_shuffled = train_df.sample(frac=1, random_state=42)"
   ]
  },
  {
   "cell_type": "code",
   "execution_count": 51,
   "metadata": {
    "colab": {
     "base_uri": "https://localhost:8080/",
     "height": 204
    },
    "executionInfo": {
     "elapsed": 4,
     "status": "ok",
     "timestamp": 1631793312983,
     "user": {
      "displayName": "Łukasz Bastyniec",
      "photoUrl": "https://lh3.googleusercontent.com/a/default-user=s64",
      "userId": "12697138669951369938"
     },
     "user_tz": -120
    },
    "id": "JJgh7m67dQJN",
    "outputId": "9d3bb929-971a-4a23-f24d-003740d51acb"
   },
   "outputs": [
    {
     "data": {
      "text/html": [
       "<div>\n",
       "<style scoped>\n",
       "    .dataframe tbody tr th:only-of-type {\n",
       "        vertical-align: middle;\n",
       "    }\n",
       "\n",
       "    .dataframe tbody tr th {\n",
       "        vertical-align: top;\n",
       "    }\n",
       "\n",
       "    .dataframe thead th {\n",
       "        text-align: right;\n",
       "    }\n",
       "</style>\n",
       "<table border=\"1\" class=\"dataframe\">\n",
       "  <thead>\n",
       "    <tr style=\"text-align: right;\">\n",
       "      <th></th>\n",
       "      <th>id</th>\n",
       "      <th>keyword</th>\n",
       "      <th>location</th>\n",
       "      <th>text</th>\n",
       "      <th>target</th>\n",
       "    </tr>\n",
       "  </thead>\n",
       "  <tbody>\n",
       "    <tr>\n",
       "      <th>2644</th>\n",
       "      <td>3796</td>\n",
       "      <td>destruction</td>\n",
       "      <td>NaN</td>\n",
       "      <td>So you have a new weapon that can cause un-ima...</td>\n",
       "      <td>1</td>\n",
       "    </tr>\n",
       "    <tr>\n",
       "      <th>2227</th>\n",
       "      <td>3185</td>\n",
       "      <td>deluge</td>\n",
       "      <td>NaN</td>\n",
       "      <td>The f$&amp;amp;@ing things I do for #GISHWHES Just...</td>\n",
       "      <td>0</td>\n",
       "    </tr>\n",
       "    <tr>\n",
       "      <th>5448</th>\n",
       "      <td>7769</td>\n",
       "      <td>police</td>\n",
       "      <td>UK</td>\n",
       "      <td>DT @georgegalloway: RT @Galloway4Mayor: ÛÏThe...</td>\n",
       "      <td>1</td>\n",
       "    </tr>\n",
       "    <tr>\n",
       "      <th>132</th>\n",
       "      <td>191</td>\n",
       "      <td>aftershock</td>\n",
       "      <td>NaN</td>\n",
       "      <td>Aftershock back to school kick off was great. ...</td>\n",
       "      <td>0</td>\n",
       "    </tr>\n",
       "    <tr>\n",
       "      <th>6845</th>\n",
       "      <td>9810</td>\n",
       "      <td>trauma</td>\n",
       "      <td>Montgomery County, MD</td>\n",
       "      <td>in response to trauma Children of Addicts deve...</td>\n",
       "      <td>0</td>\n",
       "    </tr>\n",
       "  </tbody>\n",
       "</table>\n",
       "</div>"
      ],
      "text/plain": [
       "        id      keyword               location  \\\n",
       "2644  3796  destruction                    NaN   \n",
       "2227  3185       deluge                    NaN   \n",
       "5448  7769       police                     UK   \n",
       "132    191   aftershock                    NaN   \n",
       "6845  9810       trauma  Montgomery County, MD   \n",
       "\n",
       "                                                   text  target  \n",
       "2644  So you have a new weapon that can cause un-ima...       1  \n",
       "2227  The f$&amp;@ing things I do for #GISHWHES Just...       0  \n",
       "5448  DT @georgegalloway: RT @Galloway4Mayor: ÛÏThe...       1  \n",
       "132   Aftershock back to school kick off was great. ...       0  \n",
       "6845  in response to trauma Children of Addicts deve...       0  "
      ]
     },
     "execution_count": 51,
     "metadata": {},
     "output_type": "execute_result"
    }
   ],
   "source": [
    "train_df_shuffled.head()"
   ]
  },
  {
   "cell_type": "code",
   "execution_count": 52,
   "metadata": {
    "colab": {
     "base_uri": "https://localhost:8080/",
     "height": 204
    },
    "executionInfo": {
     "elapsed": 459,
     "status": "ok",
     "timestamp": 1631793374683,
     "user": {
      "displayName": "Łukasz Bastyniec",
      "photoUrl": "https://lh3.googleusercontent.com/a/default-user=s64",
      "userId": "12697138669951369938"
     },
     "user_tz": -120
    },
    "id": "es5tHi88dTFs",
    "outputId": "835ad844-fb93-43b4-f9d1-9ecdd1ef61de"
   },
   "outputs": [
    {
     "data": {
      "text/html": [
       "<div>\n",
       "<style scoped>\n",
       "    .dataframe tbody tr th:only-of-type {\n",
       "        vertical-align: middle;\n",
       "    }\n",
       "\n",
       "    .dataframe tbody tr th {\n",
       "        vertical-align: top;\n",
       "    }\n",
       "\n",
       "    .dataframe thead th {\n",
       "        text-align: right;\n",
       "    }\n",
       "</style>\n",
       "<table border=\"1\" class=\"dataframe\">\n",
       "  <thead>\n",
       "    <tr style=\"text-align: right;\">\n",
       "      <th></th>\n",
       "      <th>id</th>\n",
       "      <th>keyword</th>\n",
       "      <th>location</th>\n",
       "      <th>text</th>\n",
       "    </tr>\n",
       "  </thead>\n",
       "  <tbody>\n",
       "    <tr>\n",
       "      <th>0</th>\n",
       "      <td>0</td>\n",
       "      <td>NaN</td>\n",
       "      <td>NaN</td>\n",
       "      <td>Just happened a terrible car crash</td>\n",
       "    </tr>\n",
       "    <tr>\n",
       "      <th>1</th>\n",
       "      <td>2</td>\n",
       "      <td>NaN</td>\n",
       "      <td>NaN</td>\n",
       "      <td>Heard about #earthquake is different cities, s...</td>\n",
       "    </tr>\n",
       "    <tr>\n",
       "      <th>2</th>\n",
       "      <td>3</td>\n",
       "      <td>NaN</td>\n",
       "      <td>NaN</td>\n",
       "      <td>there is a forest fire at spot pond, geese are...</td>\n",
       "    </tr>\n",
       "    <tr>\n",
       "      <th>3</th>\n",
       "      <td>9</td>\n",
       "      <td>NaN</td>\n",
       "      <td>NaN</td>\n",
       "      <td>Apocalypse lighting. #Spokane #wildfires</td>\n",
       "    </tr>\n",
       "    <tr>\n",
       "      <th>4</th>\n",
       "      <td>11</td>\n",
       "      <td>NaN</td>\n",
       "      <td>NaN</td>\n",
       "      <td>Typhoon Soudelor kills 28 in China and Taiwan</td>\n",
       "    </tr>\n",
       "  </tbody>\n",
       "</table>\n",
       "</div>"
      ],
      "text/plain": [
       "   id keyword location                                               text\n",
       "0   0     NaN      NaN                 Just happened a terrible car crash\n",
       "1   2     NaN      NaN  Heard about #earthquake is different cities, s...\n",
       "2   3     NaN      NaN  there is a forest fire at spot pond, geese are...\n",
       "3   9     NaN      NaN           Apocalypse lighting. #Spokane #wildfires\n",
       "4  11     NaN      NaN      Typhoon Soudelor kills 28 in China and Taiwan"
      ]
     },
     "execution_count": 52,
     "metadata": {},
     "output_type": "execute_result"
    }
   ],
   "source": [
    "# What does test dataframe looks like?\n",
    "test_df.head()"
   ]
  },
  {
   "cell_type": "markdown",
   "metadata": {
    "id": "96cjXA_2dt-R"
   },
   "source": [
    "Since I'm not going to submit anything on kaggle, test set is useless to me because it don't have labels."
   ]
  },
  {
   "cell_type": "code",
   "execution_count": 53,
   "metadata": {
    "colab": {
     "base_uri": "https://localhost:8080/"
    },
    "executionInfo": {
     "elapsed": 4,
     "status": "ok",
     "timestamp": 1631793570855,
     "user": {
      "displayName": "Łukasz Bastyniec",
      "photoUrl": "https://lh3.googleusercontent.com/a/default-user=s64",
      "userId": "12697138669951369938"
     },
     "user_tz": -120
    },
    "id": "34h6vyRsd-AI",
    "outputId": "4afc711f-0970-4481-ecf0-8b00bb2445a8"
   },
   "outputs": [
    {
     "data": {
      "text/plain": [
       "7613"
      ]
     },
     "execution_count": 53,
     "metadata": {},
     "output_type": "execute_result"
    }
   ],
   "source": [
    "# how many samples?\n",
    "len(train_df_shuffled)"
   ]
  },
  {
   "cell_type": "code",
   "execution_count": 54,
   "metadata": {
    "colab": {
     "base_uri": "https://localhost:8080/"
    },
    "executionInfo": {
     "elapsed": 490,
     "status": "ok",
     "timestamp": 1631794640829,
     "user": {
      "displayName": "Łukasz Bastyniec",
      "photoUrl": "https://lh3.googleusercontent.com/a/default-user=s64",
      "userId": "12697138669951369938"
     },
     "user_tz": -120
    },
    "id": "Rgpzu0ZBed1a",
    "outputId": "3c4c4a9c-8705-4ebb-9c95-91c443dbf5ec"
   },
   "outputs": [
    {
     "name": "stdout",
     "output_type": "stream",
     "text": [
      "Target: 0\n",
      "Text:\n",
      "2015 new fashion ladies gold watch waterproof WeiQin famous brand michel quartz de lujo caÛ_ http://t.co/1JgsioUJaS http://t.co/719TZEyHFn\n",
      "\n",
      "-----\n",
      "\n",
      "Target: 0\n",
      "Text:\n",
      "With a sinking music video tv career Brooke Hogan should be THANKING her Dad for the free publicity...although I doubt it will help her.\n",
      "\n",
      "-----\n",
      "\n",
      "Target: 0\n",
      "Text:\n",
      "Afghan peace talks in doubt after Mullah Omar's death - Financial Times | #Mullah\n",
      "\n",
      "-----\n",
      "\n",
      "Target: 0\n",
      "Text:\n",
      "I Survived A 12-Step Program for Sex Addiction - http://t.co/xsX26oo16s\n",
      "\n",
      "-----\n",
      "\n",
      "Target: 0\n",
      "Text:\n",
      "@FAIRx818x @PlayOverwatch @BlizzardCS please blizzard we love you\n",
      "\n",
      "-----\n",
      "\n"
     ]
    }
   ],
   "source": [
    "# Let's visualize some random training samples.\n",
    "import random\n",
    "rand_idx = random = random.randint(0, len(train_df)-5)\n",
    "for row in train_df_shuffled[[\"text\", \"target\"]][rand_idx:rand_idx+5].itertuples():\n",
    "  _, text, target = row\n",
    "  print(f\"Target: {target}\")\n",
    "  print(f\"Text:\\n{text}\\n\")\n",
    "  print(\"-----\\n\")"
   ]
  },
  {
   "cell_type": "code",
   "execution_count": 55,
   "metadata": {
    "executionInfo": {
     "elapsed": 417,
     "status": "ok",
     "timestamp": 1631795559303,
     "user": {
      "displayName": "Łukasz Bastyniec",
      "photoUrl": "https://lh3.googleusercontent.com/a/default-user=s64",
      "userId": "12697138669951369938"
     },
     "user_tz": -120
    },
    "id": "Px1D2ai_gFpw"
   },
   "outputs": [],
   "source": [
    "# make train and validation split\n",
    "X = train_df_shuffled[\"text\"].to_numpy()\n",
    "y = train_df_shuffled[\"target\"].to_numpy()\n",
    "\n",
    "from sklearn.model_selection import train_test_split\n",
    "X_train, X_val, y_train, y_val = train_test_split(X, y, test_size=0.1, random_state=42)"
   ]
  },
  {
   "cell_type": "code",
   "execution_count": 56,
   "metadata": {
    "colab": {
     "base_uri": "https://localhost:8080/"
    },
    "executionInfo": {
     "elapsed": 418,
     "status": "ok",
     "timestamp": 1631795615723,
     "user": {
      "displayName": "Łukasz Bastyniec",
      "photoUrl": "https://lh3.googleusercontent.com/a/default-user=s64",
      "userId": "12697138669951369938"
     },
     "user_tz": -120
    },
    "id": "EyZdhm0alTqd",
    "outputId": "65b412a0-8327-4065-fb11-ac51c96ade77"
   },
   "outputs": [
    {
     "data": {
      "text/plain": [
       "(6851, 762, 762, 6851)"
      ]
     },
     "execution_count": 56,
     "metadata": {},
     "output_type": "execute_result"
    }
   ],
   "source": [
    "len(X_train), len(X_val), len(y_val), len(y_train)"
   ]
  },
  {
   "cell_type": "code",
   "execution_count": 57,
   "metadata": {
    "colab": {
     "base_uri": "https://localhost:8080/"
    },
    "executionInfo": {
     "elapsed": 4,
     "status": "ok",
     "timestamp": 1631795753965,
     "user": {
      "displayName": "Łukasz Bastyniec",
      "photoUrl": "https://lh3.googleusercontent.com/a/default-user=s64",
      "userId": "12697138669951369938"
     },
     "user_tz": -120
    },
    "id": "X-DWyEV5mMjZ",
    "outputId": "3f73078e-9e41-4650-eac3-2e26d288cc9f"
   },
   "outputs": [
    {
     "data": {
      "text/plain": [
       "(array(['@mogacola @zamtriossu i screamed after hitting tweet',\n",
       "        'Imagine getting flattened by Kurt Zouma',\n",
       "        '@Gurmeetramrahim #MSGDoing111WelfareWorks Green S welfare force ke appx 65000 members har time disaster victim ki help ke liye tyar hai....',\n",
       "        \"@shakjn @C7 @Magnums im shaking in fear he's gonna hack the planet\",\n",
       "        'Somehow find you and I collide http://t.co/Ee8RpOahPk',\n",
       "        '@EvaHanderek @MarleyKnysh great times until the bus driver held us hostage in the mall parking lot lmfao',\n",
       "        'destroy the free fandom honestly',\n",
       "        'Weapons stolen from National Guard Armory in New Albany still missing #Gunsense http://t.co/lKNU8902JE',\n",
       "        '@wfaaweather Pete when will the heat wave pass? Is it really going to be mid month? Frisco Boy Scouts have a canoe trip in Okla.',\n",
       "        'Patient-reported outcomes in long-term survivors of metastatic colorectal cancer - British Journal of Surgery http://t.co/5Yl4DC1Tqt'],\n",
       "       dtype=object),\n",
       " array([0, 0, 1, ..., 1, 1, 0], dtype=int64))"
      ]
     },
     "execution_count": 57,
     "metadata": {},
     "output_type": "execute_result"
    }
   ],
   "source": [
    "# Check 10 first samples\n",
    "\n",
    "X_train[:10], y_train"
   ]
  },
  {
   "cell_type": "markdown",
   "metadata": {
    "id": "rtH4cmNbuoZG"
   },
   "source": [
    "## Converting text into numbers\n"
   ]
  },
  {
   "cell_type": "markdown",
   "metadata": {
    "id": "joeXibdmv_1F"
   },
   "source": [
    "### Tokenization"
   ]
  },
  {
   "cell_type": "code",
   "execution_count": 58,
   "metadata": {
    "executionInfo": {
     "elapsed": 3,
     "status": "ok",
     "timestamp": 1631798341638,
     "user": {
      "displayName": "Łukasz Bastyniec",
      "photoUrl": "https://lh3.googleusercontent.com/a/default-user=s64",
      "userId": "12697138669951369938"
     },
     "user_tz": -120
    },
    "id": "xWVQzHidwDEv"
   },
   "outputs": [],
   "source": [
    "import tensorflow as tf\n",
    "from tensorflow.keras.layers import TextVectorization"
   ]
  },
  {
   "cell_type": "code",
   "execution_count": 59,
   "metadata": {
    "executionInfo": {
     "elapsed": 5345,
     "status": "ok",
     "timestamp": 1631799339190,
     "user": {
      "displayName": "Łukasz Bastyniec",
      "photoUrl": "https://lh3.googleusercontent.com/a/default-user=s64",
      "userId": "12697138669951369938"
     },
     "user_tz": -120
    },
    "id": "G-tZk8TEwP6j"
   },
   "outputs": [],
   "source": [
    "# Use default TextVectorisation parameters\n",
    "text_vectorization = TextVectorization(max_tokens=None,\n",
    "                                       standardize=\"lower_and_strip_punctuation\",\n",
    "                                       split=\"whitespace\",\n",
    "                                       ngrams=None,\n",
    "                                       output_mode=\"int\",\n",
    "                                       output_sequence_length=None)"
   ]
  },
  {
   "cell_type": "code",
   "execution_count": 60,
   "metadata": {
    "id": "lY3hBnXgzQ6m"
   },
   "outputs": [
    {
     "data": {
      "text/plain": [
       "15"
      ]
     },
     "execution_count": 60,
     "metadata": {},
     "output_type": "execute_result"
    }
   ],
   "source": [
    "# Find the average number of tokens in train data\n",
    "round(sum([len(i.split()) for i in X_train]) / len(X_train))"
   ]
  },
  {
   "cell_type": "code",
   "execution_count": 61,
   "metadata": {},
   "outputs": [],
   "source": [
    "# Setup text vectorization variables\n",
    "max_vocab_length = 10000\n",
    "max_length = 15\n",
    "\n",
    "text_vectorizer = TextVectorization(max_tokens=max_vocab_length,\n",
    "                                    output_mode=\"int\",\n",
    "                                output_sequence_length=max_length)"
   ]
  },
  {
   "cell_type": "code",
   "execution_count": 62,
   "metadata": {},
   "outputs": [],
   "source": [
    "text_vectorizer.adapt(X_train)"
   ]
  },
  {
   "cell_type": "code",
   "execution_count": 63,
   "metadata": {},
   "outputs": [
    {
     "data": {
      "text/plain": [
       "<tf.Tensor: shape=(1, 15), dtype=int64, numpy=\n",
       "array([[264,   3, 232,   4,  13, 698,   0,   0,   0,   0,   0,   0,   0,\n",
       "          0,   0]], dtype=int64)>"
      ]
     },
     "execution_count": 63,
     "metadata": {},
     "output_type": "execute_result"
    }
   ],
   "source": [
    "sample_sentence = \"Theres a flood in my street\"\n",
    "text_vectorizer([sample_sentence])"
   ]
  },
  {
   "cell_type": "code",
   "execution_count": 64,
   "metadata": {},
   "outputs": [
    {
     "name": "stdout",
     "output_type": "stream",
     "text": [
      "Orginal text: \n",
      " Water now tops the charts for highest global risk in terms of devastationÛ_ ahead of nuclear war or a global pandemic http://t.co/nbcvbSO9nm        \n",
      "\n",
      "Vectorized version:\n"
     ]
    },
    {
     "data": {
      "text/plain": [
       "<tf.Tensor: shape=(1, 15), dtype=int64, numpy=\n",
       "array([[ 190,   48, 4400,    2, 3113,   10, 2958,  894, 1062,    4, 3345,\n",
       "           6,    1, 1155,    6]], dtype=int64)>"
      ]
     },
     "execution_count": 64,
     "metadata": {},
     "output_type": "execute_result"
    }
   ],
   "source": [
    "import numpy as np\n",
    "random_sentence = np.random.choice(X_train)\n",
    "print(f\"Orginal text: \\n {random_sentence}\\\n",
    "        \\n\\nVectorized version:\")\n",
    "text_vectorizer([random_sentence])"
   ]
  },
  {
   "cell_type": "code",
   "execution_count": 65,
   "metadata": {},
   "outputs": [
    {
     "data": {
      "text/plain": [
       "10000"
      ]
     },
     "execution_count": 65,
     "metadata": {},
     "output_type": "execute_result"
    }
   ],
   "source": [
    "# Get the unique words in the vocabulary\n",
    "words_in_vocab = text_vectorizer.get_vocabulary()\n",
    "len(words_in_vocab)"
   ]
  },
  {
   "cell_type": "code",
   "execution_count": 66,
   "metadata": {},
   "outputs": [
    {
     "data": {
      "text/plain": [
       "['', '[UNK]', 'the', 'a', 'in']"
      ]
     },
     "execution_count": 66,
     "metadata": {},
     "output_type": "execute_result"
    }
   ],
   "source": [
    "words_in_vocab[:5] # 5 most commont words"
   ]
  },
  {
   "cell_type": "code",
   "execution_count": 67,
   "metadata": {},
   "outputs": [
    {
     "data": {
      "text/plain": [
       "['pages', 'paeds', 'pads', 'padres', 'paddytomlinson1']"
      ]
     },
     "execution_count": 67,
     "metadata": {},
     "output_type": "execute_result"
    }
   ],
   "source": [
    "words_in_vocab[-5:] # 5 least common words"
   ]
  },
  {
   "cell_type": "markdown",
   "metadata": {},
   "source": [
    "### Embedding"
   ]
  },
  {
   "cell_type": "code",
   "execution_count": 68,
   "metadata": {},
   "outputs": [
    {
     "data": {
      "text/plain": [
       "<keras.layers.embeddings.Embedding at 0x1ae3f60ac70>"
      ]
     },
     "execution_count": 68,
     "metadata": {},
     "output_type": "execute_result"
    }
   ],
   "source": [
    "from tensorflow.keras import layers\n",
    "\n",
    "embedding = layers.Embedding(input_dim=max_vocab_length,\n",
    "                            output_dim=128,\n",
    "                            input_length=max_length)\n",
    "embedding"
   ]
  },
  {
   "cell_type": "code",
   "execution_count": 69,
   "metadata": {},
   "outputs": [
    {
     "name": "stdout",
     "output_type": "stream",
     "text": [
      "Orginal text: \n",
      " #FX #forex #trading Cramer: Iger's 3 words that wrecked Disney's stock http://t.co/7enNulLKzM        \n",
      "\n",
      "Vectorized version:\n"
     ]
    },
    {
     "data": {
      "text/plain": [
       "<tf.Tensor: shape=(1, 15, 128), dtype=float32, numpy=\n",
       "array([[[ 0.03821668, -0.0152208 , -0.0242126 , ..., -0.03094035,\n",
       "          0.03005237,  0.01473108],\n",
       "        [-0.00394255, -0.03181588, -0.03212656, ..., -0.01292272,\n",
       "          0.01113068, -0.01994925],\n",
       "        [ 0.03970409,  0.04789478, -0.02886786, ...,  0.02121494,\n",
       "          0.00511824,  0.02313777],\n",
       "        ...,\n",
       "        [ 0.04073824,  0.0176979 , -0.02975166, ..., -0.03879651,\n",
       "          0.01005026,  0.00621309],\n",
       "        [ 0.04073824,  0.0176979 , -0.02975166, ..., -0.03879651,\n",
       "          0.01005026,  0.00621309],\n",
       "        [ 0.04073824,  0.0176979 , -0.02975166, ..., -0.03879651,\n",
       "          0.01005026,  0.00621309]]], dtype=float32)>"
      ]
     },
     "execution_count": 69,
     "metadata": {},
     "output_type": "execute_result"
    }
   ],
   "source": [
    "# et random sentence\n",
    "random_sentence = np.random.choice(X_train)\n",
    "\n",
    "# Embed the random sentence (turn it into numerical reprezentation)\n",
    "sample_embed = embedding(text_vectorizer([random_sentence]))\n",
    "print(f\"Orginal text: \\n {random_sentence}\\\n",
    "        \\n\\nVectorized version:\")\n",
    "sample_embed"
   ]
  },
  {
   "cell_type": "markdown",
   "metadata": {},
   "source": [
    "### Model 0 : Baseline model\n",
    "\n",
    "We'are going to use Sklearn's Multinomial Naive Bayes the TF-IDF formula."
   ]
  },
  {
   "cell_type": "code",
   "execution_count": 70,
   "metadata": {},
   "outputs": [
    {
     "name": "stdout",
     "output_type": "stream",
     "text": [
      "Baseline's accuracy: 79.27%\n"
     ]
    }
   ],
   "source": [
    "from sklearn.feature_extraction.text import TfidfVectorizer\n",
    "from sklearn.naive_bayes import MultinomialNB\n",
    "from sklearn.pipeline import Pipeline\n",
    "\n",
    "model_0 = Pipeline([\n",
    "    (\"tfidf\", TfidfVectorizer()),\n",
    "    (\"clf\", MultinomialNB())\n",
    "])\n",
    "\n",
    "model_0.fit(X_train, y_train)\n",
    "\n",
    "# Evaluate\n",
    "baseline_score = model_0.score(X_val, y_val)\n",
    "print(f\"Baseline's accuracy: {baseline_score*100:.2f}%\")"
   ]
  },
  {
   "cell_type": "code",
   "execution_count": 71,
   "metadata": {},
   "outputs": [],
   "source": [
    "from utils_sklearn import evaluate_preds_classification\n",
    "baseline_preds = model_0.predict(X_val)"
   ]
  },
  {
   "cell_type": "code",
   "execution_count": 72,
   "metadata": {},
   "outputs": [
    {
     "name": "stdout",
     "output_type": "stream",
     "text": [
      "Accuracy: 79.27%\n",
      "Precision: 0.8861788617886179\n",
      "Recall: 0.6264367816091954\n",
      "F1 Score: 0.734006734006734 \n",
      "\n"
     ]
    }
   ],
   "source": [
    "baseline_metrics = evaluate_preds_classification(y_val, baseline_preds);"
   ]
  },
  {
   "cell_type": "markdown",
   "metadata": {},
   "source": [
    "### Model 1: Feed forward neural network"
   ]
  },
  {
   "cell_type": "code",
   "execution_count": 73,
   "metadata": {},
   "outputs": [],
   "source": [
    "# Instantiate embeddings and Text vector layers\n",
    "max_vocab_length = 10000\n",
    "max_length = 15\n",
    "\n",
    "text_vectorizer = TextVectorization(max_tokens=max_vocab_length,\n",
    "                                    output_mode=\"int\",\n",
    "                                output_sequence_length=max_length,\n",
    "                                   name=\"TextVectorizer\")\n",
    "\n",
    "embedding = layers.Embedding(input_dim=max_vocab_length,\n",
    "                            output_dim=128,\n",
    "                            input_length=max_length,\n",
    "                            name=\"Embedding\")\n",
    "text_vectorizer.adapt(X_train)"
   ]
  },
  {
   "cell_type": "code",
   "execution_count": 74,
   "metadata": {},
   "outputs": [
    {
     "name": "stdout",
     "output_type": "stream",
     "text": [
      "Saving TensorBoard log files to: ./logs/09_introduction_to_nlp_and_RNNs/model_1/20210921-121910\n",
      "Epoch 1/3\n",
      "215/215 [==============================] - 4s 14ms/step - loss: 0.6385 - accuracy: 0.6580 - val_loss: 0.5738 - val_accuracy: 0.7651\n",
      "Epoch 2/3\n",
      "215/215 [==============================] - 2s 10ms/step - loss: 0.4667 - accuracy: 0.8297 - val_loss: 0.4715 - val_accuracy: 0.7822\n",
      "Epoch 3/3\n",
      "215/215 [==============================] - 2s 9ms/step - loss: 0.3381 - accuracy: 0.8775 - val_loss: 0.4543 - val_accuracy: 0.7913\n"
     ]
    }
   ],
   "source": [
    "from tensorflow.keras import Model\n",
    "from tensorflow.keras.layers import Dense, Embedding, Input, GlobalMaxPool1D\n",
    "import utils\n",
    "\n",
    "tf.random.set_seed(42)\n",
    "inputs = Input(shape=(1,), dtype=tf.string)\n",
    "x = text_vectorizer(inputs)\n",
    "x = embedding(x)\n",
    "x = GlobalMaxPool1D(name=\"GlbAvgPool1D\")(x)\n",
    "outputs = layers.Dense(1, activation=\"sigmoid\", name=\"output_layer\")(x)\n",
    "\n",
    "model_1 = Model(inputs, outputs, name=\"model_1_Feed_forward_NN\")\n",
    "\n",
    "\n",
    "model_1.compile(loss=\"binary_crossentropy\",\n",
    "               optimizer=\"adam\",\n",
    "                metrics=\"accuracy\"\n",
    "               )\n",
    "\n",
    "callbacks = [utils.create_tensorboard_callback(\"./logs/09_introduction_to_nlp_and_RNNs\",\n",
    "                                             \"model_1\")]\n",
    "history_1 = model_1.fit(X_train, y_train, epochs=3,\n",
    "                       validation_data=(X_val, y_val),\n",
    "                       callbacks= callbacks)"
   ]
  },
  {
   "cell_type": "code",
   "execution_count": 75,
   "metadata": {},
   "outputs": [
    {
     "name": "stdout",
     "output_type": "stream",
     "text": [
      "Accuracy: 79.13%\n",
      "Precision: 0.8436363636363636\n",
      "Recall: 0.6666666666666666\n",
      "F1 Score: 0.7447833065810594 \n",
      "\n"
     ]
    }
   ],
   "source": [
    "# evaluate model\n",
    "model1_preds = model_1.predict(X_val)\n",
    "model1_metrics = evaluate_preds_classification(y_val, np.round(model1_preds))"
   ]
  },
  {
   "cell_type": "code",
   "execution_count": 109,
   "metadata": {},
   "outputs": [],
   "source": [
    "# visualize predictions\n",
    "\n",
    "def visualuze_metrics(metrics_dicts, names_of_models, figsize=(6, 6)):\n",
    "    import matplotlib.pyplot as plt\n",
    "    %matplotlib inline\n",
    "    df_metrics = pd.DataFrame.from_dict(metrics_dicts)\n",
    "    df_metrics.index = names_of_models\n",
    "    df_metrics.plot.bar(figsize=figsize)\n",
    "    plt.xticks(c=\"white\", rotation=\"horizontal\")\n",
    "    plt.yticks(c=\"white\");\n",
    "    plt.legend(loc='upper center', bbox_to_anchor=(0.5, -0.05),\n",
    "          fancybox=True, shadow=True, ncol=5)"
   ]
  },
  {
   "cell_type": "code",
   "execution_count": 77,
   "metadata": {},
   "outputs": [
    {
     "data": {
      "image/png": "[encoded data removed]",
      "text/plain": [
       "<Figure size 432x432 with 1 Axes>"
      ]
     },
     "metadata": {
      "needs_background": "dark"
     },
     "output_type": "display_data"
    }
   ],
   "source": [
    "visualuze_metrics((model1_metrics, baseline_metrics),[\"Feed forward NN\",\"Multinomial Naive Bayes\"])"
   ]
  },
  {
   "cell_type": "markdown",
   "metadata": {},
   "source": [
    "### Visualize embeddings"
   ]
  },
  {
   "cell_type": "code",
   "execution_count": 78,
   "metadata": {},
   "outputs": [
    {
     "name": "stdout",
     "output_type": "stream",
     "text": [
      "Model: \"model_1_Feed_forward_NN\"\n",
      "_________________________________________________________________\n",
      "Layer (type)                 Output Shape              Param #   \n",
      "=================================================================\n",
      "input_1 (InputLayer)         [(None, 1)]               0         \n",
      "_________________________________________________________________\n",
      "TextVectorizer (TextVectoriz (None, 15)                0         \n",
      "_________________________________________________________________\n",
      "Embedding (Embedding)        (None, 15, 128)           1280000   \n",
      "_________________________________________________________________\n",
      "GlbAvgPool1D (GlobalMaxPooli (None, 128)               0         \n",
      "_________________________________________________________________\n",
      "output_layer (Dense)         (None, 1)                 129       \n",
      "=================================================================\n",
      "Total params: 1,280,129\n",
      "Trainable params: 1,280,129\n",
      "Non-trainable params: 0\n",
      "_________________________________________________________________\n"
     ]
    }
   ],
   "source": [
    "model_1.summary()"
   ]
  },
  {
   "cell_type": "code",
   "execution_count": 79,
   "metadata": {},
   "outputs": [
    {
     "data": {
      "text/plain": [
       "array([[-0.05359416, -0.02641659, -0.0779337 , ..., -0.00769626,\n",
       "        -0.05399211,  0.00088535],\n",
       "       [-0.03805873, -0.03782602, -0.07444458, ..., -0.02027151,\n",
       "        -0.0488812 , -0.00852444],\n",
       "       [-0.028234  , -0.01640459, -0.03620162, ..., -0.04612003,\n",
       "        -0.04742247, -0.02268683],\n",
       "       ...,\n",
       "       [-0.03301444, -0.0052493 , -0.04209725, ...,  0.02028764,\n",
       "         0.00308807,  0.02215792],\n",
       "       [ 0.02133723,  0.01553482, -0.00238698, ..., -0.01781169,\n",
       "         0.02554074, -0.00167966],\n",
       "       [ 0.00283879,  0.02564049, -0.01014895, ...,  0.04555799,\n",
       "        -0.02234115, -0.04768636]], dtype=float32)"
      ]
     },
     "execution_count": 79,
     "metadata": {},
     "output_type": "execute_result"
    }
   ],
   "source": [
    "# Get the weight matrix of embedding layer\n",
    "vocab = text_vectorizer.get_vocabulary()\n",
    "embed_weights = model_1.get_layer(\"Embedding\").get_weights()[0]\n",
    "embed_weights"
   ]
  },
  {
   "cell_type": "code",
   "execution_count": 80,
   "metadata": {},
   "outputs": [
    {
     "data": {
      "text/plain": [
       "(128,)"
      ]
     },
     "execution_count": 80,
     "metadata": {},
     "output_type": "execute_result"
    }
   ],
   "source": [
    "embed_weights[0].shape"
   ]
  },
  {
   "cell_type": "code",
   "execution_count": 81,
   "metadata": {},
   "outputs": [
    {
     "data": {
      "text/plain": [
       "128"
      ]
     },
     "execution_count": 81,
     "metadata": {},
     "output_type": "execute_result"
    }
   ],
   "source": [
    "len(embed_weights[0])"
   ]
  },
  {
   "cell_type": "code",
   "execution_count": 82,
   "metadata": {},
   "outputs": [
    {
     "data": {
      "text/plain": [
       "-0.05359416"
      ]
     },
     "execution_count": 82,
     "metadata": {},
     "output_type": "execute_result"
    }
   ],
   "source": [
    "embed_weights[0][0]"
   ]
  },
  {
   "cell_type": "markdown",
   "metadata": {},
   "source": [
    "I'm going to use http://projector.tensorflow.org to visualize embeddings."
   ]
  },
  {
   "cell_type": "code",
   "execution_count": 83,
   "metadata": {},
   "outputs": [],
   "source": [
    "# code for exporting vectors and metadata\n",
    "import io\n",
    "out_v = io.open('./embeddings/09_introduction_to_nlp_and_RNNs/baseline/vectors.tsv',\n",
    "                'w', encoding='utf-8')\n",
    "out_m = io.open('./embeddings/09_introduction_to_nlp_and_RNNs/baseline/metadata.tsv', \n",
    "                'w', encoding='utf-8')\n",
    "\n",
    "for index, word in enumerate(vocab):\n",
    "  if index == 0:\n",
    "    continue  # skip 0, it's padding.\n",
    "  vec = embed_weights[index]\n",
    "  out_v.write('\\t'.join([str(x) for x in vec]) + \"\\n\")\n",
    "  out_m.write(word + \"\\n\")\n",
    "out_v.close()\n",
    "out_m.close()"
   ]
  },
  {
   "cell_type": "markdown",
   "metadata": {},
   "source": [
    "## Recurent Neural Networks"
   ]
  },
  {
   "cell_type": "markdown",
   "metadata": {},
   "source": [
    "### Model 2: LSTM"
   ]
  },
  {
   "cell_type": "code",
   "execution_count": 84,
   "metadata": {},
   "outputs": [],
   "source": [
    "# Create an LSTM model\n",
    "inputs = layers.Input(shape=(1,), dtype=\"string\")\n",
    "x = text_vectorizer(inputs)\n",
    "x = embedding(x)\n",
    "x = layers.LSTM(64)(x)\n",
    "outputs = layers.Dense(1, activation=\"sigmoid\")(x)\n",
    "\n",
    "model_2 = Model(inputs, outputs, name=\"model_2_LSTM\")"
   ]
  },
  {
   "cell_type": "code",
   "execution_count": 85,
   "metadata": {},
   "outputs": [
    {
     "name": "stdout",
     "output_type": "stream",
     "text": [
      "Saving TensorBoard log files to: ./logs/09_introduction_to_nlp_and_RNNs/model_2/20210921-121920\n",
      "Epoch 1/5\n",
      "215/215 [==============================] - 6s 16ms/step - loss: 0.4062 - accuracy: 0.8186 - val_loss: 0.4587 - val_accuracy: 0.7900\n",
      "Epoch 2/5\n",
      "215/215 [==============================] - 3s 12ms/step - loss: 0.2724 - accuracy: 0.8933 - val_loss: 0.5346 - val_accuracy: 0.7835\n",
      "Epoch 3/5\n",
      "215/215 [==============================] - 3s 12ms/step - loss: 0.1942 - accuracy: 0.9289 - val_loss: 0.5887 - val_accuracy: 0.7756\n",
      "Epoch 4/5\n",
      "215/215 [==============================] - 3s 12ms/step - loss: 0.1450 - accuracy: 0.9496 - val_loss: 0.6273 - val_accuracy: 0.7835\n",
      "Epoch 5/5\n",
      "215/215 [==============================] - 3s 12ms/step - loss: 0.1065 - accuracy: 0.9616 - val_loss: 0.8805 - val_accuracy: 0.7625\n"
     ]
    }
   ],
   "source": [
    "model_2.compile(loss=\"binary_crossentropy\",\n",
    "               optimizer=\"adam\",\n",
    "                metrics=\"accuracy\"\n",
    "               )\n",
    "\n",
    "callbacks = [utils.create_tensorboard_callback(\"./logs/09_introduction_to_nlp_and_RNNs\",\n",
    "                                             \"model_2\")]\n",
    "history_2 = model_2.fit(X_train, y_train, epochs=5,\n",
    "                       validation_data=(X_val, y_val),\n",
    "                       callbacks= callbacks)"
   ]
  },
  {
   "cell_type": "code",
   "execution_count": 86,
   "metadata": {},
   "outputs": [
    {
     "name": "stdout",
     "output_type": "stream",
     "text": [
      "Accuracy: 76.25%\n",
      "Precision: 0.7634069400630915\n",
      "Recall: 0.6954022988505747\n",
      "F1 Score: 0.7278195488721805 \n",
      "\n"
     ]
    }
   ],
   "source": [
    "model2_preds = model_2.predict(X_val)\n",
    "model2_metrics = evaluate_preds_classification(y_val, np.round(model2_preds))"
   ]
  },
  {
   "cell_type": "code",
   "execution_count": 87,
   "metadata": {},
   "outputs": [
    {
     "data": {
      "image/png": "[encoded data removed]",
      "text/plain": [
       "<Figure size 576x360 with 1 Axes>"
      ]
     },
     "metadata": {
      "needs_background": "dark"
     },
     "output_type": "display_data"
    }
   ],
   "source": [
    "visualuze_metrics([model2_metrics, model1_metrics, baseline_metrics],\n",
    "                  [\"LSTM\", \"Feed forward NN\",\"Multinomial Naive Bayes\"],\n",
    "                 figsize=(8,5))"
   ]
  },
  {
   "cell_type": "markdown",
   "metadata": {},
   "source": [
    "### Model 3 : GRU"
   ]
  },
  {
   "cell_type": "code",
   "execution_count": 88,
   "metadata": {},
   "outputs": [],
   "source": [
    "# create a GRU model\n",
    "inputs = layers.Input(shape=(1,), dtype=tf.string)\n",
    "x = text_vectorizer(inputs)\n",
    "x = embedding(x)\n",
    "x = layers.GRU(64, activation=\"tanh\")(x)\n",
    "outputs = layers.Dense(1, activation=\"sigmoid\")(x)\n",
    "\n",
    "model_3 = Model(inputs, outputs)"
   ]
  },
  {
   "cell_type": "code",
   "execution_count": 89,
   "metadata": {},
   "outputs": [
    {
     "name": "stdout",
     "output_type": "stream",
     "text": [
      "Saving TensorBoard log files to: ./logs/09_introduction_to_nlp_and_RNNs/model_3/20210921-121937\n",
      "Epoch 1/5\n",
      "215/215 [==============================] - 5s 16ms/step - loss: 0.2007 - accuracy: 0.9174 - val_loss: 0.6005 - val_accuracy: 0.7743\n",
      "Epoch 2/5\n",
      "215/215 [==============================] - 2s 12ms/step - loss: 0.1035 - accuracy: 0.9634 - val_loss: 0.7639 - val_accuracy: 0.7756\n",
      "Epoch 3/5\n",
      "215/215 [==============================] - 2s 11ms/step - loss: 0.0824 - accuracy: 0.9696 - val_loss: 0.9664 - val_accuracy: 0.7559\n",
      "Epoch 4/5\n",
      "215/215 [==============================] - 2s 11ms/step - loss: 0.0727 - accuracy: 0.9729 - val_loss: 0.8990 - val_accuracy: 0.7651\n",
      "Epoch 5/5\n",
      "215/215 [==============================] - 2s 11ms/step - loss: 0.0565 - accuracy: 0.9762 - val_loss: 0.9815 - val_accuracy: 0.7677\n"
     ]
    }
   ],
   "source": [
    "model_3.compile(loss=\"binary_crossentropy\",\n",
    "               optimizer=\"adam\",\n",
    "                metrics=\"accuracy\"\n",
    "               )\n",
    "\n",
    "callbacks = [utils.create_tensorboard_callback(\"./logs/09_introduction_to_nlp_and_RNNs\",\n",
    "                                             \"model_3\")]\n",
    "history_3 = model_3.fit(X_train, y_train, epochs=5,\n",
    "                       validation_data=(X_val, y_val),\n",
    "                       callbacks= callbacks)"
   ]
  },
  {
   "cell_type": "code",
   "execution_count": 90,
   "metadata": {},
   "outputs": [
    {
     "name": "stdout",
     "output_type": "stream",
     "text": [
      "Accuracy: 76.77%\n",
      "Precision: 0.768025078369906\n",
      "Recall: 0.7040229885057471\n",
      "F1 Score: 0.7346326836581709 \n",
      "\n"
     ]
    }
   ],
   "source": [
    "model3_preds = model_3.predict(X_val)\n",
    "model3_metrics = evaluate_preds_classification(y_val, np.round(model3_preds))"
   ]
  },
  {
   "cell_type": "code",
   "execution_count": 91,
   "metadata": {},
   "outputs": [
    {
     "data": {
      "image/png": "[encoded data removed]",
      "text/plain": [
       "<Figure size 576x360 with 1 Axes>"
      ]
     },
     "metadata": {
      "needs_background": "dark"
     },
     "output_type": "display_data"
    }
   ],
   "source": [
    "visualuze_metrics([model3_metrics,model2_metrics, model1_metrics, baseline_metrics],\n",
    "                  [\"GRU\", \"LSTM\", \"Feed forward NN\",\"Multinomial Naive Bayes\"],\n",
    "                 figsize=(8,5))"
   ]
  },
  {
   "cell_type": "markdown",
   "metadata": {},
   "source": [
    "### Model 4: Bidirectional RNN"
   ]
  },
  {
   "cell_type": "code",
   "execution_count": 92,
   "metadata": {},
   "outputs": [],
   "source": [
    "# create bidirectional NN\n",
    "inputs = layers.Input(shape=(1,), dtype=tf.string)\n",
    "x = text_vectorizer(inputs)\n",
    "x = embedding(x)\n",
    "x = layers.Bidirectional(layers.GRU(64, activation=\"tanh\", return_sequences=True))(x)\n",
    "x = layers.Bidirectional(layers.LSTM(64, activation=\"tanh\"))(x)\n",
    "outputs = layers.Dense(1, activation=\"sigmoid\")(x)\n",
    "\n",
    "model_4 = Model(inputs, outputs)"
   ]
  },
  {
   "cell_type": "code",
   "execution_count": 93,
   "metadata": {},
   "outputs": [
    {
     "name": "stdout",
     "output_type": "stream",
     "text": [
      "Saving TensorBoard log files to: ./logs/09_introduction_to_nlp_and_RNNs/model_4/20210921-121954\n",
      "Epoch 1/5\n",
      "215/215 [==============================] - 15s 35ms/step - loss: 0.0929 - accuracy: 0.9660 - val_loss: 1.1034 - val_accuracy: 0.7638\n",
      "Epoch 2/5\n",
      "215/215 [==============================] - 5s 23ms/step - loss: 0.0621 - accuracy: 0.9750 - val_loss: 1.2336 - val_accuracy: 0.7730\n",
      "Epoch 3/5\n",
      "215/215 [==============================] - 5s 23ms/step - loss: 0.0591 - accuracy: 0.9762 - val_loss: 1.3085 - val_accuracy: 0.7743\n",
      "Epoch 4/5\n",
      "215/215 [==============================] - 5s 24ms/step - loss: 0.0582 - accuracy: 0.9772 - val_loss: 1.2118 - val_accuracy: 0.7730\n",
      "Epoch 5/5\n",
      "215/215 [==============================] - 5s 23ms/step - loss: 0.0547 - accuracy: 0.9788 - val_loss: 1.1608 - val_accuracy: 0.7703\n"
     ]
    }
   ],
   "source": [
    "model_4.compile(loss=\"binary_crossentropy\",\n",
    "               optimizer=\"rmsprop\",\n",
    "                metrics=\"accuracy\"\n",
    "               )\n",
    "\n",
    "callbacks = [utils.create_tensorboard_callback(\"./logs/09_introduction_to_nlp_and_RNNs\",\n",
    "                                             \"model_4\")]\n",
    "history_4 = model_4.fit(X_train, y_train, epochs=5,\n",
    "                       validation_data=(X_val, y_val),\n",
    "                       callbacks= callbacks)"
   ]
  },
  {
   "cell_type": "code",
   "execution_count": 94,
   "metadata": {},
   "outputs": [
    {
     "name": "stdout",
     "output_type": "stream",
     "text": [
      "Accuracy: 77.03%\n",
      "Precision: 0.7711598746081505\n",
      "Recall: 0.7068965517241379\n",
      "F1 Score: 0.7376311844077962 \n",
      "\n"
     ]
    }
   ],
   "source": [
    "model4_preds = model_4.predict(X_val)\n",
    "model4_metrics = evaluate_preds_classification(y_val, np.round(model4_preds))"
   ]
  },
  {
   "cell_type": "code",
   "execution_count": 95,
   "metadata": {},
   "outputs": [
    {
     "data": {
      "image/png": "[encoded data removed]",
      "text/plain": [
       "<Figure size 864x360 with 1 Axes>"
      ]
     },
     "metadata": {
      "needs_background": "dark"
     },
     "output_type": "display_data"
    }
   ],
   "source": [
    "visualuze_metrics([model4_metrics,model3_metrics,model2_metrics, model1_metrics, baseline_metrics],\n",
    "                  [\"Bidirectional\", \"GRU\", \"LSTM\", \"Feed forward NN\",\"Multinomial Naive Bayes\"],\n",
    "                 figsize=(12,5))"
   ]
  },
  {
   "cell_type": "markdown",
   "metadata": {},
   "source": [
    "### Model 5: 1D Conv NN"
   ]
  },
  {
   "cell_type": "code",
   "execution_count": 96,
   "metadata": {},
   "outputs": [],
   "source": [
    "# create model\n",
    "inputs = layers.Input(shape=(1,), dtype=tf.string)\n",
    "x = text_vectorizer(inputs)\n",
    "x = embedding(x)\n",
    "x = layers.Conv1D(16, 1, activation=\"relu\", padding=\"same\")(x)\n",
    "x = layers.GlobalMaxPool1D()(x)\n",
    "outputs = layers.Dense(1, activation=\"sigmoid\")(x)\n",
    "\n",
    "model_5 = Model(inputs, outputs)"
   ]
  },
  {
   "cell_type": "code",
   "execution_count": 97,
   "metadata": {},
   "outputs": [
    {
     "name": "stdout",
     "output_type": "stream",
     "text": [
      "Saving TensorBoard log files to: ./logs/09_introduction_to_nlp_and_RNNs/model_5/20210921-122031\n",
      "215/215 [==============================] - 7s 14ms/step - loss: 0.2578 - accuracy: 0.9291 - val_loss: 0.6050 - val_accuracy: 0.7848\n"
     ]
    }
   ],
   "source": [
    "model_5.compile(loss=\"binary_crossentropy\",\n",
    "               optimizer=\"adam\",\n",
    "                metrics=\"accuracy\"\n",
    "               )\n",
    "\n",
    "callbacks = [utils.create_tensorboard_callback(\"./logs/09_introduction_to_nlp_and_RNNs\",\n",
    "                                             \"model_5\")]\n",
    "history_5 = model_5.fit(X_train, y_train, epochs=1,\n",
    "                       validation_data=(X_val, y_val),\n",
    "                       callbacks= callbacks)"
   ]
  },
  {
   "cell_type": "code",
   "execution_count": 98,
   "metadata": {},
   "outputs": [
    {
     "name": "stdout",
     "output_type": "stream",
     "text": [
      "Accuracy: 78.48%\n",
      "Precision: 0.8026315789473685\n",
      "Recall: 0.7011494252873564\n",
      "F1 Score: 0.7484662576687118 \n",
      "\n"
     ]
    }
   ],
   "source": [
    "model5_preds = model_5.predict(X_val)\n",
    "model5_metrics = evaluate_preds_classification(y_val, tf.squeeze(np.round(model5_preds)))"
   ]
  },
  {
   "cell_type": "code",
   "execution_count": 99,
   "metadata": {},
   "outputs": [
    {
     "data": {
      "image/png": "[encoded data removed]",
      "text/plain": [
       "<Figure size 864x360 with 1 Axes>"
      ]
     },
     "metadata": {
      "needs_background": "dark"
     },
     "output_type": "display_data"
    }
   ],
   "source": [
    "visualuze_metrics([model5_metrics, model4_metrics, model3_metrics,model2_metrics, model1_metrics, baseline_metrics],\n",
    "                  [\"Conv 1D\",\"Bidirectional\", \"GRU\", \"LSTM\", \"Feed forward NN\",\"Multinomial Naive Bayes\"],\n",
    "                  figsize=(12,5))"
   ]
  },
  {
   "cell_type": "markdown",
   "metadata": {},
   "source": [
    "### Model 6: Pretrained USE from TFhub"
   ]
  },
  {
   "cell_type": "code",
   "execution_count": 100,
   "metadata": {},
   "outputs": [],
   "source": [
    "import tensorflow_hub as hub\n",
    "import tensorflow as tf\n",
    "from tensorflow.keras import Model, Sequential, layers\n",
    "from tensorflow.keras.layers import Dense, Embedding, Input, GlobalMaxPool1D, LSTM\n",
    "import utils, utils_sklearn\n",
    "import numpy as np\n",
    "\n",
    "# models url\n",
    "MODEL_URL =  \"https://tfhub.dev/google/universal-sentence-encoder/4\" # almost 1GB"
   ]
  },
  {
   "cell_type": "code",
   "execution_count": 101,
   "metadata": {},
   "outputs": [],
   "source": [
    "embed = hub.KerasLayer(MODEL_URL,\n",
    "                      input_shape=[], dtype=tf.string, trainable=False, name=\"USE\")"
   ]
  },
  {
   "cell_type": "code",
   "execution_count": 102,
   "metadata": {},
   "outputs": [
    {
     "name": "stdout",
     "output_type": "stream",
     "text": [
      "Saving TensorBoard log files to: ./logs/09_introduction_to_nlp_and_RNNs/model_5/20210921-122053\n",
      "Epoch 1/5\n",
      "215/215 [==============================] - 17s 51ms/step - loss: 0.5060 - accuracy: 0.7630 - val_loss: 0.4374 - val_accuracy: 0.8071\n",
      "Epoch 2/5\n",
      "215/215 [==============================] - 6s 28ms/step - loss: 0.4072 - accuracy: 0.8168 - val_loss: 0.4259 - val_accuracy: 0.8110\n",
      "Epoch 3/5\n",
      "215/215 [==============================] - 6s 27ms/step - loss: 0.3954 - accuracy: 0.8250 - val_loss: 0.4245 - val_accuracy: 0.8110\n",
      "Epoch 4/5\n",
      "215/215 [==============================] - 6s 27ms/step - loss: 0.3906 - accuracy: 0.8285 - val_loss: 0.4199 - val_accuracy: 0.8136\n",
      "Epoch 5/5\n",
      "215/215 [==============================] - 6s 27ms/step - loss: 0.3863 - accuracy: 0.8305 - val_loss: 0.4248 - val_accuracy: 0.8136\n"
     ]
    }
   ],
   "source": [
    "# create a model\n",
    "model_6 = Sequential([\n",
    "    embed,\n",
    "    layers.Reshape((1,512)),\n",
    "    LSTM(64, return_sequences=True),\n",
    "    LSTM(64),\n",
    "    Dense(1, activation=\"sigmoid\")\n",
    "])\n",
    "\n",
    "model_6.compile(loss=\"binary_crossentropy\",\n",
    "               optimizer=\"adam\",\n",
    "                metrics=\"accuracy\"\n",
    "               )\n",
    "\n",
    "callbacks = [utils.create_tensorboard_callback(\"./logs/09_introduction_to_nlp_and_RNNs\",\n",
    "                                             \"model_5\")]\n",
    "history_6 = model_6.fit(X_train, y_train, epochs=5,\n",
    "                       validation_data=(X_val, y_val),\n",
    "                       callbacks= callbacks)"
   ]
  },
  {
   "cell_type": "code",
   "execution_count": 103,
   "metadata": {},
   "outputs": [
    {
     "name": "stdout",
     "output_type": "stream",
     "text": [
      "Accuracy: 81.36%\n",
      "Precision: 0.8576388888888888\n",
      "Recall: 0.7097701149425287\n",
      "F1 Score: 0.7767295597484277 \n",
      "\n"
     ]
    }
   ],
   "source": [
    "model6_preds = model_6.predict(X_val)\n",
    "model6_metrics = utils_sklearn.evaluate_preds_classification(y_val, np.round(model6_preds))"
   ]
  },
  {
   "cell_type": "code",
   "execution_count": 113,
   "metadata": {},
   "outputs": [
    {
     "data": {
      "image/png": "[encoded data removed]",
      "text/plain": [
       "<Figure size 1008x360 with 1 Axes>"
      ]
     },
     "metadata": {
      "needs_background": "dark"
     },
     "output_type": "display_data"
    }
   ],
   "source": [
    "visualuze_metrics([model6_metrics, model5_metrics, model4_metrics, model3_metrics,model2_metrics, model1_metrics, baseline_metrics],\n",
    "                  [\"TFhub USE\",\"Conv 1D\",\"Bidirectional\", \"GRU\", \"LSTM\", \"Feed forward NN\",\"Multinomial Naive Bayes\"],\n",
    "                  figsize=(14,5))"
   ]
  },
  {
   "cell_type": "code",
   "execution_count": null,
   "metadata": {},
   "outputs": [],
   "source": []
  }
 ],
 "metadata": {
  "accelerator": "GPU",
  "colab": {
   "authorship_tag": "ABX9TyNb312DwP0VuuvF0VKYDWT7",
   "mount_file_id": "11JydEOzoZmDOiIYP9zp98g-OeCfngl2O",
   "name": "09_introduction_to_nlp_and_RNNs.ipynb",
   "provenance": []
  },
  "kernelspec": {
   "display_name": "Python 3",
   "language": "python",
   "name": "python3"
  },
  "language_info": {
   "codemirror_mode": {
    "name": "ipython",
    "version": 3
   },
   "file_extension": ".py",
   "mimetype": "text/x-python",
   "name": "python",
   "nbconvert_exporter": "python",
   "pygments_lexer": "ipython3",
   "version": "3.9.6"
  }
 },
 "nbformat": 4,
 "nbformat_minor": 1
}
