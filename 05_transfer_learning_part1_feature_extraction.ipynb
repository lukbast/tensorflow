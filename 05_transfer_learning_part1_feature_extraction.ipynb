{
 "cells": [
  {
   "cell_type": "markdown",
   "id": "f21dfc1d",
   "metadata": {},
   "source": [
    "# Transfer learning with TensorFlow Part 1: Feature Extraction\n",
    "\n",
    "Transfer learning is leveraging a working model's existing architecture and learned patterns.\n",
    "\n",
    "There are two main benefits:\n",
    "1. Can leverage an existing neural network architecture proven to work on problems similar to our own.\n",
    "2. Can leverage a working neural network architecture which already learned patterns on similar data to ours. Then we can adapt those patterns to our data."
   ]
  },
  {
   "cell_type": "markdown",
   "id": "fe364627",
   "metadata": {},
   "source": [
    "## Becoming one with the data."
   ]
  },
  {
   "cell_type": "code",
   "execution_count": 88,
   "id": "252a5c33",
   "metadata": {},
   "outputs": [],
   "source": [
    "# !tar -xf \"./data/05_transfer_learning_part1_feature_extraction/10_food_classes_10_percent.zip\" -C \"./data/05_transfer_learning_part1_feature_extraction/\""
   ]
  },
  {
   "cell_type": "code",
   "execution_count": 89,
   "id": "a7552692",
   "metadata": {},
   "outputs": [],
   "source": [
    "# print folder structure of unzipped data\n",
    "import os\n",
    "def print_dir(path:str, indents=0):\n",
    "    indent = \"    \"\n",
    "    for dir_name in os.listdir(path):\n",
    "        dir_path = os.path.join(path, dir_name)\n",
    "        if os.path.isdir(dir_path):\n",
    "            print(f\"{indent*indents}{dir_name} - {len(os.listdir(dir_path))} items\")\n",
    "            print_dir(dir_path, indents+1)"
   ]
  },
  {
   "cell_type": "code",
   "execution_count": 90,
   "id": "09341f50",
   "metadata": {},
   "outputs": [
    {
     "name": "stdout",
     "output_type": "stream",
     "text": [
      "test - 10 items\n",
      "    chicken_curry - 250 items\n",
      "    chicken_wings - 250 items\n",
      "    fried_rice - 250 items\n",
      "    grilled_salmon - 250 items\n",
      "    hamburger - 250 items\n",
      "    ice_cream - 250 items\n",
      "    pizza - 250 items\n",
      "    ramen - 250 items\n",
      "    steak - 250 items\n",
      "    sushi - 250 items\n",
      "train - 10 items\n",
      "    chicken_curry - 75 items\n",
      "    chicken_wings - 75 items\n",
      "    fried_rice - 75 items\n",
      "    grilled_salmon - 75 items\n",
      "    hamburger - 75 items\n",
      "    ice_cream - 75 items\n",
      "    pizza - 75 items\n",
      "    ramen - 75 items\n",
      "    steak - 75 items\n",
      "    sushi - 75 items\n"
     ]
    }
   ],
   "source": [
    "print_dir(\"./data/05_transfer_learning_part1_feature_extraction/10_food_classes_10_percent/\")"
   ]
  },
  {
   "cell_type": "markdown",
   "id": "3fc13cf6",
   "metadata": {},
   "source": [
    "Looks like we have test and train sets already. There are 10 classes. Each class in test set have 250 samples and class in train set have 75 samples."
   ]
  },
  {
   "cell_type": "code",
   "execution_count": 91,
   "id": "97def6b1",
   "metadata": {},
   "outputs": [
    {
     "data": {
      "text/plain": [
       "['1071242.jpg', '1140085.jpg', '116147.jpg', '1173563.jpg', '1179201.jpg']"
      ]
     },
     "execution_count": 91,
     "metadata": {},
     "output_type": "execute_result"
    }
   ],
   "source": [
    "# print 5 items from class folder\n",
    "os.listdir(\n",
    "\"./data/05_transfer_learning_part1_feature_extraction/10_food_classes_10_percent/train/chicken_curry/\")[:5]"
   ]
  },
  {
   "cell_type": "markdown",
   "id": "508b74d0",
   "metadata": {},
   "source": [
    "Samples are images in jpg format."
   ]
  },
  {
   "cell_type": "code",
   "execution_count": 92,
   "id": "44dfbc25",
   "metadata": {},
   "outputs": [
    {
     "name": "stdout",
     "output_type": "stream",
     "text": [
      "Found 750 images belonging to 10 classes.\n",
      "Found 2500 images belonging to 10 classes.\n"
     ]
    }
   ],
   "source": [
    "## Create data batches\n",
    "from tensorflow.keras.preprocessing.image import ImageDataGenerator\n",
    "\n",
    "IMAGE_SHAPE = (224, 224)\n",
    "\n",
    "train_patch = \"./data/05_transfer_learning_part1_feature_extraction/10_food_classes_10_percent/train\"\n",
    "test_patch = \"./data/05_transfer_learning_part1_feature_extraction/10_food_classes_10_percent/test\"\n",
    "\n",
    "train_datagen = ImageDataGenerator(rescale=(1./255))\n",
    "test_datagen = ImageDataGenerator(rescale=(1./255))\n",
    "\n",
    "train_batch = train_datagen.flow_from_directory(train_patch, \n",
    "                                               target_size=IMAGE_SHAPE,\n",
    "                                                seed=42)            \n",
    "\n",
    "test_batch = test_datagen.flow_from_directory(test_patch, \n",
    "                                               target_size=IMAGE_SHAPE,\n",
    "                                                seed=42)    "
   ]
  },
  {
   "cell_type": "markdown",
   "id": "19927940",
   "metadata": {},
   "source": [
    "## Setting up callbacks"
   ]
  },
  {
   "cell_type": "code",
   "execution_count": 93,
   "id": "d0686261",
   "metadata": {},
   "outputs": [],
   "source": [
    "# Create TensorBoard callback\n",
    "import datetime\n",
    "import tensorflow as tf\n",
    "def create_tensorboard_callback(dir_name, experiment_name):\n",
    "    log_dir = (dir_name + \"/\" +\n",
    "              experiment_name + \"/\" +\n",
    "              datetime.datetime.utcnow().strftime(\"%Y%m%d-%H%M%S\"))\n",
    "    tensorboard_callback = tf.keras.callbacks.TensorBoard(log_dir)\n",
    "    return tensorboard_callback"
   ]
  },
  {
   "cell_type": "markdown",
   "id": "fb8f01ac",
   "metadata": {},
   "source": [
    "## Creating models using TensorFlow Hub"
   ]
  },
  {
   "cell_type": "code",
   "execution_count": 94,
   "id": "585bbff2",
   "metadata": {},
   "outputs": [],
   "source": [
    "# Let's compare the following two models\n",
    "resnet_url = \"https://tfhub.dev/google/imagenet/resnet_v2_50/feature_vector/5\"\n",
    "\n",
    "effnet_url = \"https://tfhub.dev/tensorflow/efficientnet/b0/feature-vector/1\""
   ]
  },
  {
   "cell_type": "code",
   "execution_count": 95,
   "id": "5e787a24",
   "metadata": {},
   "outputs": [],
   "source": [
    "# Imports\n",
    "import tensorflow as tf\n",
    "import tensorflow_hub as hub\n",
    "from tensorflow.keras import layers\n",
    "from tensorflow.keras import Sequential, layers\n"
   ]
  },
  {
   "cell_type": "code",
   "execution_count": 96,
   "id": "9dfed176",
   "metadata": {},
   "outputs": [],
   "source": [
    "# function that creates models from tfhub\n",
    "def create_model(model_url, num_classes=10):\n",
    "    # Download the pretrained model and save it as a keras layer\n",
    "    feat_exctr_layer = hub.KerasLayer(model_url,\n",
    "                                      trainable=False,  # freeze the already learned patterns\n",
    "                                     name=\"feat_exctr_layer\",\n",
    "                                     input_shape=IMAGE_SHAPE+(3,),\n",
    "                                     dtype=tf.float32) \n",
    "    \n",
    "    # Create model\n",
    "    model = Sequential([\n",
    "        feat_exctr_layer,\n",
    "        layers.Dense(num_classes, activation=\"softmax\", name=\"output_layer\", dtype=tf.float32)\n",
    "    ])\n",
    "    \n",
    "    return model"
   ]
  },
  {
   "cell_type": "markdown",
   "id": "11eca819",
   "metadata": {},
   "source": [
    "### Creating and testing ResNet"
   ]
  },
  {
   "cell_type": "code",
   "execution_count": 97,
   "id": "e5925d58",
   "metadata": {},
   "outputs": [],
   "source": [
    "# create a model\n",
    "resnet = create_model(resnet_url, 10)"
   ]
  },
  {
   "cell_type": "code",
   "execution_count": 98,
   "id": "b803c54c",
   "metadata": {},
   "outputs": [],
   "source": [
    "# Compile a model\n",
    "resnet.compile(loss=\"categorical_crossentropy\",\n",
    "               optimizer=\"adam\",\n",
    "               metrics=[\"accuracy\"])"
   ]
  },
  {
   "cell_type": "code",
   "execution_count": 99,
   "id": "fd74207a",
   "metadata": {},
   "outputs": [
    {
     "name": "stdout",
     "output_type": "stream",
     "text": [
      "Epoch 1/5\n",
      "24/24 [==============================] - 21s 684ms/step - loss: 1.8763 - accuracy: 0.3773 - val_loss: 1.1755 - val_accuracy: 0.6456\n",
      "Epoch 2/5\n",
      "24/24 [==============================] - 14s 584ms/step - loss: 0.8898 - accuracy: 0.7293 - val_loss: 0.8327 - val_accuracy: 0.7388\n",
      "Epoch 3/5\n",
      "24/24 [==============================] - 15s 624ms/step - loss: 0.6125 - accuracy: 0.8240 - val_loss: 0.7447 - val_accuracy: 0.7572\n",
      "Epoch 4/5\n",
      "24/24 [==============================] - 14s 600ms/step - loss: 0.4723 - accuracy: 0.8827 - val_loss: 0.6997 - val_accuracy: 0.7744\n",
      "Epoch 5/5\n",
      "24/24 [==============================] - 14s 583ms/step - loss: 0.3865 - accuracy: 0.9080 - val_loss: 0.6784 - val_accuracy: 0.7732\n"
     ]
    }
   ],
   "source": [
    "# fit the model\n",
    "resnet_history = resnet.fit(train_batch, \n",
    "          steps_per_epoch=len(train_batch),\n",
    "          epochs=5,\n",
    "          validation_data=test_batch,\n",
    "          validation_steps=len(test_batch),\n",
    "          callbacks=[create_tensorboard_callback(\"logs/05_transfer_learning_part1_feature_extraction\",\n",
    "                                                \"resnet50V2\")])"
   ]
  },
  {
   "cell_type": "markdown",
   "id": "ac369490",
   "metadata": {},
   "source": [
    "This models outperform models from prevoius notebook on smaller dataset and way faster."
   ]
  },
  {
   "cell_type": "code",
   "execution_count": 100,
   "id": "abb9b836",
   "metadata": {},
   "outputs": [],
   "source": [
    "# Let's create a function to plot our loss curves\n",
    "import pandas as pd\n",
    "import matplotlib.pyplot as plt\n",
    "%matplotlib inline\n",
    "def plot_loss_curves(models_history):\n",
    "    df = pd.DataFrame(models_history.history)\n",
    "    df_acc = df.filter([\"accuracy\", \"val_accuracy\"], axis=1)\n",
    "    df_acc.plot()\n",
    "    plt.title(\"Accuracy vs val_accurcy\", c=\"white\", size=15)\n",
    "    plt.xlabel(\"epochs\", c=\"white\",size=15)\n",
    "    plt.ylabel(\"Accuracy\", c=\"white\", size=15)\n",
    "    \n",
    "    df_loss = df.filter([\"loss\", \"val_loss\"], axis=1)\n",
    "    df_loss.plot()\n",
    "    plt.title(\"loss vs val_loss\", c=\"white\", size=15)\n",
    "    plt.xlabel(\"epochs\", c=\"white\", size=15)\n",
    "    plt.ylabel(\"Loss\", c=\"white\", size=15)"
   ]
  },
  {
   "cell_type": "code",
   "execution_count": 101,
   "id": "7597275d",
   "metadata": {},
   "outputs": [
    {
     "data": {
      "image/png": "[encoded data removed]",
      "text/plain": [
       "<Figure size 432x288 with 1 Axes>"
      ]
     },
     "metadata": {
      "needs_background": "light"
     },
     "output_type": "display_data"
    },
    {
     "data": {
      "image/png": "[encoded data removed]",
      "text/plain": [
       "<Figure size 432x288 with 1 Axes>"
      ]
     },
     "metadata": {
      "needs_background": "light"
     },
     "output_type": "display_data"
    }
   ],
   "source": [
    "plot_loss_curves(resnet_history)"
   ]
  },
  {
   "cell_type": "markdown",
   "id": "8fa91ada",
   "metadata": {},
   "source": [
    "### Creating and testing EfficientNetB0"
   ]
  },
  {
   "cell_type": "code",
   "execution_count": 102,
   "id": "3478ebee",
   "metadata": {},
   "outputs": [],
   "source": [
    "# create a model\n",
    "effnet = create_model(effnet_url, 10)"
   ]
  },
  {
   "cell_type": "code",
   "execution_count": 103,
   "id": "47640be6",
   "metadata": {},
   "outputs": [],
   "source": [
    "# compile a model\n",
    "effnet.compile(loss=\"categorical_crossentropy\",\n",
    "               optimizer=\"adam\",\n",
    "               metrics=[\"accuracy\"])"
   ]
  },
  {
   "cell_type": "code",
   "execution_count": 104,
   "id": "2d3f768f",
   "metadata": {},
   "outputs": [
    {
     "name": "stdout",
     "output_type": "stream",
     "text": [
      "Epoch 1/5\n",
      "24/24 [==============================] - 32s 845ms/step - loss: 1.7999 - accuracy: 0.4787 - val_loss: 1.2500 - val_accuracy: 0.7540\n",
      "Epoch 2/5\n",
      "24/24 [==============================] - 14s 614ms/step - loss: 1.0271 - accuracy: 0.7987 - val_loss: 0.8418 - val_accuracy: 0.8268\n",
      "Epoch 3/5\n",
      "24/24 [==============================] - 14s 606ms/step - loss: 0.7395 - accuracy: 0.8467 - val_loss: 0.6797 - val_accuracy: 0.8484\n",
      "Epoch 4/5\n",
      "24/24 [==============================] - 15s 628ms/step - loss: 0.5934 - accuracy: 0.8747 - val_loss: 0.5969 - val_accuracy: 0.8548\n",
      "Epoch 5/5\n",
      "24/24 [==============================] - 14s 611ms/step - loss: 0.5025 - accuracy: 0.8880 - val_loss: 0.5480 - val_accuracy: 0.8608\n"
     ]
    }
   ],
   "source": [
    "effnet_history = effnet.fit(train_batch,\n",
    "    steps_per_epoch=len(train_batch),\n",
    "    validation_data=test_batch,\n",
    "    validation_steps=len(test_batch),\n",
    "    epochs=5,\n",
    "    callbacks=[create_tensorboard_callback(\"logs/05_transfer_learning_part1_feature_extraction\",\n",
    "                                           \"efficientnetB0\")])\n",
    "                        "
   ]
  },
  {
   "cell_type": "code",
   "execution_count": 105,
   "id": "8a808465",
   "metadata": {},
   "outputs": [
    {
     "data": {
      "image/png": "[encoded data removed]",
      "text/plain": [
       "<Figure size 432x288 with 1 Axes>"
      ]
     },
     "metadata": {
      "needs_background": "light"
     },
     "output_type": "display_data"
    },
    {
     "data": {
      "image/png": "[encoded data removed]",
      "text/plain": [
       "<Figure size 432x288 with 1 Axes>"
      ]
     },
     "metadata": {
      "needs_background": "light"
     },
     "output_type": "display_data"
    }
   ],
   "source": [
    "plot_loss_curves(effnet_history)"
   ]
  },
  {
   "cell_type": "markdown",
   "id": "ec6492c6",
   "metadata": {},
   "source": [
    "## Types of transfer learning\n",
    "\n",
    "* **\"As is\" transfer learning** - using an existing model with no changes\n",
    "* **\"Feature extraction\"** - use the prelearned patterns of an existing model and adjust the output layer for your own problem\n",
    "* **\"Fine-tuning\"** - use the prelearned patterns of an existing model and \"tiny-tune\" many of all os the underlying layers (including new output layers)"
   ]
  },
  {
   "cell_type": "markdown",
   "id": "57d7a163",
   "metadata": {},
   "source": [
    "## TensorBoard"
   ]
  },
  {
   "cell_type": "code",
   "execution_count": 110,
   "id": "1973a7fb",
   "metadata": {},
   "outputs": [
    {
     "data": {
      "text/html": [
       "\n",
       "      <iframe id=\"tensorboard-frame-78b7e74ca61e5ebc\" width=\"100%\" height=\"800\" frameborder=\"0\">\n",
       "      </iframe>\n",
       "      <script>\n",
       "        (function() {\n",
       "          const frame = document.getElementById(\"tensorboard-frame-78b7e74ca61e5ebc\");\n",
       "          const url = new URL(\"/\", window.location);\n",
       "          const port = 6006;\n",
       "          if (port) {\n",
       "            url.port = port;\n",
       "          }\n",
       "          frame.src = url;\n",
       "        })();\n",
       "      </script>\n",
       "    "
      ],
      "text/plain": [
       "<IPython.core.display.HTML object>"
      ]
     },
     "metadata": {},
     "output_type": "display_data"
    }
   ],
   "source": [
    "%tensorboard --logdir ./logs/05_transfer_learning_part1_feature_extraction/\n"
   ]
  },
  {
   "cell_type": "code",
   "execution_count": null,
   "id": "32162518",
   "metadata": {},
   "outputs": [],
   "source": []
  }
 ],
 "metadata": {
  "kernelspec": {
   "display_name": "Python 3",
   "language": "python",
   "name": "python3"
  },
  "language_info": {
   "codemirror_mode": {
    "name": "ipython",
    "version": 3
   },
   "file_extension": ".py",
   "mimetype": "text/x-python",
   "name": "python",
   "nbconvert_exporter": "python",
   "pygments_lexer": "ipython3",
   "version": "3.9.6"
  }
 },
 "nbformat": 4,
 "nbformat_minor": 5
}
