{
 "cells": [
  {
   "cell_type": "code",
   "execution_count": 66,
   "id": "616b7fe8",
   "metadata": {},
   "outputs": [],
   "source": [
    "# bunch of helper functions\n",
    "# from importlib import reload\n",
    "# reload(utils)\n",
    "\n",
    "import utils\n"
   ]
  },
  {
   "cell_type": "markdown",
   "id": "61dc839e",
   "metadata": {},
   "source": [
    "## Data\n",
    "This time we're going to use the pretrained models within `tf.keras.applications` and apply them to our own problem.\n",
    "\n",
    "For now we'll use from previous notebook. 10% of 10 categories from food101."
   ]
  },
  {
   "cell_type": "code",
   "execution_count": 3,
   "id": "ef51084d",
   "metadata": {},
   "outputs": [
    {
     "name": "stdout",
     "output_type": "stream",
     "text": [
      "test - 10 items\n",
      "    chicken_curry - 250 items\n",
      "    chicken_wings - 250 items\n",
      "    fried_rice - 250 items\n",
      "    grilled_salmon - 250 items\n",
      "    hamburger - 250 items\n",
      "    ice_cream - 250 items\n",
      "    pizza - 250 items\n",
      "    ramen - 250 items\n",
      "    steak - 250 items\n",
      "    sushi - 250 items\n",
      "train - 10 items\n",
      "    chicken_curry - 75 items\n",
      "    chicken_wings - 75 items\n",
      "    fried_rice - 75 items\n",
      "    grilled_salmon - 75 items\n",
      "    hamburger - 75 items\n",
      "    ice_cream - 75 items\n",
      "    pizza - 75 items\n",
      "    ramen - 75 items\n",
      "    steak - 75 items\n",
      "    sushi - 75 items\n"
     ]
    }
   ],
   "source": [
    "utils.print_dir(\"./data/05_transfer_learning_part1_feature_extraction/10_food_classes_10_percent/\")"
   ]
  },
  {
   "cell_type": "code",
   "execution_count": 4,
   "id": "04338218",
   "metadata": {},
   "outputs": [],
   "source": [
    "train_dir = \"./data/05_transfer_learning_part1_feature_extraction/10_food_classes_10_percent/train/\"\n",
    "test_dir = \"./data/05_transfer_learning_part1_feature_extraction/10_food_classes_10_percent/test/\""
   ]
  },
  {
   "cell_type": "code",
   "execution_count": 13,
   "id": "8587e8d2",
   "metadata": {},
   "outputs": [
    {
     "name": "stdout",
     "output_type": "stream",
     "text": [
      "Found 750 files belonging to 10 classes.\n",
      "Found 2500 files belonging to 10 classes.\n"
     ]
    }
   ],
   "source": [
    "import tensorflow as tf\n",
    "IMG_SIZE = (224, 224)\n",
    "\n",
    "train_data_10prc = tf.keras.preprocessing.image_dataset_from_directory(train_dir,\n",
    "                                                                      label_mode=\"categorical\",\n",
    "                                                                      image_size=IMG_SIZE)\n",
    "\n",
    "test_data_10prc = tf.keras.preprocessing.image_dataset_from_directory(test_dir,\n",
    "                                                                      label_mode=\"categorical\",\n",
    "                                                                      image_size=IMG_SIZE)"
   ]
  },
  {
   "cell_type": "markdown",
   "id": "70a442e7",
   "metadata": {},
   "source": [
    "## Model 0: Building a transfer learning model using the Keras Functional API\n",
    "\n",
    "The sequential API is straight-forward, it runs our layers in sequential order.\n",
    "\n",
    "But functional API gives us more flexibility with our models."
   ]
  },
  {
   "cell_type": "code",
   "execution_count": 12,
   "id": "422db4b9",
   "metadata": {},
   "outputs": [
    {
     "data": {
      "text/plain": [
       "<TakeDataset shapes: ((None, 224, 224, 3), (None,)), types: (tf.float32, tf.int32)>"
      ]
     },
     "execution_count": 12,
     "metadata": {},
     "output_type": "execute_result"
    }
   ],
   "source": [
    "test_data_10prc.take(1)"
   ]
  },
  {
   "cell_type": "code",
   "execution_count": 15,
   "id": "06f789d8",
   "metadata": {},
   "outputs": [
    {
     "name": "stdout",
     "output_type": "stream",
     "text": [
      "Shape after passing input to base model: (None, 7, 7, 1280)\n",
      "Shape after pooling: (None, 1280)\n",
      "Saving TensorBoard log files to: logs/06_transfer_learning_part2_fine_tuning/EffNet_10prec_10cat_baseline/20210914-101354\n",
      "Epoch 1/5\n"
     ]
    },
    {
     "name": "stderr",
     "output_type": "stream",
     "text": [
      "c:\\MLandDS\\tensorflow\\env\\lib\\site-packages\\keras\\utils\\generic_utils.py:494: CustomMaskWarning: Custom mask layers require a config and must override get_config. When loading, the custom mask layer must be passed to the custom_objects argument.\n",
      "  warnings.warn('Custom mask layers require a config and must override '\n"
     ]
    },
    {
     "name": "stdout",
     "output_type": "stream",
     "text": [
      "24/24 [==============================] - 18s 521ms/step - loss: 1.9058 - accuracy: 0.3853 - val_loss: 1.3758 - val_accuracy: 0.6864\n",
      "Epoch 2/5\n",
      "24/24 [==============================] - 10s 408ms/step - loss: 1.1625 - accuracy: 0.7360 - val_loss: 0.9392 - val_accuracy: 0.7908\n",
      "Epoch 3/5\n",
      "24/24 [==============================] - 10s 405ms/step - loss: 0.8452 - accuracy: 0.8040 - val_loss: 0.7638 - val_accuracy: 0.8236\n",
      "Epoch 4/5\n",
      "24/24 [==============================] - 9s 401ms/step - loss: 0.6774 - accuracy: 0.8480 - val_loss: 0.6701 - val_accuracy: 0.8324\n",
      "Epoch 5/5\n",
      "24/24 [==============================] - 9s 402ms/step - loss: 0.5828 - accuracy: 0.8573 - val_loss: 0.6158 - val_accuracy: 0.8428\n"
     ]
    }
   ],
   "source": [
    "from tensorflow.keras import layers, applications\n",
    "# Create base model with tf.keras.applications\n",
    "base_model = applications.EfficientNetB0(include_top=False)\n",
    "\n",
    "# Freeze patterns in the base model\n",
    "base_model.trainable = False\n",
    "\n",
    "# Create inputs into our model\n",
    "inputs = layers.Input(shape=IMG_SIZE+(3,), name=\"input_layer\")\n",
    "\n",
    "# Layer that normalize inputs (for ResNetV2 50, Effnet has built in rescaling)\n",
    "# x = layers.experimental.preprocessing.Rescaling(1./255.)(inputs)\n",
    "\n",
    "# Pass the inputs to the bsae model\n",
    "x = base_model(inputs)\n",
    "print(f\"Shape after passing input to base model: {x.shape}\")\n",
    "\n",
    "# Average pool the outputs of the base model (aggreagate all the most important information, reduce the number of computations))\n",
    "x = layers.GlobalAveragePooling2D(name=\"global_average_pooling_2d\")(x)\n",
    "print(f\"Shape after pooling: {x.shape}\")\n",
    "\n",
    "# Create the output activation layer\n",
    "outputs = layers.Dense(10, activation=\"softmax\", name=\"output_layer\")(x)\n",
    "\n",
    "# Combine the inputs with the outputs into a model\n",
    "model_0 = tf.keras.Model(inputs, outputs)\n",
    "\n",
    "# compile the model\n",
    "model_0.compile(loss=\"categorical_crossentropy\",\n",
    "               optimizer=\"adam\",\n",
    "               metrics=[\"accuracy\"])\n",
    "\n",
    "# fit the model\n",
    "history_0= model_0.fit(train_data_10prc, steps_per_epoch=len(train_data_10prc),\n",
    "           validation_data=test_data_10prc,\n",
    "           validation_steps=len(test_data_10prc),\n",
    "           epochs=5,\n",
    "           callbacks=[utils.create_tensorboard_callback(\"logs/06_transfer_learning_part2_fine_tuning\",\n",
    "                                                       \"EffNet_10prec_10cat_baseline\")])\n",
    "\n"
   ]
  },
  {
   "cell_type": "code",
   "execution_count": 16,
   "id": "927be003",
   "metadata": {},
   "outputs": [
    {
     "data": {
      "text/html": [
       "\n",
       "      <iframe id=\"tensorboard-frame-a28401820e35006f\" width=\"100%\" height=\"800\" frameborder=\"0\">\n",
       "      </iframe>\n",
       "      <script>\n",
       "        (function() {\n",
       "          const frame = document.getElementById(\"tensorboard-frame-a28401820e35006f\");\n",
       "          const url = new URL(\"/\", window.location);\n",
       "          const port = 6006;\n",
       "          if (port) {\n",
       "            url.port = port;\n",
       "          }\n",
       "          frame.src = url;\n",
       "        })();\n",
       "      </script>\n",
       "    "
      ],
      "text/plain": [
       "<IPython.core.display.HTML object>"
      ]
     },
     "metadata": {},
     "output_type": "display_data"
    }
   ],
   "source": [
    "%load_ext tensorboard\n",
    "%tensorboard --logdir ./logs/06_transfer_learning_part2_fine_tuning/"
   ]
  },
  {
   "cell_type": "code",
   "execution_count": 24,
   "id": "4adb51b8",
   "metadata": {},
   "outputs": [
    {
     "name": "stdout",
     "output_type": "stream",
     "text": [
      "0    input_5\n",
      "1    rescaling_4\n",
      "2    normalization_4\n",
      "3    stem_conv_pad\n",
      "4    stem_conv\n",
      "5    stem_bn\n",
      "6    stem_activation\n",
      "7    block1a_dwconv\n",
      "8    block1a_bn\n",
      "9    block1a_activation\n",
      "10   block1a_se_squeeze\n",
      "11   block1a_se_reshape\n",
      "12   block1a_se_reduce\n",
      "13   block1a_se_expand\n",
      "14   block1a_se_excite\n",
      "15   block1a_project_conv\n",
      "16   block1a_project_bn\n",
      "17   block2a_expand_conv\n",
      "18   block2a_expand_bn\n",
      "19   block2a_expand_activation\n",
      "20   block2a_dwconv_pad\n",
      "21   block2a_dwconv\n",
      "22   block2a_bn\n",
      "23   block2a_activation\n",
      "24   block2a_se_squeeze\n",
      "25   block2a_se_reshape\n",
      "26   block2a_se_reduce\n",
      "27   block2a_se_expand\n",
      "28   block2a_se_excite\n",
      "29   block2a_project_conv\n",
      "30   block2a_project_bn\n",
      "31   block2b_expand_conv\n",
      "32   block2b_expand_bn\n",
      "33   block2b_expand_activation\n",
      "34   block2b_dwconv\n",
      "35   block2b_bn\n",
      "36   block2b_activation\n",
      "37   block2b_se_squeeze\n",
      "38   block2b_se_reshape\n",
      "39   block2b_se_reduce\n",
      "40   block2b_se_expand\n",
      "41   block2b_se_excite\n",
      "42   block2b_project_conv\n",
      "43   block2b_project_bn\n",
      "44   block2b_drop\n",
      "45   block2b_add\n",
      "46   block3a_expand_conv\n",
      "47   block3a_expand_bn\n",
      "48   block3a_expand_activation\n",
      "49   block3a_dwconv_pad\n",
      "50   block3a_dwconv\n",
      "51   block3a_bn\n",
      "52   block3a_activation\n",
      "53   block3a_se_squeeze\n",
      "54   block3a_se_reshape\n",
      "55   block3a_se_reduce\n",
      "56   block3a_se_expand\n",
      "57   block3a_se_excite\n",
      "58   block3a_project_conv\n",
      "59   block3a_project_bn\n",
      "60   block3b_expand_conv\n",
      "61   block3b_expand_bn\n",
      "62   block3b_expand_activation\n",
      "63   block3b_dwconv\n",
      "64   block3b_bn\n",
      "65   block3b_activation\n",
      "66   block3b_se_squeeze\n",
      "67   block3b_se_reshape\n",
      "68   block3b_se_reduce\n",
      "69   block3b_se_expand\n",
      "70   block3b_se_excite\n",
      "71   block3b_project_conv\n",
      "72   block3b_project_bn\n",
      "73   block3b_drop\n",
      "74   block3b_add\n",
      "75   block4a_expand_conv\n",
      "76   block4a_expand_bn\n",
      "77   block4a_expand_activation\n",
      "78   block4a_dwconv_pad\n",
      "79   block4a_dwconv\n",
      "80   block4a_bn\n",
      "81   block4a_activation\n",
      "82   block4a_se_squeeze\n",
      "83   block4a_se_reshape\n",
      "84   block4a_se_reduce\n",
      "85   block4a_se_expand\n",
      "86   block4a_se_excite\n",
      "87   block4a_project_conv\n",
      "88   block4a_project_bn\n",
      "89   block4b_expand_conv\n",
      "90   block4b_expand_bn\n",
      "91   block4b_expand_activation\n",
      "92   block4b_dwconv\n",
      "93   block4b_bn\n",
      "94   block4b_activation\n",
      "95   block4b_se_squeeze\n",
      "96   block4b_se_reshape\n",
      "97   block4b_se_reduce\n",
      "98   block4b_se_expand\n",
      "99   block4b_se_excite\n",
      "100  block4b_project_conv\n",
      "101  block4b_project_bn\n",
      "102  block4b_drop\n",
      "103  block4b_add\n",
      "104  block4c_expand_conv\n",
      "105  block4c_expand_bn\n",
      "106  block4c_expand_activation\n",
      "107  block4c_dwconv\n",
      "108  block4c_bn\n",
      "109  block4c_activation\n",
      "110  block4c_se_squeeze\n",
      "111  block4c_se_reshape\n",
      "112  block4c_se_reduce\n",
      "113  block4c_se_expand\n",
      "114  block4c_se_excite\n",
      "115  block4c_project_conv\n",
      "116  block4c_project_bn\n",
      "117  block4c_drop\n",
      "118  block4c_add\n",
      "119  block5a_expand_conv\n",
      "120  block5a_expand_bn\n",
      "121  block5a_expand_activation\n",
      "122  block5a_dwconv\n",
      "123  block5a_bn\n",
      "124  block5a_activation\n",
      "125  block5a_se_squeeze\n",
      "126  block5a_se_reshape\n",
      "127  block5a_se_reduce\n",
      "128  block5a_se_expand\n",
      "129  block5a_se_excite\n",
      "130  block5a_project_conv\n",
      "131  block5a_project_bn\n",
      "132  block5b_expand_conv\n",
      "133  block5b_expand_bn\n",
      "134  block5b_expand_activation\n",
      "135  block5b_dwconv\n",
      "136  block5b_bn\n",
      "137  block5b_activation\n",
      "138  block5b_se_squeeze\n",
      "139  block5b_se_reshape\n",
      "140  block5b_se_reduce\n",
      "141  block5b_se_expand\n",
      "142  block5b_se_excite\n",
      "143  block5b_project_conv\n",
      "144  block5b_project_bn\n",
      "145  block5b_drop\n",
      "146  block5b_add\n",
      "147  block5c_expand_conv\n",
      "148  block5c_expand_bn\n",
      "149  block5c_expand_activation\n",
      "150  block5c_dwconv\n",
      "151  block5c_bn\n",
      "152  block5c_activation\n",
      "153  block5c_se_squeeze\n",
      "154  block5c_se_reshape\n",
      "155  block5c_se_reduce\n",
      "156  block5c_se_expand\n",
      "157  block5c_se_excite\n",
      "158  block5c_project_conv\n",
      "159  block5c_project_bn\n",
      "160  block5c_drop\n",
      "161  block5c_add\n",
      "162  block6a_expand_conv\n",
      "163  block6a_expand_bn\n",
      "164  block6a_expand_activation\n",
      "165  block6a_dwconv_pad\n",
      "166  block6a_dwconv\n",
      "167  block6a_bn\n",
      "168  block6a_activation\n",
      "169  block6a_se_squeeze\n",
      "170  block6a_se_reshape\n",
      "171  block6a_se_reduce\n",
      "172  block6a_se_expand\n",
      "173  block6a_se_excite\n",
      "174  block6a_project_conv\n",
      "175  block6a_project_bn\n",
      "176  block6b_expand_conv\n",
      "177  block6b_expand_bn\n",
      "178  block6b_expand_activation\n",
      "179  block6b_dwconv\n",
      "180  block6b_bn\n",
      "181  block6b_activation\n",
      "182  block6b_se_squeeze\n",
      "183  block6b_se_reshape\n",
      "184  block6b_se_reduce\n",
      "185  block6b_se_expand\n",
      "186  block6b_se_excite\n",
      "187  block6b_project_conv\n",
      "188  block6b_project_bn\n",
      "189  block6b_drop\n",
      "190  block6b_add\n",
      "191  block6c_expand_conv\n",
      "192  block6c_expand_bn\n",
      "193  block6c_expand_activation\n",
      "194  block6c_dwconv\n",
      "195  block6c_bn\n",
      "196  block6c_activation\n",
      "197  block6c_se_squeeze\n",
      "198  block6c_se_reshape\n",
      "199  block6c_se_reduce\n",
      "200  block6c_se_expand\n",
      "201  block6c_se_excite\n",
      "202  block6c_project_conv\n",
      "203  block6c_project_bn\n",
      "204  block6c_drop\n",
      "205  block6c_add\n",
      "206  block6d_expand_conv\n",
      "207  block6d_expand_bn\n",
      "208  block6d_expand_activation\n",
      "209  block6d_dwconv\n",
      "210  block6d_bn\n",
      "211  block6d_activation\n",
      "212  block6d_se_squeeze\n",
      "213  block6d_se_reshape\n",
      "214  block6d_se_reduce\n",
      "215  block6d_se_expand\n",
      "216  block6d_se_excite\n",
      "217  block6d_project_conv\n",
      "218  block6d_project_bn\n",
      "219  block6d_drop\n",
      "220  block6d_add\n",
      "221  block7a_expand_conv\n",
      "222  block7a_expand_bn\n",
      "223  block7a_expand_activation\n",
      "224  block7a_dwconv\n",
      "225  block7a_bn\n",
      "226  block7a_activation\n",
      "227  block7a_se_squeeze\n",
      "228  block7a_se_reshape\n",
      "229  block7a_se_reduce\n",
      "230  block7a_se_expand\n",
      "231  block7a_se_excite\n",
      "232  block7a_project_conv\n",
      "233  block7a_project_bn\n",
      "234  top_conv\n",
      "235  top_bn\n",
      "236  top_activation\n"
     ]
    }
   ],
   "source": [
    "# Check layers of baseline models\n",
    "for layer_num, layer in enumerate(base_model.layers):\n",
    "    print(f\"{layer_num:<4} {layer.name}\")"
   ]
  },
  {
   "cell_type": "code",
   "execution_count": 26,
   "id": "0480e8ba",
   "metadata": {},
   "outputs": [
    {
     "data": {
      "image/png": "[encoded data removed]",
      "text/plain": [
       "<Figure size 432x288 with 1 Axes>"
      ]
     },
     "metadata": {
      "needs_background": "light"
     },
     "output_type": "display_data"
    },
    {
     "data": {
      "image/png": "[encoded data removed]",
      "text/plain": [
       "<Figure size 432x288 with 1 Axes>"
      ]
     },
     "metadata": {
      "needs_background": "light"
     },
     "output_type": "display_data"
    }
   ],
   "source": [
    "%matplotlib inline\n",
    "utils.plot_loss_curves(history_0)"
   ]
  },
  {
   "cell_type": "markdown",
   "id": "62547cdf",
   "metadata": {},
   "source": [
    "## Getting a feature vector from trained model."
   ]
  },
  {
   "cell_type": "markdown",
   "id": "d90b1a58",
   "metadata": {},
   "source": [
    "Let's demonstrate the GlobalAveragePooling2D Layer."
   ]
  },
  {
   "cell_type": "code",
   "execution_count": 35,
   "id": "0b64317f",
   "metadata": {},
   "outputs": [
    {
     "name": "stdout",
     "output_type": "stream",
     "text": [
      "random input tensor: [[[[ 0.3274685  -0.8426258   0.3194337 ]\n",
      "   [-1.4075519  -2.3880599  -1.0392479 ]\n",
      "   [-0.5573232   0.539707    1.6994323 ]\n",
      "   [ 0.28893656 -1.5066116  -0.2645474 ]]\n",
      "\n",
      "  [[-0.59722406 -1.9171132  -0.62044144]\n",
      "   [ 0.8504023  -0.40604794 -3.0258412 ]\n",
      "   [ 0.9058464   0.29855987 -0.22561555]\n",
      "   [-0.7616443  -1.8917141  -0.93847126]]]]\n",
      "\n",
      "The same tensor after GlAvgPool2d:\n",
      "   [[-0.09368646 -0.45840448 -0.2885598 ]]\n"
     ]
    }
   ],
   "source": [
    "# Define the input shape\n",
    "shape = (1,4,4,3)\n",
    "# Create a random tensor\n",
    "tf.random.set_seed(42)\n",
    "random_tensor = tf.random.normal(shape)\n",
    "print(f\"random input tensor: {random_tensor[:,:2,:,:]}\\n\")\n",
    "\n",
    "# Pass the ranodm input tensor into a layer\n",
    "layer = layers.GlobalAveragePooling2D()(random_tensor)\n",
    "print(f\"The same tensor after GlAvgPool2d:\\n   {layer}\")"
   ]
  },
  {
   "cell_type": "markdown",
   "id": "95e90299",
   "metadata": {},
   "source": [
    "## Runnning series of transfer learining experiments\n",
    "\n",
    "1. model_1 - feature extraction on 1% of data with augmentation\n",
    "2. model_2 - feature extraction on 10% of data with augmentation\n",
    "3. model_3 - use fine-tuning on 10% of data data with augmentation\n",
    "4. model_3 - use fine-tuning on 100% of data data with augmentation\n",
    "\n",
    "**Note**: all experiments will be evaluated on the same test set for consistency across evaluation metrics. Only train data will change."
   ]
  },
  {
   "cell_type": "markdown",
   "id": "dd113c6c",
   "metadata": {},
   "source": [
    "### Getting and preprocessing data for model_1"
   ]
  },
  {
   "cell_type": "code",
   "execution_count": 37,
   "id": "fe76446d",
   "metadata": {},
   "outputs": [],
   "source": [
    "#!tar -xf ./data/06_transfer_learning_part2_fine_tuning/10_food_classes_1_percent.zip -C ./data/06_transfer_learning_part2_fine_tuning/"
   ]
  },
  {
   "cell_type": "code",
   "execution_count": 38,
   "id": "95c34bc0",
   "metadata": {},
   "outputs": [
    {
     "name": "stdout",
     "output_type": "stream",
     "text": [
      "test - 10 items\n",
      "    chicken_curry - 250 items\n",
      "    chicken_wings - 250 items\n",
      "    fried_rice - 250 items\n",
      "    grilled_salmon - 250 items\n",
      "    hamburger - 250 items\n",
      "    ice_cream - 250 items\n",
      "    pizza - 250 items\n",
      "    ramen - 250 items\n",
      "    steak - 250 items\n",
      "    sushi - 250 items\n",
      "train - 10 items\n",
      "    chicken_curry - 7 items\n",
      "    chicken_wings - 7 items\n",
      "    fried_rice - 7 items\n",
      "    grilled_salmon - 7 items\n",
      "    hamburger - 7 items\n",
      "    ice_cream - 7 items\n",
      "    pizza - 7 items\n",
      "    ramen - 7 items\n",
      "    steak - 7 items\n",
      "    sushi - 7 items\n"
     ]
    }
   ],
   "source": [
    "# Check the 1% data\n",
    "utils.print_dir(\"data/06_transfer_learning_part2_fine_tuning/10_food_classes_1_percent/\")"
   ]
  },
  {
   "cell_type": "code",
   "execution_count": 54,
   "id": "29efacb5",
   "metadata": {},
   "outputs": [
    {
     "name": "stdout",
     "output_type": "stream",
     "text": [
      "Found 70 files belonging to 10 classes.\n",
      "Found 2500 files belonging to 10 classes.\n"
     ]
    }
   ],
   "source": [
    "# Data loaders\n",
    "MG_SIZE = (224, 224)\n",
    "\n",
    "train_1prec_dir = \"data/06_transfer_learning_part2_fine_tuning/10_food_classes_1_percent/train\"\n",
    "test_data_dir = \"data/06_transfer_learning_part2_fine_tuning/10_food_classes_1_percent/test\"\n",
    "\n",
    "train_1prec = tf.keras.preprocessing.image_dataset_from_directory(train_1prec_dir,\n",
    "                                                                 label_mode=\"categorical\",\n",
    "                                                                 image_size=IMG_SIZE)\n",
    "\n",
    "test_data = tf.keras.preprocessing.image_dataset_from_directory(test_data_dir,\n",
    "                                                                 label_mode=\"categorical\",\n",
    "                                                                 image_size=IMG_SIZE)\n"
   ]
  },
  {
   "cell_type": "markdown",
   "id": "2b073d5a",
   "metadata": {},
   "source": [
    "## Adding data augmentation right into the model\n",
    "\n",
    "We'll embedd augmentation in model using `tf.keras.experimental.preprocessing()`"
   ]
  },
  {
   "cell_type": "code",
   "execution_count": 59,
   "id": "3e0108f9",
   "metadata": {},
   "outputs": [],
   "source": [
    "# imports\n",
    "import tensorflow as tf\n",
    "from tensorflow import keras\n",
    "from tensorflow.keras import layers, applications, Model, Sequential\n",
    "from tensorflow.keras.layers.experimental import preprocessing\n",
    "\n",
    "# create base model\n",
    "base_model = applications.EfficientNetB0(include_top=False)\n",
    "base_model.trainable = False\n",
    "# Create data augmentation stage\n",
    "data_aug = Sequential([\n",
    "    preprocessing.RandomFlip(\"horizontal\"),\n",
    "    preprocessing.RandomRotation(0.2),\n",
    "    preprocessing.RandomZoom(0.2),\n",
    "    preprocessing.RandomHeight(0.2),\n",
    "    preprocessing.RandomWidth(0.2)\n",
    "])\n",
    "\n",
    "# Create inputs\n",
    "inputs = layers.Input(shape=IMG_SIZE+(3,), name=\"input_name\")\n",
    "\n",
    "x = data_aug(inputs)\n",
    "x = base_model(x, training=False)\n",
    "x = layers.GlobalAveragePooling2D(name=\"gl_avg_pool_2d\")(x)\n",
    "outputs = layers.Dense(10, activation=\"softmax\", name=\"output_layer\")(x)\n",
    "\n",
    "model_1 = Model(inputs, outputs)"
   ]
  },
  {
   "cell_type": "code",
   "execution_count": 60,
   "id": "5fa15721",
   "metadata": {},
   "outputs": [
    {
     "name": "stdout",
     "output_type": "stream",
     "text": [
      "Saving TensorBoard log files to: logs/06_transfer_learning_part2_fine_tuning//EffNet_1prec_dataaug/20210914-114528\n",
      "Epoch 1/5\n",
      "3/3 [==============================] - 18s 6s/step - loss: 2.4010 - accuracy: 0.0714 - val_loss: 2.2622 - val_accuracy: 0.1836\n",
      "Epoch 2/5\n",
      "3/3 [==============================] - 9s 4s/step - loss: 2.1344 - accuracy: 0.2714 - val_loss: 2.1427 - val_accuracy: 0.2508\n",
      "Epoch 3/5\n",
      "3/3 [==============================] - 9s 4s/step - loss: 1.9990 - accuracy: 0.3714 - val_loss: 2.0465 - val_accuracy: 0.3092\n",
      "Epoch 4/5\n",
      "3/3 [==============================] - 9s 4s/step - loss: 1.8121 - accuracy: 0.4857 - val_loss: 1.9618 - val_accuracy: 0.3476\n",
      "Epoch 5/5\n",
      "3/3 [==============================] - 8s 4s/step - loss: 1.6742 - accuracy: 0.5571 - val_loss: 1.8808 - val_accuracy: 0.4036\n"
     ]
    }
   ],
   "source": [
    "model_1.compile(loss=\"categorical_crossentropy\",\n",
    "               optimizer=\"adam\",\n",
    "               metrics=[\"accuracy\"])\n",
    "\n",
    "history_1 = model_1.fit(train_1prec,\n",
    "            steps_per_epoch=len(train_1prec),\n",
    "            validation_data=test_data_10prc,\n",
    "            validation_steps=len(test_data),\n",
    "            epochs=5,\n",
    "            callbacks=[utils.create_tensorboard_callback(\"logs/06_transfer_learning_part2_fine_tuning/\",\n",
    "                                                         \"EffNet_1prec_dataaug\")]\n",
    "           )"
   ]
  },
  {
   "cell_type": "code",
   "execution_count": 61,
   "id": "a93ae7ec",
   "metadata": {},
   "outputs": [
    {
     "data": {
      "image/png": "[encoded data removed]",
      "text/plain": [
       "<Figure size 432x288 with 1 Axes>"
      ]
     },
     "metadata": {
      "needs_background": "light"
     },
     "output_type": "display_data"
    },
    {
     "data": {
      "image/png": "[encoded data removed]",
      "text/plain": [
       "<Figure size 432x288 with 1 Axes>"
      ]
     },
     "metadata": {
      "needs_background": "light"
     },
     "output_type": "display_data"
    }
   ],
   "source": [
    "utils.plot_loss_curves(history_1)"
   ]
  },
  {
   "cell_type": "markdown",
   "id": "5116ef85",
   "metadata": {},
   "source": [
    "### model_2 - same as model_1 but trained on 10% of the data"
   ]
  },
  {
   "cell_type": "code",
   "execution_count": 64,
   "id": "fb841211",
   "metadata": {},
   "outputs": [
    {
     "name": "stdout",
     "output_type": "stream",
     "text": [
      "Saving TensorBoard log files to: logs/06_transfer_learning_part2_fine_tuning//EffNet_10prec_dataaug/20210914-115730\n",
      "Epoch 1/5\n",
      "24/24 [==============================] - 26s 831ms/step - loss: 2.0341 - accuracy: 0.3080 - val_loss: 1.5486 - val_accuracy: 0.6228\n",
      "Epoch 2/5\n",
      "24/24 [==============================] - 16s 680ms/step - loss: 1.3724 - accuracy: 0.6587 - val_loss: 1.0868 - val_accuracy: 0.7524\n",
      "Epoch 3/5\n",
      "24/24 [==============================] - 14s 607ms/step - loss: 1.0637 - accuracy: 0.7547 - val_loss: 0.8811 - val_accuracy: 0.7856\n",
      "Epoch 4/5\n",
      "24/24 [==============================] - 16s 679ms/step - loss: 0.8915 - accuracy: 0.7800 - val_loss: 0.7663 - val_accuracy: 0.8096\n",
      "Epoch 5/5\n",
      "24/24 [==============================] - 15s 636ms/step - loss: 0.7886 - accuracy: 0.8120 - val_loss: 0.7019 - val_accuracy: 0.8140\n"
     ]
    }
   ],
   "source": [
    "# Create data augmentation stage\n",
    "data_aug = Sequential([\n",
    "    preprocessing.RandomFlip(\"horizontal\"),\n",
    "    preprocessing.RandomRotation(0.2),\n",
    "    preprocessing.RandomZoom(0.2),\n",
    "    preprocessing.RandomHeight(0.2),\n",
    "    preprocessing.RandomWidth(0.2)\n",
    "])\n",
    "\n",
    "base_model = applications.EfficientNetB0(include_top=False)\n",
    "base_model.trainable = False\n",
    "\n",
    "inputs = layers.Input(shape=IMG_SIZE+(3,), name=\"input_layer\")\n",
    "\n",
    "x = data_aug(inputs)\n",
    "x = base_model(x, training=False)\n",
    "x = layers.GlobalAveragePooling2D(name=\"gl_avg_pool_2d\")(x)\n",
    "outputs = layers.Dense(10, activation=\"softmax\")(x)\n",
    "\n",
    "model_2 = Model(inputs, outputs)\n",
    "\n",
    "model_2.compile(loss=\"categorical_crossentropy\",\n",
    "               optimizer=\"adam\",\n",
    "               metrics=[\"accuracy\"])\n",
    "\n",
    "history_2 = model_2.fit(train_data_10prc,\n",
    "            steps_per_epoch=len(train_data_10prc),\n",
    "            validation_data=test_data,\n",
    "            validation_steps=len(test_data),\n",
    "            epochs=5,\n",
    "            callbacks=[\n",
    "                utils.create_tensorboard_callback(\"logs/06_transfer_learning_part2_fine_tuning/\",\n",
    "                                                         \"EffNet_10prec_dataaug\"),\n",
    "                utils.create_checkpoint_callback()\n",
    "                       \n",
    "                      ]\n",
    "           )"
   ]
  },
  {
   "cell_type": "code",
   "execution_count": null,
   "id": "19d5e966",
   "metadata": {},
   "outputs": [],
   "source": []
  }
 ],
 "metadata": {
  "kernelspec": {
   "display_name": "Python 3",
   "language": "python",
   "name": "python3"
  },
  "language_info": {
   "codemirror_mode": {
    "name": "ipython",
    "version": 3
   },
   "file_extension": ".py",
   "mimetype": "text/x-python",
   "name": "python",
   "nbconvert_exporter": "python",
   "pygments_lexer": "ipython3",
   "version": "3.9.6"
  }
 },
 "nbformat": 4,
 "nbformat_minor": 5
}
