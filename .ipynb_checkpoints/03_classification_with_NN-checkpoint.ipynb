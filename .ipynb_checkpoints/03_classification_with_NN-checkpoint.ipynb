{
 "cells": [
  {
   "cell_type": "markdown",
   "id": "7dfa0014",
   "metadata": {},
   "source": [
    "# Introduction to neural network classification with TensorFlow\n",
    "\n",
    "Classification problem is where you try do classify something as one thing or another. There are 3 types of classification:\n",
    "* Binary classification - input can be one of 2 classes\n",
    "* Multiclass classification - input can be one of multiple classes\n",
    "* Multilabel classification - input can apply to multiple classes"
   ]
  },
  {
   "cell_type": "markdown",
   "id": "d2a37eab",
   "metadata": {},
   "source": [
    "## Creating data to view and fit"
   ]
  },
  {
   "cell_type": "code",
   "execution_count": 28,
   "id": "0c059838",
   "metadata": {},
   "outputs": [
    {
     "data": {
      "text/plain": [
       "array([[ 0.75424625,  0.23148074],\n",
       "       [-0.75615888,  0.15325888],\n",
       "       [-0.81539193,  0.17328203],\n",
       "       [-0.39373073,  0.69288277],\n",
       "       [ 0.44220765, -0.89672343]])"
      ]
     },
     "execution_count": 28,
     "metadata": {},
     "output_type": "execute_result"
    }
   ],
   "source": [
    "from sklearn.datasets import make_circles\n",
    "\n",
    "# Make 1000 examples\n",
    "n_samples = 1000\n",
    "\n",
    "# Create circles\n",
    "X, y = make_circles(n_samples, noise=0.03, random_state=42)\n",
    "\n",
    "X[:5]"
   ]
  },
  {
   "cell_type": "code",
   "execution_count": 29,
   "id": "eb4948a5",
   "metadata": {},
   "outputs": [
    {
     "data": {
      "text/plain": [
       "array([1, 1, 1, 1, 0], dtype=int64)"
      ]
     },
     "execution_count": 29,
     "metadata": {},
     "output_type": "execute_result"
    }
   ],
   "source": [
    "y[:5]"
   ]
  },
  {
   "cell_type": "markdown",
   "id": "2c6f2f2e",
   "metadata": {},
   "source": [
    "Data is a little hard to understand, let's visualise it."
   ]
  },
  {
   "cell_type": "code",
   "execution_count": 30,
   "id": "5e0a9df5",
   "metadata": {},
   "outputs": [
    {
     "data": {
      "text/html": [
       "<div>\n",
       "<style scoped>\n",
       "    .dataframe tbody tr th:only-of-type {\n",
       "        vertical-align: middle;\n",
       "    }\n",
       "\n",
       "    .dataframe tbody tr th {\n",
       "        vertical-align: top;\n",
       "    }\n",
       "\n",
       "    .dataframe thead th {\n",
       "        text-align: right;\n",
       "    }\n",
       "</style>\n",
       "<table border=\"1\" class=\"dataframe\">\n",
       "  <thead>\n",
       "    <tr style=\"text-align: right;\">\n",
       "      <th></th>\n",
       "      <th>X0</th>\n",
       "      <th>X1</th>\n",
       "      <th>label</th>\n",
       "    </tr>\n",
       "  </thead>\n",
       "  <tbody>\n",
       "    <tr>\n",
       "      <th>0</th>\n",
       "      <td>0.754246</td>\n",
       "      <td>0.231481</td>\n",
       "      <td>1</td>\n",
       "    </tr>\n",
       "    <tr>\n",
       "      <th>1</th>\n",
       "      <td>-0.756159</td>\n",
       "      <td>0.153259</td>\n",
       "      <td>1</td>\n",
       "    </tr>\n",
       "    <tr>\n",
       "      <th>2</th>\n",
       "      <td>-0.815392</td>\n",
       "      <td>0.173282</td>\n",
       "      <td>1</td>\n",
       "    </tr>\n",
       "    <tr>\n",
       "      <th>3</th>\n",
       "      <td>-0.393731</td>\n",
       "      <td>0.692883</td>\n",
       "      <td>1</td>\n",
       "    </tr>\n",
       "    <tr>\n",
       "      <th>4</th>\n",
       "      <td>0.442208</td>\n",
       "      <td>-0.896723</td>\n",
       "      <td>0</td>\n",
       "    </tr>\n",
       "    <tr>\n",
       "      <th>...</th>\n",
       "      <td>...</td>\n",
       "      <td>...</td>\n",
       "      <td>...</td>\n",
       "    </tr>\n",
       "    <tr>\n",
       "      <th>995</th>\n",
       "      <td>0.244054</td>\n",
       "      <td>0.944125</td>\n",
       "      <td>0</td>\n",
       "    </tr>\n",
       "    <tr>\n",
       "      <th>996</th>\n",
       "      <td>-0.978655</td>\n",
       "      <td>-0.272373</td>\n",
       "      <td>0</td>\n",
       "    </tr>\n",
       "    <tr>\n",
       "      <th>997</th>\n",
       "      <td>-0.136900</td>\n",
       "      <td>-0.810012</td>\n",
       "      <td>1</td>\n",
       "    </tr>\n",
       "    <tr>\n",
       "      <th>998</th>\n",
       "      <td>0.670362</td>\n",
       "      <td>-0.767502</td>\n",
       "      <td>0</td>\n",
       "    </tr>\n",
       "    <tr>\n",
       "      <th>999</th>\n",
       "      <td>0.281057</td>\n",
       "      <td>0.963824</td>\n",
       "      <td>0</td>\n",
       "    </tr>\n",
       "  </tbody>\n",
       "</table>\n",
       "<p>1000 rows × 3 columns</p>\n",
       "</div>"
      ],
      "text/plain": [
       "           X0        X1  label\n",
       "0    0.754246  0.231481      1\n",
       "1   -0.756159  0.153259      1\n",
       "2   -0.815392  0.173282      1\n",
       "3   -0.393731  0.692883      1\n",
       "4    0.442208 -0.896723      0\n",
       "..        ...       ...    ...\n",
       "995  0.244054  0.944125      0\n",
       "996 -0.978655 -0.272373      0\n",
       "997 -0.136900 -0.810012      1\n",
       "998  0.670362 -0.767502      0\n",
       "999  0.281057  0.963824      0\n",
       "\n",
       "[1000 rows x 3 columns]"
      ]
     },
     "execution_count": 30,
     "metadata": {},
     "output_type": "execute_result"
    }
   ],
   "source": [
    "import pandas as pd\n",
    "circles = pd.DataFrame({\"X0\": X[:, 0], \"X1\": X[:, 1] , \"label\":y})\n",
    "circles"
   ]
  },
  {
   "cell_type": "code",
   "execution_count": 31,
   "id": "8bda5cbd",
   "metadata": {},
   "outputs": [
    {
     "data": {
      "image/png": "[encoded data removed]",
      "text/plain": [
       "<Figure size 432x288 with 1 Axes>"
      ]
     },
     "metadata": {
      "needs_background": "light"
     },
     "output_type": "display_data"
    }
   ],
   "source": [
    "import matplotlib.pyplot as plt\n",
    "%matplotlib inline\n",
    "plt.scatter(X[:, 0], X[:, 1], c=y, cmap=plt.cm.RdYlBu);"
   ]
  },
  {
   "cell_type": "markdown",
   "id": "24ab5a6f",
   "metadata": {},
   "source": [
    "## Inputs and outputs"
   ]
  },
  {
   "cell_type": "code",
   "execution_count": 32,
   "id": "aca8b777",
   "metadata": {},
   "outputs": [
    {
     "data": {
      "text/plain": [
       "((1000, 2), (1000,))"
      ]
     },
     "execution_count": 32,
     "metadata": {},
     "output_type": "execute_result"
    }
   ],
   "source": [
    "# Shapes\n",
    "X.shape, y.shape"
   ]
  },
  {
   "cell_type": "markdown",
   "id": "9371d64f",
   "metadata": {},
   "source": [
    "## Steps in modeling\n",
    "\n",
    "1. Create or import model\n",
    "2. Compile the model\n",
    "3. Fit the model\n",
    "4. Evaluate the model\n",
    "5. Tweak\n",
    "6. Evaluate model\n",
    "7. Repeat steps 5 and 6 until getting good results."
   ]
  },
  {
   "cell_type": "code",
   "execution_count": 33,
   "id": "814e764e",
   "metadata": {},
   "outputs": [
    {
     "name": "stdout",
     "output_type": "stream",
     "text": [
      "Epoch 1/5\n",
      "32/32 [==============================] - 1s 5ms/step - loss: 4.2979 - accuracy: 0.4670\n",
      "Epoch 2/5\n",
      "32/32 [==============================] - 0s 5ms/step - loss: 4.2317 - accuracy: 0.4400\n",
      "Epoch 3/5\n",
      "32/32 [==============================] - 0s 5ms/step - loss: 4.1610 - accuracy: 0.4310\n",
      "Epoch 4/5\n",
      "32/32 [==============================] - 0s 5ms/step - loss: 4.1183 - accuracy: 0.4270\n",
      "Epoch 5/5\n",
      "32/32 [==============================] - 0s 5ms/step - loss: 4.0784 - accuracy: 0.4240\n"
     ]
    },
    {
     "data": {
      "text/plain": [
       "<keras.callbacks.History at 0x1e2d0312610>"
      ]
     },
     "execution_count": 33,
     "metadata": {},
     "output_type": "execute_result"
    }
   ],
   "source": [
    "import tensorflow as tf\n",
    "\n",
    "# Set the random seed\n",
    "tf.random.set_seed(42)\n",
    "\n",
    "# 1. Create the model using the Sequential API\n",
    "model_1 = tf.keras.Sequential([\n",
    "    tf.keras.layers.Dense(1)\n",
    "])\n",
    "\n",
    "# 2. Compile the model\n",
    "model_1.compile(loss = \"binary_crossentropy\",\n",
    "                optimizer=\"adam\",\n",
    "                metrics=[\"accuracy\"]\n",
    "               )\n",
    "\n",
    "# 3. Fit the model\n",
    "model_1.fit(X, y, epochs=5)"
   ]
  },
  {
   "cell_type": "code",
   "execution_count": 34,
   "id": "58e12570",
   "metadata": {},
   "outputs": [
    {
     "name": "stdout",
     "output_type": "stream",
     "text": [
      "Epoch 1/100\n",
      "32/32 [==============================] - 0s 5ms/step - loss: 3.9453 - accuracy: 0.4180\n",
      "Epoch 2/100\n",
      "32/32 [==============================] - 0s 5ms/step - loss: 3.8490 - accuracy: 0.4130\n",
      "Epoch 3/100\n",
      "32/32 [==============================] - 0s 5ms/step - loss: 3.8109 - accuracy: 0.4140\n",
      "Epoch 4/100\n",
      "32/32 [==============================] - 0s 4ms/step - loss: 3.7889 - accuracy: 0.4190\n",
      "Epoch 5/100\n",
      "32/32 [==============================] - 0s 4ms/step - loss: 3.7606 - accuracy: 0.4200\n",
      "Epoch 6/100\n",
      "32/32 [==============================] - 0s 4ms/step - loss: 3.6154 - accuracy: 0.4340\n",
      "Epoch 7/100\n",
      "32/32 [==============================] - 0s 5ms/step - loss: 3.5476 - accuracy: 0.4430\n",
      "Epoch 8/100\n",
      "32/32 [==============================] - 0s 5ms/step - loss: 3.5266 - accuracy: 0.4460\n",
      "Epoch 9/100\n",
      "32/32 [==============================] - 0s 5ms/step - loss: 3.4879 - accuracy: 0.4490\n",
      "Epoch 10/100\n",
      "32/32 [==============================] - 0s 5ms/step - loss: 3.3497 - accuracy: 0.4510\n",
      "Epoch 11/100\n",
      "32/32 [==============================] - 0s 5ms/step - loss: 3.2809 - accuracy: 0.4560\n",
      "Epoch 12/100\n",
      "32/32 [==============================] - 0s 5ms/step - loss: 3.1974 - accuracy: 0.4570\n",
      "Epoch 13/100\n",
      "32/32 [==============================] - 0s 5ms/step - loss: 3.1269 - accuracy: 0.4580\n",
      "Epoch 14/100\n",
      "32/32 [==============================] - 0s 5ms/step - loss: 2.8789 - accuracy: 0.4580\n",
      "Epoch 15/100\n",
      "32/32 [==============================] - 0s 5ms/step - loss: 2.7571 - accuracy: 0.4580\n",
      "Epoch 16/100\n",
      "32/32 [==============================] - 0s 5ms/step - loss: 2.6054 - accuracy: 0.4590\n",
      "Epoch 17/100\n",
      "32/32 [==============================] - 0s 4ms/step - loss: 2.1533 - accuracy: 0.4570\n",
      "Epoch 18/100\n",
      "32/32 [==============================] - 0s 4ms/step - loss: 1.3692 - accuracy: 0.4580\n",
      "Epoch 19/100\n",
      "32/32 [==============================] - 0s 4ms/step - loss: 1.0445 - accuracy: 0.4590\n",
      "Epoch 20/100\n",
      "32/32 [==============================] - 0s 5ms/step - loss: 0.9927 - accuracy: 0.4590\n",
      "Epoch 21/100\n",
      "32/32 [==============================] - 0s 5ms/step - loss: 0.9728 - accuracy: 0.4580\n",
      "Epoch 22/100\n",
      "32/32 [==============================] - 0s 5ms/step - loss: 0.9570 - accuracy: 0.4570\n",
      "Epoch 23/100\n",
      "32/32 [==============================] - 0s 5ms/step - loss: 0.9446 - accuracy: 0.4580\n",
      "Epoch 24/100\n",
      "32/32 [==============================] - 0s 5ms/step - loss: 0.9340 - accuracy: 0.4560\n",
      "Epoch 25/100\n",
      "32/32 [==============================] - 0s 5ms/step - loss: 0.9248 - accuracy: 0.4570\n",
      "Epoch 26/100\n",
      "32/32 [==============================] - 0s 5ms/step - loss: 0.9162 - accuracy: 0.4570\n",
      "Epoch 27/100\n",
      "32/32 [==============================] - 0s 5ms/step - loss: 0.9087 - accuracy: 0.4580\n",
      "Epoch 28/100\n",
      "32/32 [==============================] - 0s 5ms/step - loss: 0.9016 - accuracy: 0.4590\n",
      "Epoch 29/100\n",
      "32/32 [==============================] - 0s 5ms/step - loss: 0.8949 - accuracy: 0.4590\n",
      "Epoch 30/100\n",
      "32/32 [==============================] - 0s 4ms/step - loss: 0.8887 - accuracy: 0.4590\n",
      "Epoch 31/100\n",
      "32/32 [==============================] - 0s 4ms/step - loss: 0.8830 - accuracy: 0.4580\n",
      "Epoch 32/100\n",
      "32/32 [==============================] - 0s 4ms/step - loss: 0.8772 - accuracy: 0.4580\n",
      "Epoch 33/100\n",
      "32/32 [==============================] - 0s 5ms/step - loss: 0.8721 - accuracy: 0.4580\n",
      "Epoch 34/100\n",
      "32/32 [==============================] - 0s 5ms/step - loss: 0.8671 - accuracy: 0.4590\n",
      "Epoch 35/100\n",
      "32/32 [==============================] - 0s 5ms/step - loss: 0.8623 - accuracy: 0.4600\n",
      "Epoch 36/100\n",
      "32/32 [==============================] - 0s 5ms/step - loss: 0.8577 - accuracy: 0.4590\n",
      "Epoch 37/100\n",
      "32/32 [==============================] - 0s 5ms/step - loss: 0.8533 - accuracy: 0.4590\n",
      "Epoch 38/100\n",
      "32/32 [==============================] - 0s 5ms/step - loss: 0.8492 - accuracy: 0.4580\n",
      "Epoch 39/100\n",
      "32/32 [==============================] - 0s 5ms/step - loss: 0.8452 - accuracy: 0.4570\n",
      "Epoch 40/100\n",
      "32/32 [==============================] - 0s 5ms/step - loss: 0.8413 - accuracy: 0.4560\n",
      "Epoch 41/100\n",
      "32/32 [==============================] - 0s 5ms/step - loss: 0.8374 - accuracy: 0.4560\n",
      "Epoch 42/100\n",
      "32/32 [==============================] - 0s 5ms/step - loss: 0.8337 - accuracy: 0.4560\n",
      "Epoch 43/100\n",
      "32/32 [==============================] - 0s 5ms/step - loss: 0.8299 - accuracy: 0.4560\n",
      "Epoch 44/100\n",
      "32/32 [==============================] - 0s 4ms/step - loss: 0.8265 - accuracy: 0.4560\n",
      "Epoch 45/100\n",
      "32/32 [==============================] - 0s 4ms/step - loss: 0.8232 - accuracy: 0.4560\n",
      "Epoch 46/100\n",
      "32/32 [==============================] - 0s 5ms/step - loss: 0.8200 - accuracy: 0.4560\n",
      "Epoch 47/100\n",
      "32/32 [==============================] - 0s 5ms/step - loss: 0.8169 - accuracy: 0.4560\n",
      "Epoch 48/100\n",
      "32/32 [==============================] - 0s 5ms/step - loss: 0.8137 - accuracy: 0.4560\n",
      "Epoch 49/100\n",
      "32/32 [==============================] - 0s 5ms/step - loss: 0.8107 - accuracy: 0.4560\n",
      "Epoch 50/100\n",
      "32/32 [==============================] - 0s 5ms/step - loss: 0.8078 - accuracy: 0.4560\n",
      "Epoch 51/100\n",
      "32/32 [==============================] - 0s 5ms/step - loss: 0.8049 - accuracy: 0.4550\n",
      "Epoch 52/100\n",
      "32/32 [==============================] - 0s 5ms/step - loss: 0.8022 - accuracy: 0.4580\n",
      "Epoch 53/100\n",
      "32/32 [==============================] - 0s 5ms/step - loss: 0.7995 - accuracy: 0.4580\n",
      "Epoch 54/100\n",
      "32/32 [==============================] - 0s 5ms/step - loss: 0.7969 - accuracy: 0.4570\n",
      "Epoch 55/100\n",
      "32/32 [==============================] - 0s 5ms/step - loss: 0.7943 - accuracy: 0.4560\n",
      "Epoch 56/100\n",
      "32/32 [==============================] - 0s 5ms/step - loss: 0.7917 - accuracy: 0.4560\n",
      "Epoch 57/100\n",
      "32/32 [==============================] - 0s 4ms/step - loss: 0.7892 - accuracy: 0.4560\n",
      "Epoch 58/100\n",
      "32/32 [==============================] - 0s 4ms/step - loss: 0.7868 - accuracy: 0.4560\n",
      "Epoch 59/100\n",
      "32/32 [==============================] - 0s 4ms/step - loss: 0.7845 - accuracy: 0.4560\n",
      "Epoch 60/100\n",
      "32/32 [==============================] - 0s 4ms/step - loss: 0.7822 - accuracy: 0.4570\n",
      "Epoch 61/100\n",
      "32/32 [==============================] - 0s 5ms/step - loss: 0.7800 - accuracy: 0.4570\n",
      "Epoch 62/100\n",
      "32/32 [==============================] - 0s 5ms/step - loss: 0.7779 - accuracy: 0.4570\n",
      "Epoch 63/100\n",
      "32/32 [==============================] - 0s 5ms/step - loss: 0.7757 - accuracy: 0.4580\n",
      "Epoch 64/100\n",
      "32/32 [==============================] - 0s 5ms/step - loss: 0.7737 - accuracy: 0.4580\n",
      "Epoch 65/100\n",
      "32/32 [==============================] - 0s 5ms/step - loss: 0.7717 - accuracy: 0.4580\n",
      "Epoch 66/100\n",
      "32/32 [==============================] - 0s 5ms/step - loss: 0.7696 - accuracy: 0.4580\n",
      "Epoch 67/100\n",
      "32/32 [==============================] - 0s 5ms/step - loss: 0.7676 - accuracy: 0.4580\n",
      "Epoch 68/100\n",
      "32/32 [==============================] - 0s 5ms/step - loss: 0.7657 - accuracy: 0.4580\n",
      "Epoch 69/100\n",
      "32/32 [==============================] - 0s 5ms/step - loss: 0.7638 - accuracy: 0.4580\n",
      "Epoch 70/100\n",
      "32/32 [==============================] - 0s 4ms/step - loss: 0.7619 - accuracy: 0.4580\n",
      "Epoch 71/100\n",
      "32/32 [==============================] - 0s 4ms/step - loss: 0.7600 - accuracy: 0.4580\n",
      "Epoch 72/100\n",
      "32/32 [==============================] - 0s 4ms/step - loss: 0.7582 - accuracy: 0.4590\n",
      "Epoch 73/100\n",
      "32/32 [==============================] - 0s 5ms/step - loss: 0.7565 - accuracy: 0.4580\n",
      "Epoch 74/100\n",
      "32/32 [==============================] - 0s 5ms/step - loss: 0.7547 - accuracy: 0.4590\n",
      "Epoch 75/100\n",
      "32/32 [==============================] - 0s 4ms/step - loss: 0.7531 - accuracy: 0.4610\n",
      "Epoch 76/100\n",
      "32/32 [==============================] - 0s 5ms/step - loss: 0.7514 - accuracy: 0.4600\n",
      "Epoch 77/100\n",
      "32/32 [==============================] - 0s 5ms/step - loss: 0.7498 - accuracy: 0.4590\n",
      "Epoch 78/100\n",
      "32/32 [==============================] - 0s 5ms/step - loss: 0.7482 - accuracy: 0.4590\n",
      "Epoch 79/100\n",
      "32/32 [==============================] - 0s 5ms/step - loss: 0.7466 - accuracy: 0.4580\n",
      "Epoch 80/100\n",
      "32/32 [==============================] - 0s 5ms/step - loss: 0.7451 - accuracy: 0.4590\n",
      "Epoch 81/100\n",
      "32/32 [==============================] - 0s 5ms/step - loss: 0.7436 - accuracy: 0.4590\n",
      "Epoch 82/100\n",
      "32/32 [==============================] - 0s 5ms/step - loss: 0.7422 - accuracy: 0.4610\n",
      "Epoch 83/100\n"
     ]
    },
    {
     "name": "stdout",
     "output_type": "stream",
     "text": [
      "32/32 [==============================] - 0s 4ms/step - loss: 0.7408 - accuracy: 0.4590\n",
      "Epoch 84/100\n",
      "32/32 [==============================] - 0s 4ms/step - loss: 0.7394 - accuracy: 0.4590\n",
      "Epoch 85/100\n",
      "32/32 [==============================] - 0s 4ms/step - loss: 0.7380 - accuracy: 0.4610\n",
      "Epoch 86/100\n",
      "32/32 [==============================] - 0s 5ms/step - loss: 0.7367 - accuracy: 0.4610\n",
      "Epoch 87/100\n",
      "32/32 [==============================] - 0s 5ms/step - loss: 0.7355 - accuracy: 0.4600\n",
      "Epoch 88/100\n",
      "32/32 [==============================] - 0s 5ms/step - loss: 0.7342 - accuracy: 0.4600\n",
      "Epoch 89/100\n",
      "32/32 [==============================] - 0s 5ms/step - loss: 0.7330 - accuracy: 0.4590\n",
      "Epoch 90/100\n",
      "32/32 [==============================] - 0s 5ms/step - loss: 0.7318 - accuracy: 0.4580\n",
      "Epoch 91/100\n",
      "32/32 [==============================] - 0s 5ms/step - loss: 0.7306 - accuracy: 0.4600\n",
      "Epoch 92/100\n",
      "32/32 [==============================] - 0s 5ms/step - loss: 0.7295 - accuracy: 0.4610\n",
      "Epoch 93/100\n",
      "32/32 [==============================] - 0s 5ms/step - loss: 0.7283 - accuracy: 0.4600\n",
      "Epoch 94/100\n",
      "32/32 [==============================] - 0s 5ms/step - loss: 0.7273 - accuracy: 0.4570\n",
      "Epoch 95/100\n",
      "32/32 [==============================] - 0s 5ms/step - loss: 0.7262 - accuracy: 0.4580\n",
      "Epoch 96/100\n",
      "32/32 [==============================] - 0s 5ms/step - loss: 0.7251 - accuracy: 0.4560\n",
      "Epoch 97/100\n",
      "32/32 [==============================] - 0s 4ms/step - loss: 0.7241 - accuracy: 0.4560\n",
      "Epoch 98/100\n",
      "32/32 [==============================] - 0s 4ms/step - loss: 0.7231 - accuracy: 0.4560\n",
      "Epoch 99/100\n",
      "32/32 [==============================] - 0s 5ms/step - loss: 0.7221 - accuracy: 0.4570\n",
      "Epoch 100/100\n",
      "32/32 [==============================] - 0s 5ms/step - loss: 0.7210 - accuracy: 0.4570\n",
      "32/32 [==============================] - 0s 3ms/step - loss: 0.7206 - accuracy: 0.4590\n"
     ]
    },
    {
     "data": {
      "text/plain": [
       "[0.7205846905708313, 0.45899999141693115]"
      ]
     },
     "execution_count": 34,
     "metadata": {},
     "output_type": "execute_result"
    }
   ],
   "source": [
    "# Try to train for longer\n",
    "model_1.fit(X, y, epochs=100)\n",
    "model_1.evaluate(X, y)"
   ]
  },
  {
   "cell_type": "markdown",
   "id": "264fe67b",
   "metadata": {},
   "source": [
    "Accuray ~50% meand model is just guessing. Let's add extra layer."
   ]
  },
  {
   "cell_type": "code",
   "execution_count": 35,
   "id": "fb53a433",
   "metadata": {
    "scrolled": true
   },
   "outputs": [
    {
     "name": "stdout",
     "output_type": "stream",
     "text": [
      "Epoch 1/50\n",
      "32/32 [==============================] - 1s 5ms/step - loss: 1.1985 - accuracy: 0.4650\n",
      "Epoch 2/50\n",
      "32/32 [==============================] - 0s 6ms/step - loss: 0.7864 - accuracy: 0.3450\n",
      "Epoch 3/50\n",
      "32/32 [==============================] - 0s 5ms/step - loss: 0.7620 - accuracy: 0.3710\n",
      "Epoch 4/50\n",
      "32/32 [==============================] - 0s 5ms/step - loss: 0.7492 - accuracy: 0.2530\n",
      "Epoch 5/50\n",
      "32/32 [==============================] - 0s 6ms/step - loss: 0.7406 - accuracy: 0.3050\n",
      "Epoch 6/50\n",
      "32/32 [==============================] - 0s 5ms/step - loss: 0.7307 - accuracy: 0.3210\n",
      "Epoch 7/50\n",
      "32/32 [==============================] - 0s 5ms/step - loss: 0.7236 - accuracy: 0.1550\n",
      "Epoch 8/50\n",
      "32/32 [==============================] - 0s 5ms/step - loss: 0.7148 - accuracy: 0.2900\n",
      "Epoch 9/50\n",
      "32/32 [==============================] - 0s 4ms/step - loss: 0.7048 - accuracy: 0.3900\n",
      "Epoch 10/50\n",
      "32/32 [==============================] - 0s 4ms/step - loss: 0.6954 - accuracy: 0.4720\n",
      "Epoch 11/50\n",
      "32/32 [==============================] - 0s 5ms/step - loss: 0.6873 - accuracy: 0.6000\n",
      "Epoch 12/50\n",
      "32/32 [==============================] - 0s 5ms/step - loss: 0.6784 - accuracy: 0.5420\n",
      "Epoch 13/50\n",
      "32/32 [==============================] - 0s 5ms/step - loss: 0.6700 - accuracy: 0.7230\n",
      "Epoch 14/50\n",
      "32/32 [==============================] - 0s 5ms/step - loss: 0.6608 - accuracy: 0.7830\n",
      "Epoch 15/50\n",
      "32/32 [==============================] - 0s 5ms/step - loss: 0.6506 - accuracy: 0.7730\n",
      "Epoch 16/50\n",
      "32/32 [==============================] - 0s 5ms/step - loss: 0.6402 - accuracy: 0.8750\n",
      "Epoch 17/50\n",
      "32/32 [==============================] - 0s 5ms/step - loss: 0.6321 - accuracy: 0.9020\n",
      "Epoch 18/50\n",
      "32/32 [==============================] - 0s 5ms/step - loss: 0.6208 - accuracy: 0.8600\n",
      "Epoch 19/50\n",
      "32/32 [==============================] - 0s 5ms/step - loss: 0.6113 - accuracy: 0.8800\n",
      "Epoch 20/50\n",
      "32/32 [==============================] - 0s 5ms/step - loss: 0.6015 - accuracy: 0.9460\n",
      "Epoch 21/50\n",
      "32/32 [==============================] - 0s 4ms/step - loss: 0.5909 - accuracy: 0.9520\n",
      "Epoch 22/50\n",
      "32/32 [==============================] - 0s 4ms/step - loss: 0.5785 - accuracy: 0.9060\n",
      "Epoch 23/50\n",
      "32/32 [==============================] - 0s 4ms/step - loss: 0.5663 - accuracy: 0.9970\n",
      "Epoch 24/50\n",
      "32/32 [==============================] - 0s 5ms/step - loss: 0.5580 - accuracy: 0.8920\n",
      "Epoch 25/50\n",
      "32/32 [==============================] - 0s 5ms/step - loss: 0.5474 - accuracy: 0.9420\n",
      "Epoch 26/50\n",
      "32/32 [==============================] - 0s 5ms/step - loss: 0.5315 - accuracy: 0.9680\n",
      "Epoch 27/50\n",
      "32/32 [==============================] - 0s 5ms/step - loss: 0.5176 - accuracy: 0.9600\n",
      "Epoch 28/50\n",
      "32/32 [==============================] - 0s 5ms/step - loss: 0.5074 - accuracy: 0.9550\n",
      "Epoch 29/50\n",
      "32/32 [==============================] - 0s 5ms/step - loss: 0.4946 - accuracy: 0.9710\n",
      "Epoch 30/50\n",
      "32/32 [==============================] - 0s 5ms/step - loss: 0.4848 - accuracy: 0.9640\n",
      "Epoch 31/50\n",
      "32/32 [==============================] - 0s 5ms/step - loss: 0.4670 - accuracy: 0.9910\n",
      "Epoch 32/50\n",
      "32/32 [==============================] - 0s 6ms/step - loss: 0.4545 - accuracy: 0.9650\n",
      "Epoch 33/50\n",
      "32/32 [==============================] - 0s 5ms/step - loss: 0.4408 - accuracy: 0.9840\n",
      "Epoch 34/50\n",
      "32/32 [==============================] - 0s 4ms/step - loss: 0.4297 - accuracy: 0.9930\n",
      "Epoch 35/50\n",
      "32/32 [==============================] - 0s 4ms/step - loss: 0.4133 - accuracy: 0.9950\n",
      "Epoch 36/50\n",
      "32/32 [==============================] - 0s 5ms/step - loss: 0.3971 - accuracy: 0.9960\n",
      "Epoch 37/50\n",
      "32/32 [==============================] - 0s 5ms/step - loss: 0.3839 - accuracy: 0.9990\n",
      "Epoch 38/50\n",
      "32/32 [==============================] - 0s 5ms/step - loss: 0.3732 - accuracy: 0.9780\n",
      "Epoch 39/50\n",
      "32/32 [==============================] - 0s 5ms/step - loss: 0.3570 - accuracy: 0.9960\n",
      "Epoch 40/50\n",
      "32/32 [==============================] - 0s 5ms/step - loss: 0.3427 - accuracy: 0.9980\n",
      "Epoch 41/50\n",
      "32/32 [==============================] - 0s 5ms/step - loss: 0.3319 - accuracy: 0.9880\n",
      "Epoch 42/50\n",
      "32/32 [==============================] - 0s 5ms/step - loss: 0.3208 - accuracy: 0.9920\n",
      "Epoch 43/50\n",
      "32/32 [==============================] - 0s 5ms/step - loss: 0.3015 - accuracy: 0.9980\n",
      "Epoch 44/50\n",
      "32/32 [==============================] - 0s 5ms/step - loss: 0.2859 - accuracy: 0.9960\n",
      "Epoch 45/50\n",
      "32/32 [==============================] - 0s 5ms/step - loss: 0.2778 - accuracy: 0.9970\n",
      "Epoch 46/50\n",
      "32/32 [==============================] - 0s 4ms/step - loss: 0.2590 - accuracy: 0.9990\n",
      "Epoch 47/50\n",
      "32/32 [==============================] - 0s 4ms/step - loss: 0.2468 - accuracy: 0.9990\n",
      "Epoch 48/50\n",
      "32/32 [==============================] - 0s 5ms/step - loss: 0.2360 - accuracy: 0.9930\n",
      "Epoch 49/50\n",
      "32/32 [==============================] - 0s 5ms/step - loss: 0.2211 - accuracy: 0.9960\n",
      "Epoch 50/50\n",
      "32/32 [==============================] - 0s 5ms/step - loss: 0.2078 - accuracy: 0.9990\n"
     ]
    },
    {
     "data": {
      "text/plain": [
       "<keras.callbacks.History at 0x1e2d06974c0>"
      ]
     },
     "execution_count": 35,
     "metadata": {},
     "output_type": "execute_result"
    }
   ],
   "source": [
    "# set random seed\n",
    "tf.random.set_seed(42)\n",
    "\n",
    "# 1. Create a model using seqential API\n",
    "model_2 = tf.keras.Sequential([\n",
    "     tf.keras.layers.Dense(100, activation=\"relu\"),\n",
    "     tf.keras.layers.Dense(1)\n",
    " ])\n",
    "    \n",
    "model_2.compile(loss=\"binary_crossentropy\",\n",
    "             optimizer=\"adam\",\n",
    "             metrics=[\"accuracy\"])\n",
    "\n",
    "model_2.fit(X, y, epochs=50)"
   ]
  },
  {
   "cell_type": "code",
   "execution_count": 36,
   "id": "6501781a",
   "metadata": {},
   "outputs": [],
   "source": [
    "# Make train and test split\n",
    "from sklearn.model_selection import train_test_split\n",
    "\n",
    "X_train, X_test, y_train, y_test = train_test_split(X, y, test_size=0.2, random_state=42)"
   ]
  },
  {
   "cell_type": "code",
   "execution_count": 37,
   "id": "02fbcbb4",
   "metadata": {
    "scrolled": true
   },
   "outputs": [
    {
     "name": "stdout",
     "output_type": "stream",
     "text": [
      "Epoch 1/100\n",
      "25/25 [==============================] - 0s 4ms/step - loss: 0.6938 - accuracy: 0.5038\n",
      "Epoch 2/100\n",
      "25/25 [==============================] - 0s 4ms/step - loss: 0.6858 - accuracy: 0.5125\n",
      "Epoch 3/100\n",
      "25/25 [==============================] - 0s 4ms/step - loss: 0.6823 - accuracy: 0.5250\n",
      "Epoch 4/100\n",
      "25/25 [==============================] - 0s 4ms/step - loss: 0.6803 - accuracy: 0.5312\n",
      "Epoch 5/100\n",
      "25/25 [==============================] - 0s 4ms/step - loss: 0.6779 - accuracy: 0.6062\n",
      "Epoch 6/100\n",
      "25/25 [==============================] - 0s 4ms/step - loss: 0.6761 - accuracy: 0.5650\n",
      "Epoch 7/100\n",
      "25/25 [==============================] - 0s 4ms/step - loss: 0.6742 - accuracy: 0.5763\n",
      "Epoch 8/100\n",
      "25/25 [==============================] - 0s 3ms/step - loss: 0.6724 - accuracy: 0.5775\n",
      "Epoch 9/100\n",
      "25/25 [==============================] - 0s 3ms/step - loss: 0.6708 - accuracy: 0.5675\n",
      "Epoch 10/100\n",
      "25/25 [==============================] - 0s 4ms/step - loss: 0.6688 - accuracy: 0.5725\n",
      "Epoch 11/100\n",
      "25/25 [==============================] - 0s 4ms/step - loss: 0.6665 - accuracy: 0.5688\n",
      "Epoch 12/100\n",
      "25/25 [==============================] - 0s 4ms/step - loss: 0.6644 - accuracy: 0.5775\n",
      "Epoch 13/100\n",
      "25/25 [==============================] - 0s 4ms/step - loss: 0.6623 - accuracy: 0.6037\n",
      "Epoch 14/100\n",
      "25/25 [==============================] - 0s 4ms/step - loss: 0.6601 - accuracy: 0.6087\n",
      "Epoch 15/100\n",
      "25/25 [==============================] - 0s 4ms/step - loss: 0.6577 - accuracy: 0.5938\n",
      "Epoch 16/100\n",
      "25/25 [==============================] - 0s 4ms/step - loss: 0.6552 - accuracy: 0.6012\n",
      "Epoch 17/100\n",
      "25/25 [==============================] - 0s 4ms/step - loss: 0.6525 - accuracy: 0.6050\n",
      "Epoch 18/100\n",
      "25/25 [==============================] - 0s 4ms/step - loss: 0.6496 - accuracy: 0.6712\n",
      "Epoch 19/100\n",
      "25/25 [==============================] - 0s 4ms/step - loss: 0.6468 - accuracy: 0.6363\n",
      "Epoch 20/100\n",
      "25/25 [==============================] - 0s 4ms/step - loss: 0.6431 - accuracy: 0.6737\n",
      "Epoch 21/100\n",
      "25/25 [==============================] - 0s 4ms/step - loss: 0.6393 - accuracy: 0.6925\n",
      "Epoch 22/100\n",
      "25/25 [==============================] - 0s 5ms/step - loss: 0.6355 - accuracy: 0.6625\n",
      "Epoch 23/100\n",
      "25/25 [==============================] - 0s 4ms/step - loss: 0.6313 - accuracy: 0.6750\n",
      "Epoch 24/100\n",
      "25/25 [==============================] - 0s 4ms/step - loss: 0.6272 - accuracy: 0.6875\n",
      "Epoch 25/100\n",
      "25/25 [==============================] - 0s 4ms/step - loss: 0.6222 - accuracy: 0.7188\n",
      "Epoch 26/100\n",
      "25/25 [==============================] - 0s 4ms/step - loss: 0.6166 - accuracy: 0.7225\n",
      "Epoch 27/100\n",
      "25/25 [==============================] - 0s 3ms/step - loss: 0.6100 - accuracy: 0.7400\n",
      "Epoch 28/100\n",
      "25/25 [==============================] - 0s 3ms/step - loss: 0.6028 - accuracy: 0.7925\n",
      "Epoch 29/100\n",
      "25/25 [==============================] - 0s 3ms/step - loss: 0.5950 - accuracy: 0.8363\n",
      "Epoch 30/100\n",
      "25/25 [==============================] - 0s 5ms/step - loss: 0.5868 - accuracy: 0.8537\n",
      "Epoch 31/100\n",
      "25/25 [==============================] - 0s 4ms/step - loss: 0.5780 - accuracy: 0.8637\n",
      "Epoch 32/100\n",
      "25/25 [==============================] - 0s 4ms/step - loss: 0.5679 - accuracy: 0.9087\n",
      "Epoch 33/100\n",
      "25/25 [==============================] - 0s 4ms/step - loss: 0.5571 - accuracy: 0.9125\n",
      "Epoch 34/100\n",
      "25/25 [==============================] - 0s 4ms/step - loss: 0.5470 - accuracy: 0.8938\n",
      "Epoch 35/100\n",
      "25/25 [==============================] - 0s 4ms/step - loss: 0.5371 - accuracy: 0.9550\n",
      "Epoch 36/100\n",
      "25/25 [==============================] - 0s 4ms/step - loss: 0.5262 - accuracy: 0.9187\n",
      "Epoch 37/100\n",
      "25/25 [==============================] - 0s 4ms/step - loss: 0.5152 - accuracy: 0.9488\n",
      "Epoch 38/100\n",
      "25/25 [==============================] - 0s 4ms/step - loss: 0.5045 - accuracy: 0.9588\n",
      "Epoch 39/100\n",
      "25/25 [==============================] - 0s 4ms/step - loss: 0.4945 - accuracy: 0.9613\n",
      "Epoch 40/100\n",
      "25/25 [==============================] - 0s 4ms/step - loss: 0.4838 - accuracy: 0.9600\n",
      "Epoch 41/100\n",
      "25/25 [==============================] - 0s 4ms/step - loss: 0.4724 - accuracy: 0.9588\n",
      "Epoch 42/100\n",
      "25/25 [==============================] - 0s 4ms/step - loss: 0.4614 - accuracy: 0.9762\n",
      "Epoch 43/100\n",
      "25/25 [==============================] - 0s 4ms/step - loss: 0.4503 - accuracy: 0.9775\n",
      "Epoch 44/100\n",
      "25/25 [==============================] - 0s 4ms/step - loss: 0.4387 - accuracy: 0.9762\n",
      "Epoch 45/100\n",
      "25/25 [==============================] - 0s 4ms/step - loss: 0.4274 - accuracy: 0.9800\n",
      "Epoch 46/100\n",
      "25/25 [==============================] - 0s 3ms/step - loss: 0.4160 - accuracy: 0.9787\n",
      "Epoch 47/100\n",
      "25/25 [==============================] - 0s 3ms/step - loss: 0.4046 - accuracy: 0.9812\n",
      "Epoch 48/100\n",
      "25/25 [==============================] - 0s 4ms/step - loss: 0.3939 - accuracy: 0.9837\n",
      "Epoch 49/100\n",
      "25/25 [==============================] - 0s 4ms/step - loss: 0.3831 - accuracy: 0.9812\n",
      "Epoch 50/100\n",
      "25/25 [==============================] - 0s 4ms/step - loss: 0.3716 - accuracy: 0.9837\n",
      "Epoch 51/100\n",
      "25/25 [==============================] - 0s 4ms/step - loss: 0.3605 - accuracy: 0.9837\n",
      "Epoch 52/100\n",
      "25/25 [==============================] - 0s 4ms/step - loss: 0.3491 - accuracy: 0.9850\n",
      "Epoch 53/100\n",
      "25/25 [==============================] - 0s 4ms/step - loss: 0.3390 - accuracy: 0.9875\n",
      "Epoch 54/100\n",
      "25/25 [==============================] - 0s 4ms/step - loss: 0.3274 - accuracy: 0.9912\n",
      "Epoch 55/100\n",
      "25/25 [==============================] - 0s 4ms/step - loss: 0.3170 - accuracy: 0.9862\n",
      "Epoch 56/100\n",
      "25/25 [==============================] - 0s 4ms/step - loss: 0.3060 - accuracy: 0.9887\n",
      "Epoch 57/100\n",
      "25/25 [==============================] - 0s 4ms/step - loss: 0.2955 - accuracy: 0.9887\n",
      "Epoch 58/100\n",
      "25/25 [==============================] - 0s 4ms/step - loss: 0.2845 - accuracy: 0.9900\n",
      "Epoch 59/100\n",
      "25/25 [==============================] - 0s 4ms/step - loss: 0.2755 - accuracy: 0.9912\n",
      "Epoch 60/100\n",
      "25/25 [==============================] - 0s 4ms/step - loss: 0.2658 - accuracy: 0.9912\n",
      "Epoch 61/100\n",
      "25/25 [==============================] - 0s 5ms/step - loss: 0.2577 - accuracy: 0.9925\n",
      "Epoch 62/100\n",
      "25/25 [==============================] - 0s 4ms/step - loss: 0.2485 - accuracy: 0.9900\n",
      "Epoch 63/100\n",
      "25/25 [==============================] - 0s 4ms/step - loss: 0.2399 - accuracy: 0.9937\n",
      "Epoch 64/100\n",
      "25/25 [==============================] - 0s 4ms/step - loss: 0.2320 - accuracy: 0.9925\n",
      "Epoch 65/100\n",
      "25/25 [==============================] - 0s 3ms/step - loss: 0.2238 - accuracy: 0.9937\n",
      "Epoch 66/100\n",
      "25/25 [==============================] - 0s 3ms/step - loss: 0.2166 - accuracy: 0.9937\n",
      "Epoch 67/100\n",
      "25/25 [==============================] - 0s 3ms/step - loss: 0.2093 - accuracy: 0.9962\n",
      "Epoch 68/100\n",
      "25/25 [==============================] - 0s 4ms/step - loss: 0.2020 - accuracy: 0.9950\n",
      "Epoch 69/100\n",
      "25/25 [==============================] - 0s 4ms/step - loss: 0.1952 - accuracy: 0.9950\n",
      "Epoch 70/100\n",
      "25/25 [==============================] - 0s 4ms/step - loss: 0.1894 - accuracy: 0.9950\n",
      "Epoch 71/100\n",
      "25/25 [==============================] - 0s 4ms/step - loss: 0.1824 - accuracy: 0.9975\n",
      "Epoch 72/100\n",
      "25/25 [==============================] - 0s 4ms/step - loss: 0.1762 - accuracy: 0.9975\n",
      "Epoch 73/100\n",
      "25/25 [==============================] - 0s 4ms/step - loss: 0.1711 - accuracy: 0.9950\n",
      "Epoch 74/100\n",
      "25/25 [==============================] - 0s 4ms/step - loss: 0.1654 - accuracy: 0.9975\n",
      "Epoch 75/100\n",
      "25/25 [==============================] - 0s 4ms/step - loss: 0.1593 - accuracy: 0.9987\n",
      "Epoch 76/100\n",
      "25/25 [==============================] - 0s 4ms/step - loss: 0.1545 - accuracy: 0.9987\n",
      "Epoch 77/100\n",
      "25/25 [==============================] - 0s 4ms/step - loss: 0.1486 - accuracy: 0.9987\n",
      "Epoch 78/100\n",
      "25/25 [==============================] - 0s 4ms/step - loss: 0.1440 - accuracy: 0.9975\n",
      "Epoch 79/100\n",
      "25/25 [==============================] - 0s 4ms/step - loss: 0.1395 - accuracy: 0.9987\n",
      "Epoch 80/100\n",
      "25/25 [==============================] - 0s 4ms/step - loss: 0.1350 - accuracy: 0.9987\n",
      "Epoch 81/100\n",
      "25/25 [==============================] - 0s 4ms/step - loss: 0.1304 - accuracy: 0.9987\n",
      "Epoch 82/100\n",
      "25/25 [==============================] - 0s 4ms/step - loss: 0.1261 - accuracy: 1.0000\n",
      "Epoch 83/100\n"
     ]
    },
    {
     "name": "stdout",
     "output_type": "stream",
     "text": [
      "25/25 [==============================] - 0s 4ms/step - loss: 0.1223 - accuracy: 0.9987\n",
      "Epoch 84/100\n",
      "25/25 [==============================] - 0s 3ms/step - loss: 0.1179 - accuracy: 1.0000\n",
      "Epoch 85/100\n",
      "25/25 [==============================] - 0s 3ms/step - loss: 0.1141 - accuracy: 0.9987\n",
      "Epoch 86/100\n",
      "25/25 [==============================] - 0s 3ms/step - loss: 0.1102 - accuracy: 0.9987\n",
      "Epoch 87/100\n",
      "25/25 [==============================] - 0s 4ms/step - loss: 0.1065 - accuracy: 1.0000\n",
      "Epoch 88/100\n",
      "25/25 [==============================] - 0s 4ms/step - loss: 0.1032 - accuracy: 1.0000\n",
      "Epoch 89/100\n",
      "25/25 [==============================] - 0s 4ms/step - loss: 0.1004 - accuracy: 1.0000\n",
      "Epoch 90/100\n",
      "25/25 [==============================] - 0s 5ms/step - loss: 0.0973 - accuracy: 1.0000\n",
      "Epoch 91/100\n",
      "25/25 [==============================] - 0s 4ms/step - loss: 0.0932 - accuracy: 1.0000\n",
      "Epoch 92/100\n",
      "25/25 [==============================] - 0s 4ms/step - loss: 0.0907 - accuracy: 1.0000\n",
      "Epoch 93/100\n",
      "25/25 [==============================] - 0s 4ms/step - loss: 0.0883 - accuracy: 1.0000\n",
      "Epoch 94/100\n",
      "25/25 [==============================] - 0s 4ms/step - loss: 0.0858 - accuracy: 0.9987\n",
      "Epoch 95/100\n",
      "25/25 [==============================] - 0s 4ms/step - loss: 0.0835 - accuracy: 1.0000\n",
      "Epoch 96/100\n",
      "25/25 [==============================] - 0s 4ms/step - loss: 0.0813 - accuracy: 1.0000\n",
      "Epoch 97/100\n",
      "25/25 [==============================] - 0s 4ms/step - loss: 0.0788 - accuracy: 1.0000\n",
      "Epoch 98/100\n",
      "25/25 [==============================] - 0s 4ms/step - loss: 0.0763 - accuracy: 1.0000\n",
      "Epoch 99/100\n",
      "25/25 [==============================] - 0s 4ms/step - loss: 0.0747 - accuracy: 1.0000\n",
      "Epoch 100/100\n",
      "25/25 [==============================] - 0s 4ms/step - loss: 0.0725 - accuracy: 1.0000\n"
     ]
    }
   ],
   "source": [
    "# Make another model and train it on a train data set\n",
    "# set random seed\n",
    "tf.random.set_seed(42)\n",
    "\n",
    "# 1. Create a model using seqential API\n",
    "model_3 = tf.keras.Sequential([\n",
    "     tf.keras.layers.Dense(8, activation=\"relu\"),\n",
    "     tf.keras.layers.Dense(8, activation=\"relu\"),\n",
    "     tf.keras.layers.Dense(1, activation=\"sigmoid\")\n",
    " ])\n",
    "    \n",
    "model_3.compile(loss=\"binary_crossentropy\",\n",
    "             optimizer=\"adam\",\n",
    "             metrics=[\"accuracy\"])\n",
    "\n",
    "history = model_3.fit(X_train, y_train, epochs=100)"
   ]
  },
  {
   "cell_type": "code",
   "execution_count": 38,
   "id": "1e017edd",
   "metadata": {},
   "outputs": [
    {
     "name": "stdout",
     "output_type": "stream",
     "text": [
      "7/7 [==============================] - 0s 3ms/step - loss: 0.0981 - accuracy: 1.0000\n"
     ]
    }
   ],
   "source": [
    "model_3.evaluate(X_test, y_test);"
   ]
  },
  {
   "cell_type": "markdown",
   "id": "6bef3ccd",
   "metadata": {},
   "source": [
    "## Visualizating predictions \n",
    "\n",
    "To visualise model's predictions, I'll create a function `plot_decision_boundary()`, it will:\n",
    "* Take in a trained model, features (X) and labels (y)\n",
    "* Create a meshgrid of different X values\n",
    "* Make prediction across the meshgrid\n",
    "* Plot the predictions as well as a line between zones (where each unique class falls)"
   ]
  },
  {
   "cell_type": "code",
   "execution_count": 39,
   "id": "8daf56d6",
   "metadata": {},
   "outputs": [],
   "source": [
    "import numpy as np\n",
    "\n",
    "def plot_decision_boundary(model, X, y):\n",
    "    \"\"\"\n",
    "    Plots the decision boundary created by a model predicting on X.\n",
    "    \"\"\"\n",
    "    # Define the axis boundary created of the plot and create a meshgrid\n",
    "    x_min, x_max = X[:,0].min() - 0.1, X[:,0].max() + 0.1\n",
    "    y_min, y_max = X[:,1].min() - 0.1, X[:,1].max() + 0.1\n",
    "\n",
    "    xx, yy = np.meshgrid(np.linspace(x_min, x_max, 100),\n",
    "                        np.linspace(y_min, y_max, 100))\n",
    "    \n",
    "    # Create X value (we're going to make prediction on these)\n",
    "    x_in = np.c_[xx.ravel(), yy.ravel()] # stack 2D arrays together\n",
    "    \n",
    "    # Make predictions\n",
    "    y_pred = model.predict(x_in)\n",
    "    \n",
    "    # Check for multi-class\n",
    "    if len(y_pred[0]) > 1:\n",
    "        print(\"Doing multiclass classification\")\n",
    "        # we have to reshape our prediction to get them ready for ploting\n",
    "        y_pred = np.argmax(y_pred, axis=1).reshape(xx.shape)\n",
    "    else:\n",
    "        print(\"Doing binary classification\")\n",
    "        y_pred = np.round(y_pred).reshape(xx.shape)\n",
    "        \n",
    "    # Plot the decision boundry\n",
    "    plt.contourf(xx, yy, y_pred, cmap=plt.cm.RdYlBu, alpha=0.7)\n",
    "    plt.scatter(X[:, 0], X[:, 1], c=y, s=40, cmap=plt.cm.RdYlBu, marker=\".\")\n",
    "    plt.xlim(xx.min(), xx.max())\n",
    "    plt.ylim(yy.min(), yy.max())"
   ]
  },
  {
   "cell_type": "code",
   "execution_count": 40,
   "id": "cc9b9b86",
   "metadata": {},
   "outputs": [
    {
     "name": "stdout",
     "output_type": "stream",
     "text": [
      "Doing binary classification\n"
     ]
    },
    {
     "data": {
      "image/png": "[encoded data removed]",
      "text/plain": [
       "<Figure size 432x288 with 1 Axes>"
      ]
     },
     "metadata": {
      "needs_background": "light"
     },
     "output_type": "display_data"
    }
   ],
   "source": [
    "# Check out the predictions our model is making\n",
    "plot_decision_boundary(model=model_3,\n",
    "                      X=X_test,\n",
    "                      y=y_test)"
   ]
  },
  {
   "cell_type": "markdown",
   "id": "fd30e952",
   "metadata": {},
   "source": [
    "## Implementing non-linear and linear functions"
   ]
  },
  {
   "cell_type": "code",
   "execution_count": 41,
   "id": "27490e69",
   "metadata": {},
   "outputs": [
    {
     "data": {
      "text/plain": [
       "<tf.Tensor: shape=(20,), dtype=float32, numpy=\n",
       "array([-10.,  -9.,  -8.,  -7.,  -6.,  -5.,  -4.,  -3.,  -2.,  -1.,   0.,\n",
       "         1.,   2.,   3.,   4.,   5.,   6.,   7.,   8.,   9.],\n",
       "      dtype=float32)>"
      ]
     },
     "execution_count": 41,
     "metadata": {},
     "output_type": "execute_result"
    }
   ],
   "source": [
    "# Create a toy tensor\n",
    "A = tf.cast(tf.range(-10, 10), tf.float32)\n",
    "A"
   ]
  },
  {
   "cell_type": "code",
   "execution_count": 42,
   "id": "2bbd3ac6",
   "metadata": {},
   "outputs": [
    {
     "data": {
      "image/png": "[encoded data removed]",
      "text/plain": [
       "<Figure size 432x288 with 1 Axes>"
      ]
     },
     "metadata": {
      "needs_background": "light"
     },
     "output_type": "display_data"
    }
   ],
   "source": [
    "plt.plot(A);"
   ]
  },
  {
   "cell_type": "code",
   "execution_count": 43,
   "id": "d1f31fbf",
   "metadata": {},
   "outputs": [
    {
     "data": {
      "text/plain": [
       "<tf.Tensor: shape=(20,), dtype=float32, numpy=\n",
       "array([4.5397868e-05, 1.2339458e-04, 3.3535014e-04, 9.1105117e-04,\n",
       "       2.4726230e-03, 6.6928510e-03, 1.7986210e-02, 4.7425874e-02,\n",
       "       1.1920292e-01, 2.6894143e-01, 5.0000000e-01, 7.3105854e-01,\n",
       "       8.8079703e-01, 9.5257413e-01, 9.8201376e-01, 9.9330717e-01,\n",
       "       9.9752742e-01, 9.9908900e-01, 9.9966466e-01, 9.9987662e-01],\n",
       "      dtype=float32)>"
      ]
     },
     "execution_count": 43,
     "metadata": {},
     "output_type": "execute_result"
    }
   ],
   "source": [
    "# sigmoid\n",
    "def my_sigmoid(x):\n",
    "    return 1/(1 + tf.exp(-x))\n",
    "\n",
    "# Use my_sigmoid function on toy tensor\n",
    "my_sigmoid(A)"
   ]
  },
  {
   "cell_type": "code",
   "execution_count": 44,
   "id": "2d1fc410",
   "metadata": {},
   "outputs": [
    {
     "data": {
      "image/png": "[encoded data removed]",
      "text/plain": [
       "<Figure size 432x288 with 1 Axes>"
      ]
     },
     "metadata": {
      "needs_background": "light"
     },
     "output_type": "display_data"
    }
   ],
   "source": [
    "plt.plot(my_sigmoid(A));"
   ]
  },
  {
   "cell_type": "code",
   "execution_count": 45,
   "id": "eb4f7f1c",
   "metadata": {},
   "outputs": [
    {
     "data": {
      "text/plain": [
       "<tf.Tensor: shape=(20,), dtype=float32, numpy=\n",
       "array([0., 0., 0., 0., 0., 0., 0., 0., 0., 0., 0., 1., 2., 3., 4., 5., 6.,\n",
       "       7., 8., 9.], dtype=float32)>"
      ]
     },
     "execution_count": 45,
     "metadata": {},
     "output_type": "execute_result"
    }
   ],
   "source": [
    "# ReLU\n",
    "def my_relu(x):\n",
    "    return tf.maximum(0, x)\n",
    "\n",
    "# use my_relu on toy tensor\n",
    "my_relu(A)"
   ]
  },
  {
   "cell_type": "code",
   "execution_count": 46,
   "id": "6913cf5a",
   "metadata": {},
   "outputs": [
    {
     "data": {
      "image/png": "[encoded data removed]",
      "text/plain": [
       "<Figure size 432x288 with 1 Axes>"
      ]
     },
     "metadata": {
      "needs_background": "light"
     },
     "output_type": "display_data"
    }
   ],
   "source": [
    "plt.plot(my_relu(A));"
   ]
  },
  {
   "cell_type": "code",
   "execution_count": 47,
   "id": "348a2284",
   "metadata": {},
   "outputs": [],
   "source": [
    "# linear activation function\n",
    "def my_linear(x):\n",
    "    return x # LOL"
   ]
  },
  {
   "cell_type": "code",
   "execution_count": 48,
   "id": "e5811509",
   "metadata": {},
   "outputs": [
    {
     "data": {
      "image/png": "[encoded data removed]",
      "text/plain": [
       "<Figure size 432x288 with 1 Axes>"
      ]
     },
     "metadata": {
      "needs_background": "light"
     },
     "output_type": "display_data"
    }
   ],
   "source": [
    "pd.DataFrame(history.history).plot()\n",
    "plt.title(\"Model_3 loss curves\");"
   ]
  },
  {
   "cell_type": "markdown",
   "id": "27548394",
   "metadata": {},
   "source": [
    "## Finding the best learning rate\n",
    "To find the ideal learning rate we are going to use following steps:\n",
    "* A learining rate **callback**\n",
    "* Another model\n",
    "* A modified loss curves plot"
   ]
  },
  {
   "cell_type": "code",
   "execution_count": 86,
   "id": "b8d7b626",
   "metadata": {},
   "outputs": [
    {
     "name": "stdout",
     "output_type": "stream",
     "text": [
      "Epoch 1/100\n",
      "25/25 [==============================] - 0s 4ms/step - loss: 0.7090 - accuracy: 0.5000\n",
      "Epoch 2/100\n",
      "25/25 [==============================] - 0s 4ms/step - loss: 0.7081 - accuracy: 0.5000\n",
      "Epoch 3/100\n",
      "25/25 [==============================] - 0s 4ms/step - loss: 0.7072 - accuracy: 0.5000\n",
      "Epoch 4/100\n",
      "25/25 [==============================] - 0s 4ms/step - loss: 0.7063 - accuracy: 0.5000\n",
      "Epoch 5/100\n",
      "25/25 [==============================] - 0s 4ms/step - loss: 0.7052 - accuracy: 0.5000\n",
      "Epoch 6/100\n",
      "25/25 [==============================] - 0s 4ms/step - loss: 0.7042 - accuracy: 0.5000\n",
      "Epoch 7/100\n",
      "25/25 [==============================] - 0s 4ms/step - loss: 0.7031 - accuracy: 0.5000\n",
      "Epoch 8/100\n",
      "25/25 [==============================] - 0s 4ms/step - loss: 0.7020 - accuracy: 0.5000\n",
      "Epoch 9/100\n",
      "25/25 [==============================] - 0s 4ms/step - loss: 0.7009 - accuracy: 0.5000\n",
      "Epoch 10/100\n",
      "25/25 [==============================] - 0s 4ms/step - loss: 0.6999 - accuracy: 0.5000\n",
      "Epoch 11/100\n",
      "25/25 [==============================] - 0s 4ms/step - loss: 0.6987 - accuracy: 0.5000\n",
      "Epoch 12/100\n",
      "25/25 [==============================] - 0s 4ms/step - loss: 0.6978 - accuracy: 0.5000\n",
      "Epoch 13/100\n",
      "25/25 [==============================] - 0s 4ms/step - loss: 0.6969 - accuracy: 0.5000\n",
      "Epoch 14/100\n",
      "25/25 [==============================] - 0s 4ms/step - loss: 0.6960 - accuracy: 0.5000\n",
      "Epoch 15/100\n",
      "25/25 [==============================] - 0s 3ms/step - loss: 0.6952 - accuracy: 0.5000\n",
      "Epoch 16/100\n",
      "25/25 [==============================] - 0s 3ms/step - loss: 0.6945 - accuracy: 0.5000\n",
      "Epoch 17/100\n",
      "25/25 [==============================] - 0s 3ms/step - loss: 0.6939 - accuracy: 0.5000\n",
      "Epoch 18/100\n",
      "25/25 [==============================] - 0s 4ms/step - loss: 0.6934 - accuracy: 0.5000\n",
      "Epoch 19/100\n",
      "25/25 [==============================] - 0s 4ms/step - loss: 0.6929 - accuracy: 0.5000\n",
      "Epoch 20/100\n",
      "25/25 [==============================] - 0s 4ms/step - loss: 0.6926 - accuracy: 0.4787\n",
      "Epoch 21/100\n",
      "25/25 [==============================] - 0s 4ms/step - loss: 0.6921 - accuracy: 0.4988\n",
      "Epoch 22/100\n",
      "25/25 [==============================] - 0s 4ms/step - loss: 0.6916 - accuracy: 0.5038\n",
      "Epoch 23/100\n",
      "25/25 [==============================] - 0s 4ms/step - loss: 0.6911 - accuracy: 0.5113\n",
      "Epoch 24/100\n",
      "25/25 [==============================] - 0s 4ms/step - loss: 0.6907 - accuracy: 0.5113\n",
      "Epoch 25/100\n",
      "25/25 [==============================] - 0s 4ms/step - loss: 0.6901 - accuracy: 0.5238\n",
      "Epoch 26/100\n",
      "25/25 [==============================] - 0s 4ms/step - loss: 0.6893 - accuracy: 0.5275\n",
      "Epoch 27/100\n",
      "25/25 [==============================] - 0s 4ms/step - loss: 0.6886 - accuracy: 0.5337\n",
      "Epoch 28/100\n",
      "25/25 [==============================] - 0s 4ms/step - loss: 0.6880 - accuracy: 0.5325\n",
      "Epoch 29/100\n",
      "25/25 [==============================] - 0s 4ms/step - loss: 0.6867 - accuracy: 0.5475\n",
      "Epoch 30/100\n",
      "25/25 [==============================] - 0s 4ms/step - loss: 0.6855 - accuracy: 0.5487\n",
      "Epoch 31/100\n",
      "25/25 [==============================] - 0s 4ms/step - loss: 0.6846 - accuracy: 0.5450\n",
      "Epoch 32/100\n",
      "25/25 [==============================] - 0s 4ms/step - loss: 0.6826 - accuracy: 0.5600\n",
      "Epoch 33/100\n",
      "25/25 [==============================] - 0s 4ms/step - loss: 0.6810 - accuracy: 0.5700\n",
      "Epoch 34/100\n",
      "25/25 [==============================] - 0s 3ms/step - loss: 0.6795 - accuracy: 0.5437\n",
      "Epoch 35/100\n",
      "25/25 [==============================] - 0s 3ms/step - loss: 0.6781 - accuracy: 0.6025\n",
      "Epoch 36/100\n",
      "25/25 [==============================] - 0s 3ms/step - loss: 0.6748 - accuracy: 0.5550\n",
      "Epoch 37/100\n",
      "25/25 [==============================] - 0s 4ms/step - loss: 0.6709 - accuracy: 0.5738\n",
      "Epoch 38/100\n",
      "25/25 [==============================] - 0s 4ms/step - loss: 0.6663 - accuracy: 0.6000\n",
      "Epoch 39/100\n",
      "25/25 [==============================] - 0s 4ms/step - loss: 0.6613 - accuracy: 0.6500\n",
      "Epoch 40/100\n",
      "25/25 [==============================] - 0s 4ms/step - loss: 0.6533 - accuracy: 0.6313\n",
      "Epoch 41/100\n",
      "25/25 [==============================] - 0s 4ms/step - loss: 0.6364 - accuracy: 0.6587\n",
      "Epoch 42/100\n",
      "25/25 [==============================] - 0s 4ms/step - loss: 0.6150 - accuracy: 0.7825\n",
      "Epoch 43/100\n",
      "25/25 [==============================] - 0s 4ms/step - loss: 0.5805 - accuracy: 0.8550\n",
      "Epoch 44/100\n",
      "25/25 [==============================] - 0s 4ms/step - loss: 0.5276 - accuracy: 0.8737\n",
      "Epoch 45/100\n",
      "25/25 [==============================] - 0s 4ms/step - loss: 0.4438 - accuracy: 0.9200\n",
      "Epoch 46/100\n",
      "25/25 [==============================] - 0s 4ms/step - loss: 0.3229 - accuracy: 0.9837\n",
      "Epoch 47/100\n",
      "25/25 [==============================] - 0s 4ms/step - loss: 0.2136 - accuracy: 0.9875\n",
      "Epoch 48/100\n",
      "25/25 [==============================] - 0s 4ms/step - loss: 0.1575 - accuracy: 0.9750\n",
      "Epoch 49/100\n",
      "25/25 [==============================] - 0s 4ms/step - loss: 0.1187 - accuracy: 0.9737\n",
      "Epoch 50/100\n",
      "25/25 [==============================] - 0s 4ms/step - loss: 0.0786 - accuracy: 0.9887\n",
      "Epoch 51/100\n",
      "25/25 [==============================] - 0s 4ms/step - loss: 0.0560 - accuracy: 0.9962\n",
      "Epoch 52/100\n",
      "25/25 [==============================] - 0s 4ms/step - loss: 0.0607 - accuracy: 0.9850\n",
      "Epoch 53/100\n",
      "25/25 [==============================] - 0s 3ms/step - loss: 0.0551 - accuracy: 0.9862\n",
      "Epoch 54/100\n",
      "25/25 [==============================] - 0s 3ms/step - loss: 0.0468 - accuracy: 0.9850\n",
      "Epoch 55/100\n",
      "25/25 [==============================] - 0s 3ms/step - loss: 0.0546 - accuracy: 0.9837\n",
      "Epoch 56/100\n",
      "25/25 [==============================] - 0s 4ms/step - loss: 0.0478 - accuracy: 0.9787\n",
      "Epoch 57/100\n",
      "25/25 [==============================] - 0s 4ms/step - loss: 0.0950 - accuracy: 0.9650\n",
      "Epoch 58/100\n",
      "25/25 [==============================] - 0s 4ms/step - loss: 0.0450 - accuracy: 0.9862\n",
      "Epoch 59/100\n",
      "25/25 [==============================] - 0s 4ms/step - loss: 0.0369 - accuracy: 0.9887\n",
      "Epoch 60/100\n",
      "25/25 [==============================] - 0s 4ms/step - loss: 0.0802 - accuracy: 0.9638\n",
      "Epoch 61/100\n",
      "25/25 [==============================] - 0s 4ms/step - loss: 0.0834 - accuracy: 0.9700\n",
      "Epoch 62/100\n",
      "25/25 [==============================] - 0s 4ms/step - loss: 0.0742 - accuracy: 0.9725\n",
      "Epoch 63/100\n",
      "25/25 [==============================] - 0s 4ms/step - loss: 0.3393 - accuracy: 0.8687\n",
      "Epoch 64/100\n",
      "25/25 [==============================] - 0s 4ms/step - loss: 0.1060 - accuracy: 0.9700\n",
      "Epoch 65/100\n",
      "25/25 [==============================] - 0s 4ms/step - loss: 0.0504 - accuracy: 0.9812\n",
      "Epoch 66/100\n",
      "25/25 [==============================] - 0s 4ms/step - loss: 0.1724 - accuracy: 0.9450\n",
      "Epoch 67/100\n",
      "25/25 [==============================] - 0s 4ms/step - loss: 0.0658 - accuracy: 0.9750\n",
      "Epoch 68/100\n",
      "25/25 [==============================] - 0s 4ms/step - loss: 0.0492 - accuracy: 0.9837\n",
      "Epoch 69/100\n",
      "25/25 [==============================] - 0s 4ms/step - loss: 0.1636 - accuracy: 0.9425\n",
      "Epoch 70/100\n",
      "25/25 [==============================] - 0s 4ms/step - loss: 0.1828 - accuracy: 0.9275\n",
      "Epoch 71/100\n",
      "25/25 [==============================] - 0s 4ms/step - loss: 0.1622 - accuracy: 0.9500\n",
      "Epoch 72/100\n",
      "25/25 [==============================] - 0s 4ms/step - loss: 0.1879 - accuracy: 0.9225\n",
      "Epoch 73/100\n",
      "25/25 [==============================] - 0s 4ms/step - loss: 0.1105 - accuracy: 0.9550\n",
      "Epoch 74/100\n",
      "25/25 [==============================] - 0s 4ms/step - loss: 0.3515 - accuracy: 0.8525\n",
      "Epoch 75/100\n",
      "25/25 [==============================] - 0s 3ms/step - loss: 0.0991 - accuracy: 0.9613\n",
      "Epoch 76/100\n",
      "25/25 [==============================] - 0s 4ms/step - loss: 0.9488 - accuracy: 0.6775\n",
      "Epoch 77/100\n",
      "25/25 [==============================] - 0s 4ms/step - loss: 0.8188 - accuracy: 0.6075\n",
      "Epoch 78/100\n",
      "25/25 [==============================] - 0s 4ms/step - loss: 0.5459 - accuracy: 0.7262\n",
      "Epoch 79/100\n",
      "25/25 [==============================] - 0s 4ms/step - loss: 0.6425 - accuracy: 0.6988\n",
      "Epoch 80/100\n",
      "25/25 [==============================] - 0s 4ms/step - loss: 0.7525 - accuracy: 0.6175\n",
      "Epoch 81/100\n",
      "25/25 [==============================] - 0s 4ms/step - loss: 0.7274 - accuracy: 0.5725\n",
      "Epoch 82/100\n",
      "25/25 [==============================] - 0s 4ms/step - loss: 0.7269 - accuracy: 0.5875\n",
      "Epoch 83/100\n"
     ]
    },
    {
     "name": "stdout",
     "output_type": "stream",
     "text": [
      "25/25 [==============================] - 0s 4ms/step - loss: 0.9439 - accuracy: 0.4963\n",
      "Epoch 84/100\n",
      "25/25 [==============================] - 0s 4ms/step - loss: 0.8851 - accuracy: 0.4888\n",
      "Epoch 85/100\n",
      "25/25 [==============================] - 0s 4ms/step - loss: 0.7404 - accuracy: 0.5200\n",
      "Epoch 86/100\n",
      "25/25 [==============================] - 0s 4ms/step - loss: 0.7716 - accuracy: 0.4875\n",
      "Epoch 87/100\n",
      "25/25 [==============================] - 0s 5ms/step - loss: 0.8029 - accuracy: 0.4875\n",
      "Epoch 88/100\n",
      "25/25 [==============================] - 0s 4ms/step - loss: 0.8211 - accuracy: 0.5063\n",
      "Epoch 89/100\n",
      "25/25 [==============================] - 0s 4ms/step - loss: 0.8115 - accuracy: 0.5113\n",
      "Epoch 90/100\n",
      "25/25 [==============================] - 0s 4ms/step - loss: 1.0421 - accuracy: 0.5088\n",
      "Epoch 91/100\n",
      "25/25 [==============================] - 0s 4ms/step - loss: 0.7931 - accuracy: 0.5038\n",
      "Epoch 92/100\n",
      "25/25 [==============================] - 0s 3ms/step - loss: 0.8067 - accuracy: 0.5225\n",
      "Epoch 93/100\n",
      "25/25 [==============================] - 0s 3ms/step - loss: 1.4045 - accuracy: 0.4875\n",
      "Epoch 94/100\n",
      "25/25 [==============================] - 0s 4ms/step - loss: 1.8762 - accuracy: 0.5025\n",
      "Epoch 95/100\n",
      "25/25 [==============================] - 0s 5ms/step - loss: 1.2089 - accuracy: 0.4900\n",
      "Epoch 96/100\n",
      "25/25 [==============================] - 0s 4ms/step - loss: 0.9530 - accuracy: 0.5075\n",
      "Epoch 97/100\n",
      "25/25 [==============================] - 0s 4ms/step - loss: 0.8717 - accuracy: 0.4900\n",
      "Epoch 98/100\n",
      "25/25 [==============================] - 0s 4ms/step - loss: 1.0853 - accuracy: 0.5025\n",
      "Epoch 99/100\n",
      "25/25 [==============================] - 0s 4ms/step - loss: 1.5527 - accuracy: 0.4900\n",
      "Epoch 100/100\n",
      "25/25 [==============================] - 0s 4ms/step - loss: 1.2034 - accuracy: 0.5000\n"
     ]
    }
   ],
   "source": [
    "# Make another model and train it on a train data set\n",
    "# set random seed\n",
    "tf.random.set_seed(42)\n",
    "\n",
    "# 1. Create a model using seqential API\n",
    "model_4 = tf.keras.Sequential([\n",
    "     tf.keras.layers.Dense(6, activation=\"relu\"),\n",
    "     tf.keras.layers.Dense(6, activation=\"sigmoid\"),\n",
    "     tf.keras.layers.Dense(1, activation=\"sigmoid\")\n",
    " ])\n",
    "    \n",
    "model_4.compile(loss=\"binary_crossentropy\",\n",
    "             optimizer=\"Adam\",\n",
    "             metrics=[\"accuracy\"])\n",
    "\n",
    "# Create a  learning rate callback\n",
    "\n",
    "lr_scheduler = tf.keras.callbacks.LearningRateScheduler(lambda epoch: 1e-4 * 10**(epoch/20))\n",
    "\n",
    "history = model_4.fit(X_train, y_train, epochs=100, callbacks=[lr_scheduler])"
   ]
  },
  {
   "cell_type": "code",
   "execution_count": 87,
   "id": "9a7291c8",
   "metadata": {},
   "outputs": [
    {
     "data": {
      "text/plain": [
       "<AxesSubplot:>"
      ]
     },
     "execution_count": 87,
     "metadata": {},
     "output_type": "execute_result"
    },
    {
     "data": {
      "image/png": "[encoded data removed]",
      "text/plain": [
       "<Figure size 720x504 with 1 Axes>"
      ]
     },
     "metadata": {
      "needs_background": "light"
     },
     "output_type": "display_data"
    }
   ],
   "source": [
    "pd.DataFrame(history.history).plot(figsize=(10,7))"
   ]
  },
  {
   "cell_type": "code",
   "execution_count": 88,
   "id": "7860e8a9",
   "metadata": {},
   "outputs": [
    {
     "data": {
      "image/png": "[encoded data removed]",
      "text/plain": [
       "<Figure size 720x504 with 1 Axes>"
      ]
     },
     "metadata": {
      "needs_background": "light"
     },
     "output_type": "display_data"
    }
   ],
   "source": [
    "# PLot the learning rate vs the loss\n",
    "lrs = 1e-4 *(10 ** (tf.range(100)/20))\n",
    "hist_df = pd.DataFrame(history.history)\n",
    "plt.figure(figsize=(10, 7))\n",
    "plt.semilogx(lrs, hist_df.loss)\n",
    "plt.xlabel(\"Learning rate\")\n",
    "plt.title(\"Learning rate vs. Loss\");"
   ]
  },
  {
   "cell_type": "code",
   "execution_count": 72,
   "id": "5c7f654c",
   "metadata": {},
   "outputs": [
    {
     "data": {
      "text/plain": [
       "0     0.706840\n",
       "1     0.706078\n",
       "2     0.705281\n",
       "3     0.704519\n",
       "4     0.703542\n",
       "        ...   \n",
       "95    2.224789\n",
       "96    2.551236\n",
       "97    2.211608\n",
       "98    5.098989\n",
       "99    6.858326\n",
       "Name: loss, Length: 100, dtype: float64"
      ]
     },
     "execution_count": 72,
     "metadata": {},
     "output_type": "execute_result"
    }
   ],
   "source": [
    "hist_df.loss"
   ]
  },
  {
   "cell_type": "code",
   "execution_count": 103,
   "id": "a0fb89e8",
   "metadata": {
    "scrolled": true
   },
   "outputs": [
    {
     "name": "stdout",
     "output_type": "stream",
     "text": [
      "Epoch 1/55\n",
      "25/25 [==============================] - 0s 4ms/step - loss: 0.6969 - accuracy: 0.4913\n",
      "Epoch 2/55\n",
      "25/25 [==============================] - 0s 4ms/step - loss: 0.6919 - accuracy: 0.5163\n",
      "Epoch 3/55\n",
      "25/25 [==============================] - 0s 4ms/step - loss: 0.6889 - accuracy: 0.5387\n",
      "Epoch 4/55\n",
      "25/25 [==============================] - 0s 4ms/step - loss: 0.6880 - accuracy: 0.5800\n",
      "Epoch 5/55\n",
      "25/25 [==============================] - 0s 4ms/step - loss: 0.6849 - accuracy: 0.5263\n",
      "Epoch 6/55\n",
      "25/25 [==============================] - 0s 4ms/step - loss: 0.6816 - accuracy: 0.5575\n",
      "Epoch 7/55\n",
      "25/25 [==============================] - 0s 4ms/step - loss: 0.6786 - accuracy: 0.5763\n",
      "Epoch 8/55\n",
      "25/25 [==============================] - 0s 4ms/step - loss: 0.6757 - accuracy: 0.5738\n",
      "Epoch 9/55\n",
      "25/25 [==============================] - 0s 4ms/step - loss: 0.6744 - accuracy: 0.5775\n",
      "Epoch 10/55\n",
      "25/25 [==============================] - 0s 4ms/step - loss: 0.6702 - accuracy: 0.5825\n",
      "Epoch 11/55\n",
      "25/25 [==============================] - 0s 4ms/step - loss: 0.6661 - accuracy: 0.5750\n",
      "Epoch 12/55\n",
      "25/25 [==============================] - 0s 4ms/step - loss: 0.6617 - accuracy: 0.5975\n",
      "Epoch 13/55\n",
      "25/25 [==============================] - 0s 4ms/step - loss: 0.6561 - accuracy: 0.6187\n",
      "Epoch 14/55\n",
      "25/25 [==============================] - 0s 4ms/step - loss: 0.6484 - accuracy: 0.6388\n",
      "Epoch 15/55\n",
      "25/25 [==============================] - 0s 3ms/step - loss: 0.6389 - accuracy: 0.7050\n",
      "Epoch 16/55\n",
      "25/25 [==============================] - 0s 4ms/step - loss: 0.6274 - accuracy: 0.7075\n",
      "Epoch 17/55\n",
      "25/25 [==============================] - 0s 4ms/step - loss: 0.6136 - accuracy: 0.7788\n",
      "Epoch 18/55\n",
      "25/25 [==============================] - 0s 4ms/step - loss: 0.5995 - accuracy: 0.8125\n",
      "Epoch 19/55\n",
      "25/25 [==============================] - 0s 4ms/step - loss: 0.5817 - accuracy: 0.8138\n",
      "Epoch 20/55\n",
      "25/25 [==============================] - 0s 4ms/step - loss: 0.5620 - accuracy: 0.8625\n",
      "Epoch 21/55\n",
      "25/25 [==============================] - 0s 4ms/step - loss: 0.5391 - accuracy: 0.8662\n",
      "Epoch 22/55\n",
      "25/25 [==============================] - 0s 4ms/step - loss: 0.5129 - accuracy: 0.9100\n",
      "Epoch 23/55\n",
      "25/25 [==============================] - 0s 4ms/step - loss: 0.4883 - accuracy: 0.9275\n",
      "Epoch 24/55\n",
      "25/25 [==============================] - 0s 4ms/step - loss: 0.4591 - accuracy: 0.9463\n",
      "Epoch 25/55\n",
      "25/25 [==============================] - 0s 4ms/step - loss: 0.4298 - accuracy: 0.9613\n",
      "Epoch 26/55\n",
      "25/25 [==============================] - 0s 4ms/step - loss: 0.3974 - accuracy: 0.9675\n",
      "Epoch 27/55\n",
      "25/25 [==============================] - 0s 4ms/step - loss: 0.3667 - accuracy: 0.9900\n",
      "Epoch 28/55\n",
      "25/25 [==============================] - 0s 4ms/step - loss: 0.3346 - accuracy: 0.9912\n",
      "Epoch 29/55\n",
      "25/25 [==============================] - 0s 4ms/step - loss: 0.3047 - accuracy: 0.9862\n",
      "Epoch 30/55\n",
      "25/25 [==============================] - 0s 4ms/step - loss: 0.2777 - accuracy: 0.9962\n",
      "Epoch 31/55\n",
      "25/25 [==============================] - 0s 5ms/step - loss: 0.2530 - accuracy: 0.9937\n",
      "Epoch 32/55\n",
      "25/25 [==============================] - 0s 4ms/step - loss: 0.2329 - accuracy: 0.9887\n",
      "Epoch 33/55\n",
      "25/25 [==============================] - 0s 4ms/step - loss: 0.2097 - accuracy: 0.9975\n",
      "Epoch 34/55\n",
      "25/25 [==============================] - 0s 3ms/step - loss: 0.1911 - accuracy: 0.9975\n",
      "Epoch 35/55\n",
      "25/25 [==============================] - 0s 3ms/step - loss: 0.1754 - accuracy: 0.9975\n",
      "Epoch 36/55\n",
      "25/25 [==============================] - 0s 3ms/step - loss: 0.1612 - accuracy: 0.9975\n",
      "Epoch 37/55\n",
      "25/25 [==============================] - 0s 4ms/step - loss: 0.1479 - accuracy: 0.9987\n",
      "Epoch 38/55\n",
      "25/25 [==============================] - 0s 4ms/step - loss: 0.1366 - accuracy: 0.9987\n",
      "Epoch 39/55\n",
      "25/25 [==============================] - 0s 5ms/step - loss: 0.1265 - accuracy: 0.9975\n",
      "Epoch 40/55\n",
      "25/25 [==============================] - 0s 4ms/step - loss: 0.1208 - accuracy: 0.9987\n",
      "Epoch 41/55\n",
      "25/25 [==============================] - 0s 4ms/step - loss: 0.1093 - accuracy: 1.0000\n",
      "Epoch 42/55\n",
      "25/25 [==============================] - 0s 4ms/step - loss: 0.1020 - accuracy: 1.0000\n",
      "Epoch 43/55\n",
      "25/25 [==============================] - 0s 4ms/step - loss: 0.0949 - accuracy: 1.0000\n",
      "Epoch 44/55\n",
      "25/25 [==============================] - 0s 4ms/step - loss: 0.0892 - accuracy: 0.9987\n",
      "Epoch 45/55\n",
      "25/25 [==============================] - 0s 4ms/step - loss: 0.0833 - accuracy: 1.0000\n",
      "Epoch 46/55\n",
      "25/25 [==============================] - 0s 4ms/step - loss: 0.0784 - accuracy: 1.0000\n",
      "Epoch 47/55\n",
      "25/25 [==============================] - 0s 4ms/step - loss: 0.0738 - accuracy: 1.0000\n",
      "Epoch 48/55\n",
      "25/25 [==============================] - 0s 4ms/step - loss: 0.0701 - accuracy: 1.0000\n",
      "Epoch 49/55\n",
      "25/25 [==============================] - 0s 4ms/step - loss: 0.0657 - accuracy: 0.9987\n",
      "Epoch 50/55\n",
      "25/25 [==============================] - 0s 4ms/step - loss: 0.0628 - accuracy: 1.0000\n",
      "Epoch 51/55\n",
      "25/25 [==============================] - 0s 4ms/step - loss: 0.0600 - accuracy: 1.0000\n",
      "Epoch 52/55\n",
      "25/25 [==============================] - 0s 4ms/step - loss: 0.0569 - accuracy: 0.9987\n",
      "Epoch 53/55\n",
      "25/25 [==============================] - 0s 4ms/step - loss: 0.0543 - accuracy: 1.0000\n",
      "Epoch 54/55\n",
      "25/25 [==============================] - 0s 3ms/step - loss: 0.0517 - accuracy: 1.0000\n",
      "Epoch 55/55\n",
      "25/25 [==============================] - 0s 4ms/step - loss: 0.0492 - accuracy: 1.0000\n"
     ]
    }
   ],
   "source": [
    "# set random seed\n",
    "tf.random.set_seed(42)\n",
    "\n",
    "# 1. Create a model using seqential API\n",
    "model_5 = tf.keras.Sequential([\n",
    "     tf.keras.layers.Dense(6, activation=\"relu\"),\n",
    "     tf.keras.layers.Dense(6, activation=\"sigmoid\"),\n",
    "     tf.keras.layers.Dense(1, activation=\"sigmoid\")\n",
    " ])\n",
    "    \n",
    "model_5.compile(loss=\"binary_crossentropy\",\n",
    "             optimizer=tf.keras.optimizers.Adam(learning_rate=0.006),\n",
    "             metrics=[\"accuracy\"])\n",
    "\n",
    "history = model_5.fit(X_train, y_train, epochs=55)"
   ]
  },
  {
   "cell_type": "code",
   "execution_count": 105,
   "id": "b2529232",
   "metadata": {},
   "outputs": [
    {
     "name": "stdout",
     "output_type": "stream",
     "text": [
      "Doing binary classification\n"
     ]
    },
    {
     "data": {
      "image/png": "[encoded data removed]",
      "text/plain": [
       "<Figure size 432x288 with 1 Axes>"
      ]
     },
     "metadata": {
      "needs_background": "light"
     },
     "output_type": "display_data"
    }
   ],
   "source": [
    "# Check out the predictions our model is making\n",
    "plot_decision_boundary(model=model_5,\n",
    "                      X=X_test,\n",
    "                      y=y_test)"
   ]
  },
  {
   "cell_type": "code",
   "execution_count": 104,
   "id": "80fa7140",
   "metadata": {},
   "outputs": [
    {
     "name": "stdout",
     "output_type": "stream",
     "text": [
      "7/7 [==============================] - 0s 3ms/step - loss: 0.0702 - accuracy: 1.0000\n"
     ]
    },
    {
     "data": {
      "text/plain": [
       "[0.07020769268274307, 1.0]"
      ]
     },
     "execution_count": 104,
     "metadata": {},
     "output_type": "execute_result"
    }
   ],
   "source": [
    "model_5.evaluate(X_test, y_test)"
   ]
  },
  {
   "cell_type": "markdown",
   "id": "4a6e73bc",
   "metadata": {},
   "source": [
    "## CLassification evaluation results\n",
    "\n",
    "* Accuracy\n",
    "* Precision\n",
    "* Recall\n",
    "* F1-score\n",
    "* Confusion matrix\n",
    "* CLassification report"
   ]
  },
  {
   "cell_type": "code",
   "execution_count": 108,
   "id": "e86533d4",
   "metadata": {},
   "outputs": [
    {
     "name": "stdout",
     "output_type": "stream",
     "text": [
      "7/7 [==============================] - 0s 3ms/step - loss: 0.0702 - accuracy: 1.0000\n"
     ]
    }
   ],
   "source": [
    "# Check the accuracy of our model, and make preds\n",
    "y_preds = model_5.predict(X_test)\n",
    "loss, accuracy = model_5.evaluate(X_test, y_test)"
   ]
  },
  {
   "cell_type": "markdown",
   "id": "bf5a2567",
   "metadata": {},
   "source": [
    "Confusion matrix"
   ]
  },
  {
   "cell_type": "code",
   "execution_count": 109,
   "id": "bf0d7b9b",
   "metadata": {
    "scrolled": true
   },
   "outputs": [
    {
     "data": {
      "text/plain": [
       "array([[0.99604344],\n",
       "       [0.05177023],\n",
       "       [0.99230677],\n",
       "       [0.01206905],\n",
       "       [0.84407955],\n",
       "       [0.91895086],\n",
       "       [0.03016664],\n",
       "       [0.01762038],\n",
       "       [0.97568715],\n",
       "       [0.04049525],\n",
       "       [0.39399174],\n",
       "       [0.9928905 ],\n",
       "       [0.00699343],\n",
       "       [0.9241245 ],\n",
       "       [0.29711258],\n",
       "       [0.9934503 ],\n",
       "       [0.98147297],\n",
       "       [0.01818541],\n",
       "       [0.9928785 ],\n",
       "       [0.04014811],\n",
       "       [0.02289088],\n",
       "       [0.01005844],\n",
       "       [0.978143  ],\n",
       "       [0.0046359 ],\n",
       "       [0.03598233],\n",
       "       [0.09289294],\n",
       "       [0.05587485],\n",
       "       [0.05225936],\n",
       "       [0.05363315],\n",
       "       [0.99621457],\n",
       "       [0.99281377],\n",
       "       [0.02115156],\n",
       "       [0.19587019],\n",
       "       [0.9734996 ],\n",
       "       [0.02638122],\n",
       "       [0.99042624],\n",
       "       [0.6265654 ],\n",
       "       [0.943029  ],\n",
       "       [0.91158694],\n",
       "       [0.9776919 ],\n",
       "       [0.9332673 ],\n",
       "       [0.90786624],\n",
       "       [0.9906115 ],\n",
       "       [0.01566474],\n",
       "       [0.03207301],\n",
       "       [0.9873749 ],\n",
       "       [0.07886999],\n",
       "       [0.00774286],\n",
       "       [0.99719834],\n",
       "       [0.9646823 ],\n",
       "       [0.01997481],\n",
       "       [0.01362982],\n",
       "       [0.09009802],\n",
       "       [0.02262639],\n",
       "       [0.9981559 ],\n",
       "       [0.15300126],\n",
       "       [0.9904389 ],\n",
       "       [0.8005725 ],\n",
       "       [0.8624169 ],\n",
       "       [0.04906642],\n",
       "       [0.98522806],\n",
       "       [0.06134402],\n",
       "       [0.13227992],\n",
       "       [0.96614474],\n",
       "       [0.9890276 ],\n",
       "       [0.9476896 ],\n",
       "       [0.98443663],\n",
       "       [0.02361459],\n",
       "       [0.05456619],\n",
       "       [0.12363962],\n",
       "       [0.9380169 ],\n",
       "       [0.01268104],\n",
       "       [0.0390901 ],\n",
       "       [0.95841753],\n",
       "       [0.9440268 ],\n",
       "       [0.9734231 ],\n",
       "       [0.98492754],\n",
       "       [0.06789618],\n",
       "       [0.01483028],\n",
       "       [0.71741873],\n",
       "       [0.01950312],\n",
       "       [0.99742436],\n",
       "       [0.22347856],\n",
       "       [0.94474393],\n",
       "       [0.8940658 ],\n",
       "       [0.9254268 ],\n",
       "       [0.01471932],\n",
       "       [0.04134234],\n",
       "       [0.099948  ],\n",
       "       [0.00852233],\n",
       "       [0.79980725],\n",
       "       [0.9802495 ],\n",
       "       [0.9947339 ],\n",
       "       [0.97130954],\n",
       "       [0.8086193 ],\n",
       "       [0.00569949],\n",
       "       [0.9958514 ],\n",
       "       [0.7522718 ],\n",
       "       [0.00477112],\n",
       "       [0.9876309 ],\n",
       "       [0.00780104],\n",
       "       [0.02302906],\n",
       "       [0.9810228 ],\n",
       "       [0.992558  ],\n",
       "       [0.03388527],\n",
       "       [0.19411877],\n",
       "       [0.9499185 ],\n",
       "       [0.02556603],\n",
       "       [0.04974059],\n",
       "       [0.9915733 ],\n",
       "       [0.98992914],\n",
       "       [0.9950948 ],\n",
       "       [0.03444804],\n",
       "       [0.9688195 ],\n",
       "       [0.78243023],\n",
       "       [0.12360888],\n",
       "       [0.97608554],\n",
       "       [0.00581028],\n",
       "       [0.9423091 ],\n",
       "       [0.04741069],\n",
       "       [0.9657028 ],\n",
       "       [0.13114047],\n",
       "       [0.09615042],\n",
       "       [0.7245087 ],\n",
       "       [0.60736877],\n",
       "       [0.03847491],\n",
       "       [0.9946867 ],\n",
       "       [0.970317  ],\n",
       "       [0.05951374],\n",
       "       [0.9847551 ],\n",
       "       [0.7037271 ],\n",
       "       [0.07750186],\n",
       "       [0.9601134 ],\n",
       "       [0.05462031],\n",
       "       [0.04568587],\n",
       "       [0.05974194],\n",
       "       [0.9865781 ],\n",
       "       [0.03582324],\n",
       "       [0.13313976],\n",
       "       [0.9864586 ],\n",
       "       [0.00679944],\n",
       "       [0.01249214],\n",
       "       [0.01691358],\n",
       "       [0.994146  ],\n",
       "       [0.00593534],\n",
       "       [0.2094681 ],\n",
       "       [0.9963038 ],\n",
       "       [0.0098949 ],\n",
       "       [0.95569676],\n",
       "       [0.01840887],\n",
       "       [0.9207325 ],\n",
       "       [0.04918974],\n",
       "       [0.92729735],\n",
       "       [0.15274885],\n",
       "       [0.9890498 ],\n",
       "       [0.99502534],\n",
       "       [0.9595948 ],\n",
       "       [0.01335436],\n",
       "       [0.03416411],\n",
       "       [0.6214343 ],\n",
       "       [0.03171905],\n",
       "       [0.98889166],\n",
       "       [0.92726773],\n",
       "       [0.22956525],\n",
       "       [0.9397481 ],\n",
       "       [0.07249726],\n",
       "       [0.09670243],\n",
       "       [0.07256977],\n",
       "       [0.3145898 ],\n",
       "       [0.9739983 ],\n",
       "       [0.8862422 ],\n",
       "       [0.93878496],\n",
       "       [0.99400604],\n",
       "       [0.29466283],\n",
       "       [0.02716881],\n",
       "       [0.12101696],\n",
       "       [0.04221705],\n",
       "       [0.08743709],\n",
       "       [0.9606052 ],\n",
       "       [0.00616275],\n",
       "       [0.03992163],\n",
       "       [0.8964112 ],\n",
       "       [0.01401213],\n",
       "       [0.9777269 ],\n",
       "       [0.9123424 ],\n",
       "       [0.00801349],\n",
       "       [0.00719175],\n",
       "       [0.10981289],\n",
       "       [0.9787988 ],\n",
       "       [0.9609941 ],\n",
       "       [0.04032467],\n",
       "       [0.99152195],\n",
       "       [0.8879064 ],\n",
       "       [0.016074  ],\n",
       "       [0.9743312 ],\n",
       "       [0.13950011],\n",
       "       [0.9743112 ],\n",
       "       [0.05845607],\n",
       "       [0.97702324],\n",
       "       [0.957637  ]], dtype=float32)"
      ]
     },
     "execution_count": 109,
     "metadata": {},
     "output_type": "execute_result"
    }
   ],
   "source": [
    "y_preds"
   ]
  },
  {
   "cell_type": "markdown",
   "id": "ce574778",
   "metadata": {},
   "source": [
    "We have to convert predictions to binary form."
   ]
  },
  {
   "cell_type": "code",
   "execution_count": 113,
   "id": "d8c2b0ee",
   "metadata": {},
   "outputs": [],
   "source": [
    "y_bin = np.round(y_preds, decimals=0).astype(\"int32\")"
   ]
  },
  {
   "cell_type": "code",
   "execution_count": 115,
   "id": "88728821",
   "metadata": {},
   "outputs": [],
   "source": [
    "from sklearn.metrics import confusion_matrix\n",
    "conf_mat = pd.DataFrame(confusion_matrix(y_test, y_bin))"
   ]
  },
  {
   "cell_type": "code",
   "execution_count": 116,
   "id": "1fb7f336",
   "metadata": {},
   "outputs": [
    {
     "data": {
      "text/html": [
       "<div>\n",
       "<style scoped>\n",
       "    .dataframe tbody tr th:only-of-type {\n",
       "        vertical-align: middle;\n",
       "    }\n",
       "\n",
       "    .dataframe tbody tr th {\n",
       "        vertical-align: top;\n",
       "    }\n",
       "\n",
       "    .dataframe thead th {\n",
       "        text-align: right;\n",
       "    }\n",
       "</style>\n",
       "<table border=\"1\" class=\"dataframe\">\n",
       "  <thead>\n",
       "    <tr style=\"text-align: right;\">\n",
       "      <th></th>\n",
       "      <th>0</th>\n",
       "      <th>1</th>\n",
       "    </tr>\n",
       "  </thead>\n",
       "  <tbody>\n",
       "    <tr>\n",
       "      <th>0</th>\n",
       "      <td>100</td>\n",
       "      <td>0</td>\n",
       "    </tr>\n",
       "    <tr>\n",
       "      <th>1</th>\n",
       "      <td>0</td>\n",
       "      <td>100</td>\n",
       "    </tr>\n",
       "  </tbody>\n",
       "</table>\n",
       "</div>"
      ],
      "text/plain": [
       "     0    1\n",
       "0  100    0\n",
       "1    0  100"
      ]
     },
     "execution_count": 116,
     "metadata": {},
     "output_type": "execute_result"
    }
   ],
   "source": [
    "conf_mat"
   ]
  },
  {
   "cell_type": "code",
   "execution_count": 118,
   "id": "1c821ff4",
   "metadata": {},
   "outputs": [],
   "source": [
    "import itertools\n",
    "\n",
    "def make_conf_matrix(y_true, y_pred, classes=None, figsize=(10,10), text_size = 15):\n",
    "    from sklearn.metrics import confusion_matrix\n",
    "    # Create the confusion matrix\n",
    "    cm = confusion_matrix(y_true, y_pred)\n",
    "    cm_norm = cm.astype(\"float\") / cm.sum(axis=1)[:, np.newaxis]\n",
    "    n_classes = cm.shape[0]\n",
    "    # Let's prettify it\n",
    "    fig, ax = plt.subplots(figsize=figsize)\n",
    "    # Create a matrix plot\n",
    "    cax = ax.matshow(cm, cmap=plt.cm.Blues)\n",
    "    fig.colorbar(cax)\n",
    "\n",
    "   \n",
    "    if classes:\n",
    "        labels = classes\n",
    "    else:\n",
    "        labels = np.arange(cm.shape[0])\n",
    "\n",
    "    # Label the axes\n",
    "    ax.set(title=\"Confusion matrix\",\n",
    "           xlabel=\"Predicted Labels\",\n",
    "           ylabel=\"True Label\",\n",
    "           xticks=np.arange(n_classes),\n",
    "           yticks=np.arange(n_classes),\n",
    "           xticklabels=labels,\n",
    "           yticklabels=labels\n",
    "    );\n",
    "\n",
    "    # Set x-axis labels to bottom\n",
    "    ax.xaxis.set_label_position(\"bottom\")\n",
    "    ax.xaxis.tick_bottom()\n",
    "\n",
    "    # Adjust labels size\n",
    "    ax.yaxis.label.set_size(text_size + 10)\n",
    "    ax.xaxis.label.set_size(text_size + 10)\n",
    "    ax.title.set_size(text_size+10)\n",
    "\n",
    "    # Change labels color\n",
    "    ax.xaxis.label.set_color(\"whitesmoke\")\n",
    "    ax.yaxis.label.set_color(\"whitesmoke\")\n",
    "\n",
    "\n",
    "    # Set threshold for different colors\n",
    "    threshold = (cm.max() + cm.min()) /2\n",
    "\n",
    "    # PLot the text on each cell\n",
    "\n",
    "    for i, j in itertools.product(range(cm.shape[0]), range(cm.shape[1])):\n",
    "        plt.text(j, i, f\"{cm[i, j]} ({cm_norm[i, j]*100:.1f}%)\",\n",
    "                horizontalalignment=\"center\",\n",
    "                color=\"white\" if cm[i,j] > threshold else \"black\",\n",
    "                size=text_size)\n"
   ]
  },
  {
   "cell_type": "markdown",
   "id": "76b75827",
   "metadata": {},
   "source": [
    "## Wotking with a larger example (multiclass classification)"
   ]
  },
  {
   "cell_type": "code",
   "execution_count": 41,
   "id": "82db99fa",
   "metadata": {},
   "outputs": [],
   "source": [
    "import tensorflow as tf\n",
    "from tensorflow.keras.datasets import fashion_mnist\n",
    "\n",
    "# The data has already beed stored into training and test sets\n",
    "(X_train, y_train), (X_test, y_test) = fashion_mnist.load_data()"
   ]
  },
  {
   "cell_type": "code",
   "execution_count": null,
   "id": "e1d40b75",
   "metadata": {},
   "outputs": [],
   "source": []
  },
  {
   "cell_type": "code",
   "execution_count": 42,
   "id": "43b2ec56",
   "metadata": {
    "scrolled": true
   },
   "outputs": [
    {
     "data": {
      "text/plain": [
       "array([[  0,   0,   0,   0,   0,   0,   0,   0,   0,   0,   0,   0,   0,\n",
       "          0,   0,   0,   0,   0,   0,   0,   0,   0,   0,   0,   0,   0,\n",
       "          0,   0],\n",
       "       [  0,   0,   0,   0,   0,   0,   0,   0,   0,   0,   0,   0,   0,\n",
       "          0,   0,   0,   0,   0,   0,   0,   0,   0,   0,   0,   0,   0,\n",
       "          0,   0],\n",
       "       [  0,   0,   0,   0,   0,   0,   0,   0,   0,   0,   0,   0,   0,\n",
       "          0,   0,   0,   0,   0,   0,   0,   0,   0,   0,   0,   0,   0,\n",
       "          0,   0],\n",
       "       [  0,   0,   0,   0,   0,   0,   0,   0,   0,   0,   0,   0,   1,\n",
       "          0,   0,  13,  73,   0,   0,   1,   4,   0,   0,   0,   0,   1,\n",
       "          1,   0],\n",
       "       [  0,   0,   0,   0,   0,   0,   0,   0,   0,   0,   0,   0,   3,\n",
       "          0,  36, 136, 127,  62,  54,   0,   0,   0,   1,   3,   4,   0,\n",
       "          0,   3],\n",
       "       [  0,   0,   0,   0,   0,   0,   0,   0,   0,   0,   0,   0,   6,\n",
       "          0, 102, 204, 176, 134, 144, 123,  23,   0,   0,   0,   0,  12,\n",
       "         10,   0],\n",
       "       [  0,   0,   0,   0,   0,   0,   0,   0,   0,   0,   0,   0,   0,\n",
       "          0, 155, 236, 207, 178, 107, 156, 161, 109,  64,  23,  77, 130,\n",
       "         72,  15],\n",
       "       [  0,   0,   0,   0,   0,   0,   0,   0,   0,   0,   0,   1,   0,\n",
       "         69, 207, 223, 218, 216, 216, 163, 127, 121, 122, 146, 141,  88,\n",
       "        172,  66],\n",
       "       [  0,   0,   0,   0,   0,   0,   0,   0,   0,   1,   1,   1,   0,\n",
       "        200, 232, 232, 233, 229, 223, 223, 215, 213, 164, 127, 123, 196,\n",
       "        229,   0],\n",
       "       [  0,   0,   0,   0,   0,   0,   0,   0,   0,   0,   0,   0,   0,\n",
       "        183, 225, 216, 223, 228, 235, 227, 224, 222, 224, 221, 223, 245,\n",
       "        173,   0],\n",
       "       [  0,   0,   0,   0,   0,   0,   0,   0,   0,   0,   0,   0,   0,\n",
       "        193, 228, 218, 213, 198, 180, 212, 210, 211, 213, 223, 220, 243,\n",
       "        202,   0],\n",
       "       [  0,   0,   0,   0,   0,   0,   0,   0,   0,   1,   3,   0,  12,\n",
       "        219, 220, 212, 218, 192, 169, 227, 208, 218, 224, 212, 226, 197,\n",
       "        209,  52],\n",
       "       [  0,   0,   0,   0,   0,   0,   0,   0,   0,   0,   6,   0,  99,\n",
       "        244, 222, 220, 218, 203, 198, 221, 215, 213, 222, 220, 245, 119,\n",
       "        167,  56],\n",
       "       [  0,   0,   0,   0,   0,   0,   0,   0,   0,   4,   0,   0,  55,\n",
       "        236, 228, 230, 228, 240, 232, 213, 218, 223, 234, 217, 217, 209,\n",
       "         92,   0],\n",
       "       [  0,   0,   1,   4,   6,   7,   2,   0,   0,   0,   0,   0, 237,\n",
       "        226, 217, 223, 222, 219, 222, 221, 216, 223, 229, 215, 218, 255,\n",
       "         77,   0],\n",
       "       [  0,   3,   0,   0,   0,   0,   0,   0,   0,  62, 145, 204, 228,\n",
       "        207, 213, 221, 218, 208, 211, 218, 224, 223, 219, 215, 224, 244,\n",
       "        159,   0],\n",
       "       [  0,   0,   0,   0,  18,  44,  82, 107, 189, 228, 220, 222, 217,\n",
       "        226, 200, 205, 211, 230, 224, 234, 176, 188, 250, 248, 233, 238,\n",
       "        215,   0],\n",
       "       [  0,  57, 187, 208, 224, 221, 224, 208, 204, 214, 208, 209, 200,\n",
       "        159, 245, 193, 206, 223, 255, 255, 221, 234, 221, 211, 220, 232,\n",
       "        246,   0],\n",
       "       [  3, 202, 228, 224, 221, 211, 211, 214, 205, 205, 205, 220, 240,\n",
       "         80, 150, 255, 229, 221, 188, 154, 191, 210, 204, 209, 222, 228,\n",
       "        225,   0],\n",
       "       [ 98, 233, 198, 210, 222, 229, 229, 234, 249, 220, 194, 215, 217,\n",
       "        241,  65,  73, 106, 117, 168, 219, 221, 215, 217, 223, 223, 224,\n",
       "        229,  29],\n",
       "       [ 75, 204, 212, 204, 193, 205, 211, 225, 216, 185, 197, 206, 198,\n",
       "        213, 240, 195, 227, 245, 239, 223, 218, 212, 209, 222, 220, 221,\n",
       "        230,  67],\n",
       "       [ 48, 203, 183, 194, 213, 197, 185, 190, 194, 192, 202, 214, 219,\n",
       "        221, 220, 236, 225, 216, 199, 206, 186, 181, 177, 172, 181, 205,\n",
       "        206, 115],\n",
       "       [  0, 122, 219, 193, 179, 171, 183, 196, 204, 210, 213, 207, 211,\n",
       "        210, 200, 196, 194, 191, 195, 191, 198, 192, 176, 156, 167, 177,\n",
       "        210,  92],\n",
       "       [  0,   0,  74, 189, 212, 191, 175, 172, 175, 181, 185, 188, 189,\n",
       "        188, 193, 198, 204, 209, 210, 210, 211, 188, 188, 194, 192, 216,\n",
       "        170,   0],\n",
       "       [  2,   0,   0,   0,  66, 200, 222, 237, 239, 242, 246, 243, 244,\n",
       "        221, 220, 193, 191, 179, 182, 182, 181, 176, 166, 168,  99,  58,\n",
       "          0,   0],\n",
       "       [  0,   0,   0,   0,   0,   0,   0,  40,  61,  44,  72,  41,  35,\n",
       "          0,   0,   0,   0,   0,   0,   0,   0,   0,   0,   0,   0,   0,\n",
       "          0,   0],\n",
       "       [  0,   0,   0,   0,   0,   0,   0,   0,   0,   0,   0,   0,   0,\n",
       "          0,   0,   0,   0,   0,   0,   0,   0,   0,   0,   0,   0,   0,\n",
       "          0,   0],\n",
       "       [  0,   0,   0,   0,   0,   0,   0,   0,   0,   0,   0,   0,   0,\n",
       "          0,   0,   0,   0,   0,   0,   0,   0,   0,   0,   0,   0,   0,\n",
       "          0,   0]], dtype=uint8)"
      ]
     },
     "execution_count": 42,
     "metadata": {},
     "output_type": "execute_result"
    }
   ],
   "source": [
    "# show the first training example\n",
    "X_train[0]"
   ]
  },
  {
   "cell_type": "code",
   "execution_count": 43,
   "id": "952049d0",
   "metadata": {},
   "outputs": [
    {
     "data": {
      "text/plain": [
       "(28, 28)"
      ]
     },
     "execution_count": 43,
     "metadata": {},
     "output_type": "execute_result"
    }
   ],
   "source": [
    "# Check the shape of single example\n",
    "X_train[0].shape"
   ]
  },
  {
   "cell_type": "code",
   "execution_count": 44,
   "id": "c5cc63ce",
   "metadata": {},
   "outputs": [
    {
     "data": {
      "image/png": "[encoded data removed]",
      "text/plain": [
       "<Figure size 432x288 with 1 Axes>"
      ]
     },
     "metadata": {
      "needs_background": "light"
     },
     "output_type": "display_data"
    }
   ],
   "source": [
    "# Plot a single sample\n",
    "import matplotlib.pyplot as plt\n",
    "%matplotlib inline\n",
    "plt.imshow(X_train[0], cmap='gray', vmin=0, vmax=255);"
   ]
  },
  {
   "cell_type": "code",
   "execution_count": 45,
   "id": "c805377f",
   "metadata": {},
   "outputs": [
    {
     "data": {
      "text/plain": [
       "9"
      ]
     },
     "execution_count": 45,
     "metadata": {},
     "output_type": "execute_result"
    }
   ],
   "source": [
    "# Check out samples label\n",
    "y_train[0]"
   ]
  },
  {
   "cell_type": "code",
   "execution_count": 46,
   "id": "94e1b999",
   "metadata": {},
   "outputs": [],
   "source": [
    "# Create a small list with labels as strings in human readable form\n",
    "labels = [\"T-shirt/top\", \"Trouser\", \"Pullover\",\n",
    "          \"Dress\", \"Coat\", \"Sandal\", \"Shirt\",\n",
    "          \"Sneaker\", \"Bag\", \"Ankle boot\"]"
   ]
  },
  {
   "cell_type": "code",
   "execution_count": 47,
   "id": "e703464d",
   "metadata": {},
   "outputs": [
    {
     "data": {
      "image/png": "[encoded data removed]",
      "text/plain": [
       "<Figure size 432x288 with 1 Axes>"
      ]
     },
     "metadata": {
      "needs_background": "light"
     },
     "output_type": "display_data"
    }
   ],
   "source": [
    "# Now plot image with title\n",
    "index = 6\n",
    "plt.imshow(X_train[index], cmap=plt.cm.binary)\n",
    "plt.title(labels[y_train[index]]);"
   ]
  },
  {
   "cell_type": "code",
   "execution_count": 48,
   "id": "a8761d37",
   "metadata": {},
   "outputs": [
    {
     "data": {
      "image/png": "[encoded data removed]",
      "text/plain": [
       "<Figure size 504x504 with 4 Axes>"
      ]
     },
     "metadata": {
      "needs_background": "light"
     },
     "output_type": "display_data"
    }
   ],
   "source": [
    "# PLot multiple random images\n",
    "import random\n",
    "\n",
    "plt.figure(figsize=(7,7))\n",
    "for i in range(4):\n",
    "    ax = plt.subplot(2,2, i+1)\n",
    "    rand_idx = random.choice(range(len(X_train)))\n",
    "    plt.imshow(X_train[rand_idx], cmap=plt.cm.binary)\n",
    "    plt.title(labels[y_train[rand_idx]])\n",
    "    plt.axis(False)\n",
    "    "
   ]
  },
  {
   "cell_type": "markdown",
   "id": "946f635e",
   "metadata": {},
   "source": [
    "## Building bulticlass classification model"
   ]
  },
  {
   "cell_type": "code",
   "execution_count": 60,
   "id": "e39d3930",
   "metadata": {},
   "outputs": [],
   "source": [
    "# Define input, output shapes and loss\n",
    "input_shape = X_train[0].shape\n",
    "output_shape = 10\n",
    "loss = tf.keras.losses.SparseCategoricalCrossentropy() # CategoricalCrossentropy() expexts one hot encoded labels"
   ]
  },
  {
   "cell_type": "code",
   "execution_count": 49,
   "id": "2f26d8fe",
   "metadata": {},
   "outputs": [
    {
     "name": "stdout",
     "output_type": "stream",
     "text": [
      "Epoch 1/10\n",
      "1875/1875 [==============================] - 8s 4ms/step - loss: 2.1806 - accuracy: 0.1593 - val_loss: 1.8164 - val_accuracy: 0.2065\n",
      "Epoch 2/10\n",
      "1875/1875 [==============================] - 8s 4ms/step - loss: 1.7143 - accuracy: 0.2436 - val_loss: 1.6538 - val_accuracy: 0.2836\n",
      "Epoch 3/10\n",
      "1875/1875 [==============================] - 7s 4ms/step - loss: 1.6341 - accuracy: 0.2814 - val_loss: 1.6034 - val_accuracy: 0.2793\n",
      "Epoch 4/10\n",
      "1875/1875 [==============================] - 7s 4ms/step - loss: 1.6040 - accuracy: 0.2860 - val_loss: 1.6026 - val_accuracy: 0.2978\n",
      "Epoch 5/10\n",
      "1875/1875 [==============================] - 7s 4ms/step - loss: 1.5899 - accuracy: 0.3003 - val_loss: 1.5707 - val_accuracy: 0.3190\n",
      "Epoch 6/10\n",
      "1875/1875 [==============================] - 8s 4ms/step - loss: 1.5416 - accuracy: 0.3411 - val_loss: 1.5048 - val_accuracy: 0.3583\n",
      "Epoch 7/10\n",
      "1875/1875 [==============================] - 8s 4ms/step - loss: 1.5055 - accuracy: 0.3580 - val_loss: 1.4832 - val_accuracy: 0.3653\n",
      "Epoch 8/10\n",
      "1875/1875 [==============================] - 7s 4ms/step - loss: 1.3747 - accuracy: 0.4225 - val_loss: 1.3852 - val_accuracy: 0.4409\n",
      "Epoch 9/10\n",
      "1875/1875 [==============================] - 8s 4ms/step - loss: 1.2927 - accuracy: 0.4496 - val_loss: 1.2593 - val_accuracy: 0.4561\n",
      "Epoch 10/10\n",
      "1875/1875 [==============================] - 8s 4ms/step - loss: 1.1701 - accuracy: 0.5077 - val_loss: 1.1158 - val_accuracy: 0.5447\n"
     ]
    }
   ],
   "source": [
    "\n",
    "# set random state\n",
    "tf.random.set_seed(42)\n",
    "\n",
    "# create a model\n",
    "model_1 = tf.keras.Sequential([\n",
    "    tf.keras.layers.Flatten(), # Need to flatten images from 28x28 matrix to vector\n",
    "    tf.keras.layers.Dense(4, activation=\"relu\"),\n",
    "    tf.keras.layers.Dense(4, activation=\"relu\"),\n",
    "    tf.keras.layers.Dense(output_shape, activation=\"softmax\"),\n",
    "])\n",
    "\n",
    "# Compile the model\n",
    "model_1.compile(loss=loss,\n",
    "               optimizer=\"adam\",\n",
    "               metrics=[\"accuracy\"])\n",
    "\n",
    "# Fit the model\n",
    "history_1 = model_1.fit(X_train, y_train,\n",
    "                        epochs=10,\n",
    "                        validation_data=(X_test, y_test))"
   ]
  },
  {
   "cell_type": "code",
   "execution_count": 50,
   "id": "2a4db6a2",
   "metadata": {},
   "outputs": [],
   "source": [
    "# One hot encoding labels\n",
    "y_train_onehot = tf.one_hot(y_train, depth=output_shape)\n",
    "y_test_onehot = tf.one_hot(y_test, depth=output_shape)"
   ]
  },
  {
   "cell_type": "code",
   "execution_count": 51,
   "id": "a3e662be",
   "metadata": {},
   "outputs": [
    {
     "name": "stdout",
     "output_type": "stream",
     "text": [
      "Epoch 1/10\n",
      "1875/1875 [==============================] - 8s 4ms/step - loss: 2.1806 - accuracy: 0.1593 - val_loss: 1.8164 - val_accuracy: 0.2065\n",
      "Epoch 2/10\n",
      "1875/1875 [==============================] - 8s 4ms/step - loss: 1.7143 - accuracy: 0.2436 - val_loss: 1.6538 - val_accuracy: 0.2836\n",
      "Epoch 3/10\n",
      "1875/1875 [==============================] - 7s 4ms/step - loss: 1.6341 - accuracy: 0.2814 - val_loss: 1.6034 - val_accuracy: 0.2793\n",
      "Epoch 4/10\n",
      "1875/1875 [==============================] - 7s 4ms/step - loss: 1.6040 - accuracy: 0.2860 - val_loss: 1.6026 - val_accuracy: 0.2978\n",
      "Epoch 5/10\n",
      "1875/1875 [==============================] - 8s 4ms/step - loss: 1.5899 - accuracy: 0.3003 - val_loss: 1.5707 - val_accuracy: 0.3190\n",
      "Epoch 6/10\n",
      "1875/1875 [==============================] - 8s 4ms/step - loss: 1.5416 - accuracy: 0.3411 - val_loss: 1.5048 - val_accuracy: 0.3583\n",
      "Epoch 7/10\n",
      "1875/1875 [==============================] - 8s 4ms/step - loss: 1.5055 - accuracy: 0.3580 - val_loss: 1.4832 - val_accuracy: 0.3653\n",
      "Epoch 8/10\n",
      "1875/1875 [==============================] - 8s 4ms/step - loss: 1.3747 - accuracy: 0.4225 - val_loss: 1.3852 - val_accuracy: 0.4409\n",
      "Epoch 9/10\n",
      "1875/1875 [==============================] - 7s 4ms/step - loss: 1.2927 - accuracy: 0.4496 - val_loss: 1.2593 - val_accuracy: 0.4561\n",
      "Epoch 10/10\n",
      "1875/1875 [==============================] - 8s 4ms/step - loss: 1.1701 - accuracy: 0.5077 - val_loss: 1.1158 - val_accuracy: 0.5447\n"
     ]
    }
   ],
   "source": [
    "# Trying the same model on one hot encode labels to check for improvement\n",
    "# set random state\n",
    "tf.random.set_seed(42)\n",
    "\n",
    "# create a model\n",
    "model_2 = tf.keras.Sequential([\n",
    "    tf.keras.layers.Flatten(), # Need to flatten images from 28x28 matrix to vector\n",
    "    tf.keras.layers.Dense(4, activation=\"relu\"),\n",
    "    tf.keras.layers.Dense(4, activation=\"relu\"),\n",
    "    tf.keras.layers.Dense(output_shape, activation=\"softmax\"),\n",
    "])\n",
    "\n",
    "# Compile the model\n",
    "model_2.compile(loss=loss,\n",
    "               optimizer=\"adam\",\n",
    "               metrics=[\"accuracy\"])\n",
    "\n",
    "# Fit the model\n",
    "history_2 = model_2.fit(X_train, y_train_onehot,\n",
    "                        epochs=10,\n",
    "                        validation_data=(X_test, y_test_onehot))"
   ]
  },
  {
   "cell_type": "code",
   "execution_count": 52,
   "id": "f5893bd9",
   "metadata": {},
   "outputs": [
    {
     "data": {
      "text/plain": [
       "(0, 255)"
      ]
     },
     "execution_count": 52,
     "metadata": {},
     "output_type": "execute_result"
    }
   ],
   "source": [
    "# Check the min and max values of the training data\n",
    "X_train.min(), X_train.max()"
   ]
  },
  {
   "cell_type": "code",
   "execution_count": 53,
   "id": "79a531c7",
   "metadata": {},
   "outputs": [],
   "source": [
    "# Let's normalize it to numbers between 0 and 1. NNs like input in that format.\n",
    "# It can be achieved by dividing all numbers by the maximum\n",
    "X_train = X_train/X_train.max()\n",
    "X_test = X_test/X_test.max()"
   ]
  },
  {
   "cell_type": "code",
   "execution_count": 54,
   "id": "52929a03",
   "metadata": {},
   "outputs": [],
   "source": []
  },
  {
   "cell_type": "code",
   "execution_count": 55,
   "id": "c78456f2",
   "metadata": {},
   "outputs": [
    {
     "name": "stdout",
     "output_type": "stream",
     "text": [
      "Epoch 1/10\n",
      "1875/1875 [==============================] - 8s 4ms/step - loss: 1.0348 - accuracy: 0.6474 - val_loss: 0.6937 - val_accuracy: 0.7617\n",
      "Epoch 2/10\n",
      "1875/1875 [==============================] - 7s 4ms/step - loss: 0.6376 - accuracy: 0.7757 - val_loss: 0.6400 - val_accuracy: 0.7820\n",
      "Epoch 3/10\n",
      "1875/1875 [==============================] - 8s 4ms/step - loss: 0.5942 - accuracy: 0.7914 - val_loss: 0.6247 - val_accuracy: 0.7783\n",
      "Epoch 4/10\n",
      "1875/1875 [==============================] - 8s 4ms/step - loss: 0.5750 - accuracy: 0.7979 - val_loss: 0.6078 - val_accuracy: 0.7881\n",
      "Epoch 5/10\n",
      "1875/1875 [==============================] - 7s 4ms/step - loss: 0.5641 - accuracy: 0.8006 - val_loss: 0.6169 - val_accuracy: 0.7881\n",
      "Epoch 6/10\n",
      "1875/1875 [==============================] - 7s 4ms/step - loss: 0.5544 - accuracy: 0.8043 - val_loss: 0.5855 - val_accuracy: 0.7951\n",
      "Epoch 7/10\n",
      "1875/1875 [==============================] - 7s 4ms/step - loss: 0.5488 - accuracy: 0.8063 - val_loss: 0.6097 - val_accuracy: 0.7836\n",
      "Epoch 8/10\n",
      "1875/1875 [==============================] - 7s 4ms/step - loss: 0.5428 - accuracy: 0.8077 - val_loss: 0.5787 - val_accuracy: 0.7971\n",
      "Epoch 9/10\n",
      "1875/1875 [==============================] - 7s 4ms/step - loss: 0.5373 - accuracy: 0.8097 - val_loss: 0.5698 - val_accuracy: 0.7977\n",
      "Epoch 10/10\n",
      "1875/1875 [==============================] - 7s 4ms/step - loss: 0.5360 - accuracy: 0.8124 - val_loss: 0.5658 - val_accuracy: 0.8014\n"
     ]
    }
   ],
   "source": [
    "# Train model on normalized data sets, no hot-encoded labels since those are not giving any better results.\n",
    "# set random state\n",
    "tf.random.set_seed(42)\n",
    "\n",
    "# create a model\n",
    "model_3 = tf.keras.Sequential([\n",
    "    tf.keras.layers.Flatten(), # Need to flatten images from 28x28 matrix to vector\n",
    "    tf.keras.layers.Dense(4, activation=\"relu\"),\n",
    "    tf.keras.layers.Dense(4, activation=\"relu\"),\n",
    "    tf.keras.layers.Dense(output_shape, activation=\"softmax\"),\n",
    "])\n",
    "\n",
    "# Compile the model\n",
    "model_3.compile(loss=loss,\n",
    "               optimizer=\"adam\",\n",
    "               metrics=[\"accuracy\"])\n",
    "\n",
    "# Fit the model\n",
    "history_3 = model_3.fit(X_train, y_train,\n",
    "                        epochs=10,\n",
    "                        validation_data=(X_test, y_test))"
   ]
  },
  {
   "cell_type": "code",
   "execution_count": 61,
   "id": "61ca7abd",
   "metadata": {},
   "outputs": [
    {
     "data": {
      "image/png": "[encoded data removed]",
      "text/plain": [
       "<Figure size 432x288 with 1 Axes>"
      ]
     },
     "metadata": {
      "needs_background": "light"
     },
     "output_type": "display_data"
    },
    {
     "data": {
      "image/png": "[encoded data removed]",
      "text/plain": [
       "<Figure size 432x288 with 1 Axes>"
      ]
     },
     "metadata": {
      "needs_background": "light"
     },
     "output_type": "display_data"
    }
   ],
   "source": [
    "import pandas as pd\n",
    "pd.DataFrame(history_1.history).plot();\n",
    "plt.title(\"Non-normalized data\")\n",
    "pd.DataFrame(history_3.history).plot();\n",
    "plt.title(\"Normalized data\");"
   ]
  },
  {
   "cell_type": "code",
   "execution_count": 57,
   "id": "57658600",
   "metadata": {},
   "outputs": [
    {
     "data": {
      "image/png": "[encoded data removed]",
      "text/plain": [
       "<Figure size 432x288 with 1 Axes>"
      ]
     },
     "metadata": {
      "needs_background": "light"
     },
     "output_type": "display_data"
    }
   ],
   "source": [
    "pd.DataFrame(history_3.history).plot();"
   ]
  },
  {
   "cell_type": "markdown",
   "id": "0e49c9a4",
   "metadata": {},
   "source": [
    "Model is performing way better on normalized data."
   ]
  },
  {
   "cell_type": "markdown",
   "id": "248c2f4a",
   "metadata": {},
   "source": [
    "### Finding ideal learning rate"
   ]
  },
  {
   "cell_type": "code",
   "execution_count": 81,
   "id": "3ae3b7eb",
   "metadata": {},
   "outputs": [
    {
     "name": "stdout",
     "output_type": "stream",
     "text": [
      "Epoch 1/40\n",
      "1875/1875 [==============================] - 8s 4ms/step - loss: 1.0348 - accuracy: 0.6474 - val_loss: 0.6937 - val_accuracy: 0.7617\n",
      "Epoch 2/40\n",
      "1875/1875 [==============================] - 7s 4ms/step - loss: 0.6366 - accuracy: 0.7759 - val_loss: 0.6400 - val_accuracy: 0.7808\n",
      "Epoch 3/40\n",
      "1875/1875 [==============================] - 7s 4ms/step - loss: 0.5934 - accuracy: 0.7911 - val_loss: 0.6278 - val_accuracy: 0.7770\n",
      "Epoch 4/40\n",
      "1875/1875 [==============================] - 7s 4ms/step - loss: 0.5749 - accuracy: 0.7969 - val_loss: 0.6122 - val_accuracy: 0.7871\n",
      "Epoch 5/40\n",
      "1875/1875 [==============================] - 8s 4ms/step - loss: 0.5655 - accuracy: 0.7987 - val_loss: 0.6061 - val_accuracy: 0.7913\n",
      "Epoch 6/40\n",
      "1875/1875 [==============================] - 7s 4ms/step - loss: 0.5569 - accuracy: 0.8022 - val_loss: 0.5917 - val_accuracy: 0.7940\n",
      "Epoch 7/40\n",
      "1875/1875 [==============================] - 7s 4ms/step - loss: 0.5542 - accuracy: 0.8036 - val_loss: 0.5898 - val_accuracy: 0.7896\n",
      "Epoch 8/40\n",
      "1875/1875 [==============================] - 7s 4ms/step - loss: 0.5509 - accuracy: 0.8039 - val_loss: 0.5829 - val_accuracy: 0.7949\n",
      "Epoch 9/40\n",
      "1875/1875 [==============================] - 7s 4ms/step - loss: 0.5468 - accuracy: 0.8047 - val_loss: 0.6036 - val_accuracy: 0.7833\n",
      "Epoch 10/40\n",
      "1875/1875 [==============================] - 7s 4ms/step - loss: 0.5478 - accuracy: 0.8058 - val_loss: 0.5736 - val_accuracy: 0.7974\n",
      "Epoch 11/40\n",
      "1875/1875 [==============================] - 7s 4ms/step - loss: 0.5446 - accuracy: 0.8059 - val_loss: 0.5672 - val_accuracy: 0.8016\n",
      "Epoch 12/40\n",
      "1875/1875 [==============================] - 7s 4ms/step - loss: 0.5432 - accuracy: 0.8067 - val_loss: 0.5773 - val_accuracy: 0.7950\n",
      "Epoch 13/40\n",
      "1875/1875 [==============================] - 8s 4ms/step - loss: 0.5425 - accuracy: 0.8056 - val_loss: 0.5775 - val_accuracy: 0.7992\n",
      "Epoch 14/40\n",
      "1875/1875 [==============================] - 7s 4ms/step - loss: 0.5407 - accuracy: 0.8078 - val_loss: 0.5616 - val_accuracy: 0.8075\n",
      "Epoch 15/40\n",
      "1875/1875 [==============================] - 7s 4ms/step - loss: 0.5408 - accuracy: 0.8052 - val_loss: 0.5773 - val_accuracy: 0.8039\n",
      "Epoch 16/40\n",
      "1875/1875 [==============================] - 8s 4ms/step - loss: 0.5437 - accuracy: 0.8058 - val_loss: 0.5682 - val_accuracy: 0.8015\n",
      "Epoch 17/40\n",
      "1875/1875 [==============================] - 7s 4ms/step - loss: 0.5419 - accuracy: 0.8075 - val_loss: 0.5995 - val_accuracy: 0.7964\n",
      "Epoch 18/40\n",
      "1875/1875 [==============================] - 7s 4ms/step - loss: 0.5488 - accuracy: 0.8058 - val_loss: 0.5544 - val_accuracy: 0.8087\n",
      "Epoch 19/40\n",
      "1875/1875 [==============================] - 7s 4ms/step - loss: 0.5506 - accuracy: 0.8042 - val_loss: 0.6068 - val_accuracy: 0.7864\n",
      "Epoch 20/40\n",
      "1875/1875 [==============================] - 7s 4ms/step - loss: 0.5537 - accuracy: 0.8030 - val_loss: 0.5597 - val_accuracy: 0.8076\n",
      "Epoch 21/40\n",
      "1875/1875 [==============================] - 7s 4ms/step - loss: 0.5572 - accuracy: 0.8036 - val_loss: 0.5998 - val_accuracy: 0.7934\n",
      "Epoch 22/40\n",
      "1875/1875 [==============================] - 7s 4ms/step - loss: 0.5615 - accuracy: 0.8013 - val_loss: 0.5756 - val_accuracy: 0.8034\n",
      "Epoch 23/40\n",
      "1875/1875 [==============================] - 8s 4ms/step - loss: 0.5655 - accuracy: 0.8017 - val_loss: 0.6386 - val_accuracy: 0.7668\n",
      "Epoch 24/40\n",
      "1875/1875 [==============================] - 7s 4ms/step - loss: 0.5819 - accuracy: 0.7963 - val_loss: 0.6356 - val_accuracy: 0.7869\n",
      "Epoch 25/40\n",
      "1875/1875 [==============================] - 7s 4ms/step - loss: 0.5810 - accuracy: 0.7977 - val_loss: 0.6481 - val_accuracy: 0.7865\n",
      "Epoch 26/40\n",
      "1875/1875 [==============================] - 7s 4ms/step - loss: 0.5960 - accuracy: 0.7901 - val_loss: 0.6997 - val_accuracy: 0.7802\n",
      "Epoch 27/40\n",
      "1875/1875 [==============================] - 7s 4ms/step - loss: 0.6101 - accuracy: 0.7870 - val_loss: 0.6124 - val_accuracy: 0.7917\n",
      "Epoch 28/40\n",
      "1875/1875 [==============================] - 7s 4ms/step - loss: 0.6178 - accuracy: 0.7846 - val_loss: 0.6137 - val_accuracy: 0.7962\n",
      "Epoch 29/40\n",
      "1875/1875 [==============================] - 7s 4ms/step - loss: 0.6314 - accuracy: 0.7797 - val_loss: 0.6575 - val_accuracy: 0.7634\n",
      "Epoch 30/40\n",
      "1875/1875 [==============================] - 7s 4ms/step - loss: 0.6712 - accuracy: 0.7652 - val_loss: 0.7198 - val_accuracy: 0.7464\n",
      "Epoch 31/40\n",
      "1875/1875 [==============================] - 8s 4ms/step - loss: 0.6846 - accuracy: 0.7582 - val_loss: 0.6830 - val_accuracy: 0.7617\n",
      "Epoch 32/40\n",
      "1875/1875 [==============================] - 7s 4ms/step - loss: 0.7136 - accuracy: 0.7515 - val_loss: 0.8500 - val_accuracy: 0.7369\n",
      "Epoch 33/40\n",
      "1875/1875 [==============================] - 7s 4ms/step - loss: 0.7449 - accuracy: 0.7470 - val_loss: 0.7336 - val_accuracy: 0.7745\n",
      "Epoch 34/40\n",
      "1875/1875 [==============================] - 7s 4ms/step - loss: 0.7724 - accuracy: 0.7390 - val_loss: 1.0478 - val_accuracy: 0.6571\n",
      "Epoch 35/40\n",
      "1875/1875 [==============================] - 7s 4ms/step - loss: 0.8504 - accuracy: 0.7128 - val_loss: 0.9171 - val_accuracy: 0.6950\n",
      "Epoch 36/40\n",
      "1875/1875 [==============================] - 7s 4ms/step - loss: 0.8794 - accuracy: 0.6976 - val_loss: 1.4288 - val_accuracy: 0.5540\n",
      "Epoch 37/40\n",
      "1875/1875 [==============================] - 7s 4ms/step - loss: 0.9891 - accuracy: 0.6573 - val_loss: 0.8894 - val_accuracy: 0.6577\n",
      "Epoch 38/40\n",
      "1875/1875 [==============================] - 7s 4ms/step - loss: 1.0925 - accuracy: 0.5854 - val_loss: 1.3262 - val_accuracy: 0.4494\n",
      "Epoch 39/40\n",
      "1875/1875 [==============================] - 7s 4ms/step - loss: 1.3288 - accuracy: 0.4374 - val_loss: 1.3054 - val_accuracy: 0.4545\n",
      "Epoch 40/40\n",
      "1875/1875 [==============================] - 8s 4ms/step - loss: 2.0315 - accuracy: 0.2179 - val_loss: 2.3111 - val_accuracy: 0.1000\n"
     ]
    }
   ],
   "source": [
    "n_epochs =40\n",
    "# Set random seed\n",
    "tf.random.set_seed(42)\n",
    "\n",
    "# Create a model\n",
    "model_4 = tf.keras.Sequential([\n",
    "    tf.keras.layers.Flatten(),\n",
    "    tf.keras.layers.Dense(4, activation=\"relu\"),\n",
    "    tf.keras.layers.Dense(4, activation=\"relu\"),\n",
    "    tf.keras.layers.Dense(10, activation=\"softmax\")\n",
    "])\n",
    "\n",
    "model_4.compile(loss=loss,\n",
    "               optimizer=\"adam\",\n",
    "               metrics=[\"accuracy\"])\n",
    "\n",
    "lr_scheduler = tf.keras.callbacks.LearningRateScheduler(lambda epoch: 1e-3 * (10 ** (epoch/20)))\n",
    "                                                \n",
    "history_4 = model_4.fit(X_train, y_train, epochs=n_epochs, validation_data=(X_test, y_test), callbacks=[lr_scheduler])                                               "
   ]
  },
  {
   "cell_type": "code",
   "execution_count": 82,
   "id": "2e21e6d4",
   "metadata": {},
   "outputs": [],
   "source": [
    "lr_rates =  1e-3 * (10 ** (tf.range(n_epochs)/20))"
   ]
  },
  {
   "cell_type": "code",
   "execution_count": 83,
   "id": "82d83194",
   "metadata": {},
   "outputs": [
    {
     "data": {
      "text/plain": [
       "Text(0, 0.5, 'Loss')"
      ]
     },
     "execution_count": 83,
     "metadata": {},
     "output_type": "execute_result"
    },
    {
     "data": {
      "image/png": "[encoded data removed]",
      "text/plain": [
       "<Figure size 432x288 with 1 Axes>"
      ]
     },
     "metadata": {
      "needs_background": "light"
     },
     "output_type": "display_data"
    }
   ],
   "source": [
    "# PLot learning rates vs. loss\n",
    "plt.semilogx(lr_rates, pd.DataFrame(history_4.history).loss)\n",
    "plt.title(\"Learning rates vs loss\")\n",
    "plt.xlabel(\"Learning rates\")\n",
    "plt.ylabel(\"Loss\")"
   ]
  },
  {
   "cell_type": "markdown",
   "id": "a6817057",
   "metadata": {},
   "source": [
    "Look like default learing rate (1e-3) is the best. I'll stick with it."
   ]
  },
  {
   "cell_type": "markdown",
   "id": "de447559",
   "metadata": {},
   "source": [
    "Let's do some tuning to achieve ~90% val_accuracy."
   ]
  },
  {
   "cell_type": "code",
   "execution_count": null,
   "id": "9299ec4a",
   "metadata": {},
   "outputs": [],
   "source": [
    "# Let's tune it a little bit\n",
    "\n",
    "# set random state\n",
    "tf.random.set_seed(42)\n",
    "\n",
    "# Create a model\n",
    "model_5 = tf.keras.Sequential([\n",
    "    tf.keras.layers.Flatten(),\n",
    "    tf.keras.layers.Dense(120, activation=\"relu\"),\n",
    "    tf.keras.layers.Dense(80, activation=\"relu\"),\n",
    "    tf.keras.layers.Dense(40, activation=\"relu\"),\n",
    "    tf.keras.layers.Dense(10, activation=\"softmax\")\n",
    "])\n",
    "\n",
    "# Ccompile model\n",
    "model_5.compile(loss=loss,\n",
    "                optimizer=\"adam\",\n",
    "                metrics=[\"accuracy\"]\n",
    "               )\n",
    "\n",
    "# Fit the model\n",
    "model_5.fit(X_train, y_train, epochs=30, validation_data=(X_test, y_test))"
   ]
  },
  {
   "cell_type": "code",
   "execution_count": 101,
   "id": "e4af000b",
   "metadata": {},
   "outputs": [
    {
     "name": "stdout",
     "output_type": "stream",
     "text": [
      "313/313 [==============================] - 1s 3ms/step - loss: 0.3979 - accuracy: 0.8877\n"
     ]
    },
    {
     "data": {
      "text/plain": [
       "[0.39794009923934937, 0.8877000212669373]"
      ]
     },
     "execution_count": 101,
     "metadata": {},
     "output_type": "execute_result"
    }
   ],
   "source": [
    "model_5.evaluate(X_test, y_test)"
   ]
  },
  {
   "cell_type": "markdown",
   "id": "aa810627",
   "metadata": {},
   "source": [
    "## Evaluating multiclass classification model"
   ]
  },
  {
   "cell_type": "code",
   "execution_count": 121,
   "id": "6ab37ee1",
   "metadata": {},
   "outputs": [
    {
     "data": {
      "image/png": "[encoded data removed]",
      "text/plain": [
       "<Figure size 1080x1080 with 2 Axes>"
      ]
     },
     "metadata": {
      "needs_background": "light"
     },
     "output_type": "display_data"
    }
   ],
   "source": [
    "# Confusion matrix\n",
    "y_pred = model_5.predict(X_test)\n",
    "# Turn prediction into numbers of predicted classes\n",
    "y_std = [np.argmax(pred) for pred in y_pred]\n",
    "# PLot conf matrix\n",
    "make_conf_matrix(y_test, y_std, classes=labels,figsize=(15,15), text_size=10)"
   ]
  },
  {
   "cell_type": "code",
   "execution_count": null,
   "id": "148a8b0c",
   "metadata": {},
   "outputs": [],
   "source": []
  }
 ],
 "metadata": {
  "kernelspec": {
   "display_name": "Python 3",
   "language": "python",
   "name": "python3"
  },
  "language_info": {
   "codemirror_mode": {
    "name": "ipython",
    "version": 3
   },
   "file_extension": ".py",
   "mimetype": "text/x-python",
   "name": "python",
   "nbconvert_exporter": "python",
   "pygments_lexer": "ipython3",
   "version": "3.9.6"
  }
 },
 "nbformat": 4,
 "nbformat_minor": 5
}
